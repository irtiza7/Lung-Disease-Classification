{
 "cells": [
  {
   "cell_type": "code",
   "execution_count": 2,
   "id": "d0763325",
   "metadata": {},
   "outputs": [
    {
     "name": "stdout",
     "output_type": "stream",
     "text": [
      "['/device:CPU:0', '/device:GPU:0']\n"
     ]
    }
   ],
   "source": [
    "from tensorflow.python.client import device_lib\n",
    "\n",
    "def get_available_devices():\n",
    "    local_device_protos = device_lib.list_local_devices()\n",
    "    return [x.name for x in local_device_protos]\n",
    "\n",
    "print(get_available_devices())\n",
    "\n",
    "#%%timeit -n1 -r1"
   ]
  },
  {
   "cell_type": "code",
   "execution_count": 39,
   "id": "cf8cde64",
   "metadata": {},
   "outputs": [],
   "source": [
    "import os\n",
    "\n",
    "import numpy as np\n",
    "import pandas as pd\n",
    "import tensorflow as tf\n",
    "\n",
    "from glob import glob\n",
    "from tqdm import tqdm\n",
    "from sklearn.preprocessing import MultiLabelBinarizer\n",
    "from sklearn.model_selection import train_test_split\n",
    "from keras.preprocessing import image\n",
    "from tqdm import tqdm\n",
    "from tensorflow.keras.applications.vgg16 import VGG16\n",
    "from tensorflow.keras.applications.resnet50 import ResNet50\n",
    "from tensorflow.keras import layers\n",
    "from tensorflow.keras import models"
   ]
  },
  {
   "cell_type": "code",
   "execution_count": 20,
   "id": "23629e84",
   "metadata": {},
   "outputs": [],
   "source": [
    "def get_image_labels():\n",
    "#     columns_to_drop = [\n",
    "#         'Follow-up #', 'Patient ID', 'Patient Age', 'Patient Gender', 'View Position', 'OriginalImage[Width', 'Height]',\n",
    "#         'OriginalImagePixelSpacing[x', 'y]', 'Unnamed: 11'\n",
    "#     ]\n",
    "    \n",
    "    columns_to_drop = [\n",
    "        'Follow-up #', 'Patient ID', 'Patient Age', 'Patient Gender', 'View Position', 'OriginalImage[Width', 'Height]',\n",
    "        'OriginalImagePixelSpacing[x', 'y]'\n",
    "    ]\n",
    "    \n",
    "    df = pd.read_csv('C:\\\\Users\\\\m7irt\\\\OneDrive\\\\Desktop\\\\NIHCC ChestXray\\\\Data_Entry_2017.csv')\n",
    "    df = df.drop(columns = columns_to_drop)\n",
    "    \n",
    "    image_label_dict = {}\n",
    "    for row in tqdm(range(112120), desc = \"Progress\"):\n",
    "        image_name = df.iat[row, 0]\n",
    "        disease_name = df.iat[row, 1]\n",
    "        disease_name = disease_name.split(\"|\")\n",
    "        image_label_dict[image_name] = disease_name\n",
    "        \n",
    "    return image_label_dict"
   ]
  },
  {
   "cell_type": "code",
   "execution_count": 21,
   "id": "b0a7d5f2",
   "metadata": {},
   "outputs": [],
   "source": [
    "def get_image_paths():\n",
    "    image_paths = {}\n",
    "    paths = glob(os.path.join('images', '*.png'))\n",
    "    for path in tqdm(paths, desc = \"Progress\"):\n",
    "        image_name = os.path.basename(path)\n",
    "        image_name = image_name.strip(\".png\")\n",
    "        image_paths[image_name] = path\n",
    "    \n",
    "    return image_paths"
   ]
  },
  {
   "cell_type": "code",
   "execution_count": 40,
   "id": "13d78b0c",
   "metadata": {},
   "outputs": [],
   "source": [
    "def labels_to_array(image_labels):\n",
    "    labels = []\n",
    "    paths = glob(os.path.join('images', '*.png'))\n",
    "    for path in paths:\n",
    "        image_name = os.path.basename(path)\n",
    "        #image_name = image_name.strip(\".png\")\n",
    "        labels.append(image_labels[image_name])\n",
    "        \n",
    "    return labels"
   ]
  },
  {
   "cell_type": "code",
   "execution_count": 50,
   "id": "b22d50f1",
   "metadata": {},
   "outputs": [],
   "source": [
    "def get_meta_information_dataframe():\n",
    "    column_names = [\"Image_Name\", \"Image_Path\", \"Binary_Image_Labels\", \"Image_Labels\", \"Image_Labels_List\"]\n",
    "    meta_data = pd.DataFrame(columns = column_names)\n",
    "    print(meta_data)\n",
    "    return meta_data"
   ]
  },
  {
   "cell_type": "code",
   "execution_count": 51,
   "id": "8cfb4b36",
   "metadata": {},
   "outputs": [
    {
     "name": "stdout",
     "output_type": "stream",
     "text": [
      "Empty DataFrame\n",
      "Columns: [Image_Name, Image_Path, Binary_Image_Labels, Image_Labels, Image_Labels_List]\n",
      "Index: []\n"
     ]
    }
   ],
   "source": [
    "meta_information_dataframe = get_meta_information_dataframe()"
   ]
  },
  {
   "cell_type": "code",
   "execution_count": 22,
   "id": "4cdae97d",
   "metadata": {},
   "outputs": [
    {
     "name": "stderr",
     "output_type": "stream",
     "text": [
      "Progress: 100%|██████████| 112120/112120 [00:05<00:00, 21533.79it/s]"
     ]
    },
    {
     "name": "stdout",
     "output_type": "stream",
     "text": [
      "Cardiomegaly|Emphysema\n"
     ]
    },
    {
     "name": "stderr",
     "output_type": "stream",
     "text": [
      "\n"
     ]
    }
   ],
   "source": [
    "image_labels = get_image_labels()"
   ]
  },
  {
   "cell_type": "code",
   "execution_count": 26,
   "id": "af4f45ba",
   "metadata": {},
   "outputs": [
    {
     "name": "stdout",
     "output_type": "stream",
     "text": [
      "['Cardiomegaly']\n",
      "['Cardiomegaly', 'Emphysema']\n",
      "['Cardiomegaly', 'Effusion']\n"
     ]
    }
   ],
   "source": [
    "print(image_labels[\"00000001_000.png\"])\n",
    "print(image_labels[\"00000001_001.png\"])\n",
    "print(image_labels[\"00000001_002.png\"])"
   ]
  },
  {
   "cell_type": "code",
   "execution_count": 41,
   "id": "92285bf3",
   "metadata": {},
   "outputs": [],
   "source": [
    "labels_array = labels_to_array(image_labels)"
   ]
  },
  {
   "cell_type": "code",
   "execution_count": 42,
   "id": "e8a66fbe",
   "metadata": {},
   "outputs": [
    {
     "name": "stdout",
     "output_type": "stream",
     "text": [
      "[['Cardiomegaly'], ['Cardiomegaly', 'Emphysema'], ['Cardiomegaly', 'Effusion'], ['No Finding'], ['Hernia'], ['Hernia'], ['Hernia'], ['Hernia', 'Infiltration'], ['Hernia'], ['Hernia'], ['Hernia'], ['Hernia'], ['Mass', 'Nodule'], ['No Finding'], ['No Finding'], ['No Finding'], ['No Finding'], ['No Finding'], ['No Finding'], ['Infiltration']]\n"
     ]
    }
   ],
   "source": [
    "print(labels_array[0:20])"
   ]
  },
  {
   "cell_type": "code",
   "execution_count": 45,
   "id": "7436a612",
   "metadata": {},
   "outputs": [
    {
     "name": "stdout",
     "output_type": "stream",
     "text": [
      "[[0 1 0 0 0 0 0 0 0 0 0 0 0 0 0]\n",
      " [0 1 0 0 0 1 0 0 0 0 0 0 0 0 0]\n",
      " [0 1 0 0 1 0 0 0 0 0 0 0 0 0 0]\n",
      " [0 0 0 0 0 0 0 0 0 0 1 0 0 0 0]\n",
      " [0 0 0 0 0 0 0 1 0 0 0 0 0 0 0]\n",
      " [0 0 0 0 0 0 0 1 0 0 0 0 0 0 0]\n",
      " [0 0 0 0 0 0 0 1 0 0 0 0 0 0 0]\n",
      " [0 0 0 0 0 0 0 1 1 0 0 0 0 0 0]\n",
      " [0 0 0 0 0 0 0 1 0 0 0 0 0 0 0]\n",
      " [0 0 0 0 0 0 0 1 0 0 0 0 0 0 0]\n",
      " [0 0 0 0 0 0 0 1 0 0 0 0 0 0 0]\n",
      " [0 0 0 0 0 0 0 1 0 0 0 0 0 0 0]\n",
      " [0 0 0 0 0 0 0 0 0 1 0 1 0 0 0]\n",
      " [0 0 0 0 0 0 0 0 0 0 1 0 0 0 0]\n",
      " [0 0 0 0 0 0 0 0 0 0 1 0 0 0 0]\n",
      " [0 0 0 0 0 0 0 0 0 0 1 0 0 0 0]\n",
      " [0 0 0 0 0 0 0 0 0 0 1 0 0 0 0]\n",
      " [0 0 0 0 0 0 0 0 0 0 1 0 0 0 0]\n",
      " [0 0 0 0 0 0 0 0 0 0 1 0 0 0 0]\n",
      " [0 0 0 0 0 0 0 0 1 0 0 0 0 0 0]]\n",
      "['Atelectasis' 'Cardiomegaly' 'Consolidation' 'Edema' 'Effusion'\n",
      " 'Emphysema' 'Fibrosis' 'Hernia' 'Infiltration' 'Mass' 'No Finding'\n",
      " 'Nodule' 'Pleural_Thickening' 'Pneumonia' 'Pneumothorax']\n"
     ]
    }
   ],
   "source": [
    "binarizer = MultiLabelBinarizer()\n",
    "one_hot = binarizer.fit_transform(labels_array)\n",
    "print(one_hot[0:20])\n",
    "print(binarizer.classes_)"
   ]
  },
  {
   "cell_type": "code",
   "execution_count": 19,
   "id": "52aad419",
   "metadata": {},
   "outputs": [
    {
     "name": "stderr",
     "output_type": "stream",
     "text": [
      "Progress: 100%|██████████| 112120/112120 [00:00<00:00, 236487.04it/s]\n"
     ]
    }
   ],
   "source": [
    "image_paths = get_image_paths()"
   ]
  },
  {
   "cell_type": "code",
   "execution_count": 3,
   "id": "c82009a7",
   "metadata": {},
   "outputs": [
    {
     "ename": "ValueError",
     "evalue": "If using `weights` as `\"imagenet\"` with `include_top` as true, `classes` should be 1000",
     "output_type": "error",
     "traceback": [
      "\u001b[1;31m---------------------------------------------------------------------------\u001b[0m",
      "\u001b[1;31mValueError\u001b[0m                                Traceback (most recent call last)",
      "Input \u001b[1;32mIn [3]\u001b[0m, in \u001b[0;36m<cell line: 1>\u001b[1;34m()\u001b[0m\n\u001b[1;32m----> 1\u001b[0m resnet50_model \u001b[38;5;241m=\u001b[39m \u001b[43mResNet50\u001b[49m\u001b[43m(\u001b[49m\n\u001b[0;32m      2\u001b[0m \u001b[43m    \u001b[49m\u001b[43minclude_top\u001b[49m\u001b[43m \u001b[49m\u001b[38;5;241;43m=\u001b[39;49m\u001b[43m \u001b[49m\u001b[38;5;28;43;01mTrue\u001b[39;49;00m\u001b[43m,\u001b[49m\n\u001b[0;32m      3\u001b[0m \u001b[43m    \u001b[49m\u001b[38;5;66;43;03m#weights = 'imagenet',\u001b[39;49;00m\n\u001b[0;32m      4\u001b[0m \u001b[43m    \u001b[49m\u001b[43minput_tensor\u001b[49m\u001b[43m \u001b[49m\u001b[38;5;241;43m=\u001b[39;49m\u001b[43m \u001b[49m\u001b[38;5;28;43;01mNone\u001b[39;49;00m\u001b[43m,\u001b[49m\n\u001b[0;32m      5\u001b[0m \u001b[43m    \u001b[49m\u001b[43minput_shape\u001b[49m\u001b[43m \u001b[49m\u001b[38;5;241;43m=\u001b[39;49m\u001b[43m \u001b[49m\u001b[38;5;28;43;01mNone\u001b[39;49;00m\u001b[43m,\u001b[49m\n\u001b[0;32m      6\u001b[0m \u001b[43m    \u001b[49m\u001b[43mpooling\u001b[49m\u001b[43m \u001b[49m\u001b[38;5;241;43m=\u001b[39;49m\u001b[43m \u001b[49m\u001b[38;5;28;43;01mNone\u001b[39;49;00m\u001b[43m,\u001b[49m\n\u001b[0;32m      7\u001b[0m \u001b[43m    \u001b[49m\u001b[43mclasses\u001b[49m\u001b[43m \u001b[49m\u001b[38;5;241;43m=\u001b[39;49m\u001b[43m \u001b[49m\u001b[38;5;241;43m15\u001b[39;49m\u001b[43m,\u001b[49m\n\u001b[0;32m      8\u001b[0m \u001b[43m    \u001b[49m\u001b[43mclassifier_activation\u001b[49m\u001b[43m \u001b[49m\u001b[38;5;241;43m=\u001b[39;49m\u001b[43m \u001b[49m\u001b[38;5;124;43m\"\u001b[39;49m\u001b[38;5;124;43msoftmax\u001b[39;49m\u001b[38;5;124;43m\"\u001b[39;49m\n\u001b[0;32m      9\u001b[0m \u001b[43m)\u001b[49m\n",
      "File \u001b[1;32m~\\anaconda3\\envs\\tf-gpu\\lib\\site-packages\\keras\\applications\\resnet.py:458\u001b[0m, in \u001b[0;36mResNet50\u001b[1;34m(include_top, weights, input_tensor, input_shape, pooling, classes, **kwargs)\u001b[0m\n\u001b[0;32m    455\u001b[0m   x \u001b[38;5;241m=\u001b[39m stack1(x, \u001b[38;5;241m256\u001b[39m, \u001b[38;5;241m6\u001b[39m, name\u001b[38;5;241m=\u001b[39m\u001b[38;5;124m'\u001b[39m\u001b[38;5;124mconv4\u001b[39m\u001b[38;5;124m'\u001b[39m)\n\u001b[0;32m    456\u001b[0m   \u001b[38;5;28;01mreturn\u001b[39;00m stack1(x, \u001b[38;5;241m512\u001b[39m, \u001b[38;5;241m3\u001b[39m, name\u001b[38;5;241m=\u001b[39m\u001b[38;5;124m'\u001b[39m\u001b[38;5;124mconv5\u001b[39m\u001b[38;5;124m'\u001b[39m)\n\u001b[1;32m--> 458\u001b[0m \u001b[38;5;28;01mreturn\u001b[39;00m ResNet(stack_fn, \u001b[38;5;28;01mFalse\u001b[39;00m, \u001b[38;5;28;01mTrue\u001b[39;00m, \u001b[38;5;124m'\u001b[39m\u001b[38;5;124mresnet50\u001b[39m\u001b[38;5;124m'\u001b[39m, include_top, weights,\n\u001b[0;32m    459\u001b[0m               input_tensor, input_shape, pooling, classes, \u001b[38;5;241m*\u001b[39m\u001b[38;5;241m*\u001b[39mkwargs)\n",
      "File \u001b[1;32m~\\anaconda3\\envs\\tf-gpu\\lib\\site-packages\\keras\\applications\\resnet.py:131\u001b[0m, in \u001b[0;36mResNet\u001b[1;34m(stack_fn, preact, use_bias, model_name, include_top, weights, input_tensor, input_shape, pooling, classes, classifier_activation, **kwargs)\u001b[0m\n\u001b[0;32m    125\u001b[0m   \u001b[38;5;28;01mraise\u001b[39;00m \u001b[38;5;167;01mValueError\u001b[39;00m(\u001b[38;5;124m'\u001b[39m\u001b[38;5;124mThe `weights` argument should be either \u001b[39m\u001b[38;5;124m'\u001b[39m\n\u001b[0;32m    126\u001b[0m                    \u001b[38;5;124m'\u001b[39m\u001b[38;5;124m`None` (random initialization), `imagenet` \u001b[39m\u001b[38;5;124m'\u001b[39m\n\u001b[0;32m    127\u001b[0m                    \u001b[38;5;124m'\u001b[39m\u001b[38;5;124m(pre-training on ImageNet), \u001b[39m\u001b[38;5;124m'\u001b[39m\n\u001b[0;32m    128\u001b[0m                    \u001b[38;5;124m'\u001b[39m\u001b[38;5;124mor the path to the weights file to be loaded.\u001b[39m\u001b[38;5;124m'\u001b[39m)\n\u001b[0;32m    130\u001b[0m \u001b[38;5;28;01mif\u001b[39;00m weights \u001b[38;5;241m==\u001b[39m \u001b[38;5;124m'\u001b[39m\u001b[38;5;124mimagenet\u001b[39m\u001b[38;5;124m'\u001b[39m \u001b[38;5;129;01mand\u001b[39;00m include_top \u001b[38;5;129;01mand\u001b[39;00m classes \u001b[38;5;241m!=\u001b[39m \u001b[38;5;241m1000\u001b[39m:\n\u001b[1;32m--> 131\u001b[0m   \u001b[38;5;28;01mraise\u001b[39;00m \u001b[38;5;167;01mValueError\u001b[39;00m(\u001b[38;5;124m'\u001b[39m\u001b[38;5;124mIf using `weights` as `\u001b[39m\u001b[38;5;124m\"\u001b[39m\u001b[38;5;124mimagenet\u001b[39m\u001b[38;5;124m\"\u001b[39m\u001b[38;5;124m` with `include_top`\u001b[39m\u001b[38;5;124m'\u001b[39m\n\u001b[0;32m    132\u001b[0m                    \u001b[38;5;124m'\u001b[39m\u001b[38;5;124m as true, `classes` should be 1000\u001b[39m\u001b[38;5;124m'\u001b[39m)\n\u001b[0;32m    134\u001b[0m \u001b[38;5;66;03m# Determine proper input shape\u001b[39;00m\n\u001b[0;32m    135\u001b[0m input_shape \u001b[38;5;241m=\u001b[39m imagenet_utils\u001b[38;5;241m.\u001b[39mobtain_input_shape(\n\u001b[0;32m    136\u001b[0m     input_shape,\n\u001b[0;32m    137\u001b[0m     default_size\u001b[38;5;241m=\u001b[39m\u001b[38;5;241m224\u001b[39m,\n\u001b[1;32m   (...)\u001b[0m\n\u001b[0;32m    140\u001b[0m     require_flatten\u001b[38;5;241m=\u001b[39minclude_top,\n\u001b[0;32m    141\u001b[0m     weights\u001b[38;5;241m=\u001b[39mweights)\n",
      "\u001b[1;31mValueError\u001b[0m: If using `weights` as `\"imagenet\"` with `include_top` as true, `classes` should be 1000"
     ]
    }
   ],
   "source": [
    "resnet50_model = ResNet50(\n",
    "    include_top = False,\n",
    "    weights = 'imagenet',\n",
    "    input_tensor = None,\n",
    "    input_shape = None,\n",
    "    pooling = None,\n",
    "    classes = 15,\n",
    "    classifier_activation = \"softmax\"\n",
    ")"
   ]
  },
  {
   "cell_type": "code",
   "execution_count": null,
   "id": "4795c919",
   "metadata": {},
   "outputs": [],
   "source": []
  }
 ],
 "metadata": {
  "kernelspec": {
   "display_name": "Python 3 (ipykernel)",
   "language": "python",
   "name": "python3"
  },
  "language_info": {
   "codemirror_mode": {
    "name": "ipython",
    "version": 3
   },
   "file_extension": ".py",
   "mimetype": "text/x-python",
   "name": "python",
   "nbconvert_exporter": "python",
   "pygments_lexer": "ipython3",
   "version": "3.9.13"
  }
 },
 "nbformat": 4,
 "nbformat_minor": 5
}
