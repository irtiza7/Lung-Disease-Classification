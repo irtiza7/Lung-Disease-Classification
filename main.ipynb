{
 "cells": [
  {
   "cell_type": "code",
   "execution_count": 109,
   "id": "d0763325",
   "metadata": {},
   "outputs": [
    {
     "name": "stdout",
     "output_type": "stream",
     "text": [
      "['/device:CPU:0', '/device:GPU:0']\n"
     ]
    }
   ],
   "source": [
    "from tensorflow.python.client import device_lib\n",
    "\n",
    "def get_available_devices():\n",
    "    local_device_protos = device_lib.list_local_devices()\n",
    "    return [x.name for x in local_device_protos]\n",
    "\n",
    "print(get_available_devices())\n",
    "\n",
    "#%%timeit -n1 -r1"
   ]
  },
  {
   "cell_type": "code",
   "execution_count": 110,
   "id": "cf8cde64",
   "metadata": {},
   "outputs": [],
   "source": [
    "import os\n",
    "import albumentations\n",
    "\n",
    "import numpy as np\n",
    "import pandas as pd\n",
    "import tensorflow as tf"
   ]
  },
  {
   "cell_type": "code",
   "execution_count": 111,
   "id": "e5463fc7",
   "metadata": {},
   "outputs": [],
   "source": [
    "from glob import glob\n",
    "from tqdm import tqdm\n",
    "from sklearn.preprocessing import MultiLabelBinarizer\n",
    "from sklearn.model_selection import train_test_split\n",
    "from keras.preprocessing import image\n",
    "from tensorflow.keras.applications.vgg16 import VGG16\n",
    "from tensorflow.keras.applications.resnet50 import ResNet50\n",
    "from tensorflow.keras import layers\n",
    "from tensorflow.keras import models"
   ]
  },
  {
   "cell_type": "code",
   "execution_count": 112,
   "id": "23629e84",
   "metadata": {},
   "outputs": [],
   "source": [
    "def get_image_labels():\n",
    "    df = pd.read_csv('C:\\\\Users\\\\m7irt\\\\OneDrive\\\\Desktop\\\\NIHCC ChestXray\\\\Data_Entry_2017.csv')\n",
    "    \n",
    "    columns_to_drop = [\n",
    "        'Follow-up #', 'Patient ID', 'Patient Age', 'Patient Gender', 'View Position', 'OriginalImage[Width', 'Height]',\n",
    "        'OriginalImagePixelSpacing[x', 'y]'\n",
    "    ]\n",
    "    df = df.drop(columns = columns_to_drop)\n",
    "    image_label_dict = {}\n",
    "    \n",
    "    for row in range(112120):\n",
    "        image_name = df.iat[row, 0]\n",
    "        image_name = image_name.strip(\".png\")\n",
    "        disease_name = df.iat[row, 1]\n",
    "        disease_name = disease_name.split(\"|\")\n",
    "        image_label_dict[image_name] = disease_name\n",
    "        \n",
    "    return image_label_dict"
   ]
  },
  {
   "cell_type": "code",
   "execution_count": 113,
   "id": "ddadde7f",
   "metadata": {},
   "outputs": [],
   "source": [
    "def get_image_paths():\n",
    "    image_paths = {}\n",
    "    paths = glob(os.path.join('images', '*.png'))\n",
    "    \n",
    "    for path in paths:\n",
    "        image_name = os.path.basename(path)\n",
    "        image_name = image_name.strip(\".png\")\n",
    "        image_paths[image_name] = path\n",
    "    \n",
    "    return image_paths"
   ]
  },
  {
   "cell_type": "code",
   "execution_count": 114,
   "id": "7c43c3f7",
   "metadata": {},
   "outputs": [],
   "source": [
    "def labels_to_array(image_labels, paths):\n",
    "    labels = []\n",
    "    \n",
    "    for path in paths:\n",
    "        image_name = os.path.basename(path)\n",
    "        image_name = image_name.strip(\".png\")\n",
    "        labels.append(image_labels[image_name])\n",
    "        \n",
    "    return labels"
   ]
  },
  {
   "cell_type": "code",
   "execution_count": 115,
   "id": "6f7dec4e",
   "metadata": {},
   "outputs": [],
   "source": [
    "def get_meta_information():\n",
    "    column_names = [\"Image_Name\", \"Image_Path\", \"Binary_Image_Labels\", \"Image_Labels\", \"Image_Labels_List\"]\n",
    "    indexes = [index for index in range(112120)]\n",
    "    \n",
    "    meta_data = pd.DataFrame(index = indexes, columns = column_names)\n",
    "    \n",
    "    image_paths = glob(os.path.join('images', '*.png'))\n",
    "    total_image_samples = len(image_paths)\n",
    "    image_labels = get_image_labels()\n",
    "    labels_list = labels_to_array(image_labels, image_paths)\n",
    "    \n",
    "    binarizer = MultiLabelBinarizer()\n",
    "    binary_labels = binarizer.fit_transform(labels_list)\n",
    "    \n",
    "    for index in tqdm(range(total_image_samples), desc = \"Progress\"):\n",
    "        path = image_paths[index]\n",
    "        name = os.path.basename(path)\n",
    "        name = name.strip(\".png\")\n",
    "        \n",
    "        label_binary = binary_labels[index]\n",
    "        label_string = '|'.join(image_labels[name])\n",
    "        label_list = labels_list[index]\n",
    "        \n",
    "        # Setting value for Image_Name\n",
    "        column = column_names[0]\n",
    "        meta_data[column][index] = name\n",
    "        \n",
    "        # Setting value for Image_Path\n",
    "        column = column_names[1]\n",
    "        meta_data[column][index] = path\n",
    "        \n",
    "        # Setting value for Binary_Image_Labels\n",
    "        column = column_names[2]\n",
    "        meta_data[column][index] = label_binary\n",
    "        \n",
    "        # Setting value for Image_Labels\n",
    "        column = column_names[3]\n",
    "        meta_data[column][index] = label_string\n",
    "        \n",
    "        # Setting value for Image_Labels_List\n",
    "        column = column_names[4]\n",
    "        meta_data[column][index] = label_list\n",
    "    \n",
    "    meta_data.to_csv('meta_data.csv')\n",
    "    return meta_data"
   ]
  },
  {
   "cell_type": "code",
   "execution_count": 116,
   "id": "733be657",
   "metadata": {},
   "outputs": [
    {
     "name": "stderr",
     "output_type": "stream",
     "text": [
      "Progress: 100%|██████████| 112120/112120 [07:37<00:00, 245.30it/s]\n"
     ]
    }
   ],
   "source": [
    "dataset_info = get_meta_information()"
   ]
  },
  {
   "cell_type": "code",
   "execution_count": 117,
   "id": "d862138d",
   "metadata": {},
   "outputs": [],
   "source": [
    "# resnet50_model = ResNet50(\n",
    "#     include_top = False,\n",
    "#     weights = 'imagenet',\n",
    "#     input_tensor = None,\n",
    "#     input_shape = None,\n",
    "#     pooling = None,\n",
    "#     classes = 15,\n",
    "#     classifier_activation = \"softmax\"\n",
    "# )"
   ]
  },
  {
   "cell_type": "code",
   "execution_count": null,
   "id": "2dceaac6",
   "metadata": {},
   "outputs": [],
   "source": []
  }
 ],
 "metadata": {
  "kernelspec": {
   "display_name": "Python 3 (ipykernel)",
   "language": "python",
   "name": "python3"
  },
  "language_info": {
   "codemirror_mode": {
    "name": "ipython",
    "version": 3
   },
   "file_extension": ".py",
   "mimetype": "text/x-python",
   "name": "python",
   "nbconvert_exporter": "python",
   "pygments_lexer": "ipython3",
   "version": "3.9.13"
  }
 },
 "nbformat": 4,
 "nbformat_minor": 5
}
