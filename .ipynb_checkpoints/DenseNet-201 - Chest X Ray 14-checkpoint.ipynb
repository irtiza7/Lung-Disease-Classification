{
 "cells": [
  {
   "cell_type": "code",
   "execution_count": 39,
   "metadata": {
    "_cell_guid": "b1076dfc-b9ad-4769-8c92-a6c4dae69d19",
    "_uuid": "8f2839f25d086af736a60e9eeb907d3b93b6e0e5",
    "execution": {
     "iopub.execute_input": "2022-11-22T18:26:24.104857Z",
     "iopub.status.busy": "2022-11-22T18:26:24.104403Z",
     "iopub.status.idle": "2022-11-22T18:26:25.378909Z",
     "shell.execute_reply": "2022-11-22T18:26:25.378107Z",
     "shell.execute_reply.started": "2022-11-22T18:26:24.104774Z"
    }
   },
   "outputs": [],
   "source": [
    "import os\n",
    "import time\n",
    "\n",
    "import numpy as np\n",
    "import pandas as pd\n",
    "import tensorflow as tf\n",
    "import matplotlib.pyplot as plt\n",
    "\n",
    "from keras.preprocessing import image\n",
    "from glob import glob\n",
    "from tqdm import tqdm\n",
    "from sklearn.utils import shuffle\n",
    "from keras.layers import Conv2D, MaxPooling2D, GlobalAveragePooling2D, Dropout, Flatten, Dense\n",
    "from keras.models import Sequential, Model\n",
    "from keras.layers import BatchNormalization\n",
    "from keras import regularizers, applications, optimizers, initializers\n",
    "from keras.preprocessing.image import ImageDataGenerator\n",
    "from keras import backend as K\n",
    "from tensorflow.keras.applications.densenet import DenseNet201\n",
    "from keras.callbacks import ModelCheckpoint, CSVLogger, EarlyStopping"
   ]
  },
  {
   "cell_type": "code",
   "execution_count": 60,
   "metadata": {},
   "outputs": [],
   "source": [
    "def binary_accuracy(y_true, y_pred):\n",
    "    return K.mean(K.equal(y_true, K.round(y_pred)))\n",
    "\n",
    "def precision_threshold(threshold = 0.5):\n",
    "    def precision(y_true, y_pred):\n",
    "        threshold_value = threshold\n",
    "        y_pred = K.cast(K.greater(K.clip(y_pred, 0, 1), threshold_value), K.floatx())\n",
    "        true_positives = K.round(K.sum(K.clip(y_true * y_pred, 0, 1)))\n",
    "        predicted_positives = K.sum(y_pred)\n",
    "        precision_ratio = true_positives / (predicted_positives + K.epsilon())\n",
    "        return precision_ratio\n",
    "    return precision\n",
    "\n",
    "def recall_threshold(threshold = 0.5):\n",
    "    def recall(y_true, y_pred):\n",
    "        threshold_value = threshold\n",
    "        y_pred = K.cast(K.greater(K.clip(y_pred, 0, 1), threshold_value), K.floatx())\n",
    "        true_positives = K.round(K.sum(K.clip(y_true * y_pred, 0, 1)))\n",
    "        possible_positives = K.sum(K.clip(y_true, 0, 1))\n",
    "        recall_ratio = true_positives / (possible_positives + K.epsilon())\n",
    "        return recall_ratio\n",
    "    return recall\n",
    "\n",
    "def fbeta_score_threshold(beta = 1, threshold = 0.5):\n",
    "    def fbeta_score(y_true, y_pred):\n",
    "        threshold_value = threshold\n",
    "        beta_value = beta\n",
    "        p = precision_threshold(threshold_value)(y_true, y_pred)\n",
    "        r = recall_threshold(threshold_value)(y_true, y_pred)\n",
    "        bb = beta_value ** 2\n",
    "        fbeta_score = (1 + bb) * (p * r) / (bb * p + r + K.epsilon())\n",
    "        return fbeta_score\n",
    "    return fbeta_score\n",
    "\n",
    "def calculate_cm(y_true, y_pred):\n",
    "    fp = np.sum((y_pred == 1) & (y_true == 0))\n",
    "    tp = np.sum((y_pred == 1) & (y_true == 1))\n",
    "    fn = np.sum((y_pred == 0) & (y_true == 1))\n",
    "    tn = np.sum((y_pred == 0) & (y_true == 0))\n",
    "    return tp, fp, fn, tn\n",
    "\n",
    "def calculate_recall(tp, fp, fn, tn):\n",
    "    return (tp)/(tp + fn)\n",
    "\n",
    "def calculate_fallout(tp, fp, fn, tn):\n",
    "    return (fp)/(fp + tn)\n",
    "\n",
    "def calculate_fpr_tpr(y_true, y_pred):\n",
    "    tp, fp, fn, tn = calculate_cm(y_true, y_pred)\n",
    "    tpr = calculate_recall(tp, fp, fn, tn)\n",
    "    fpr = calculate_fallout(tp, fp, fn, tn)\n",
    "    return fpr, tpr"
   ]
  },
  {
   "cell_type": "code",
   "execution_count": null,
   "metadata": {},
   "outputs": [],
   "source": [
    "# earlystop = EarlyStopping(monitor='val_loss', min_delta=0, patience=4, verbose=1, mode='auto')\n",
    "# log = CSVLogger('saved_models/log_pretrained_CNN.csv')\n",
    "# checkpointer = ModelCheckpoint(filepath='saved_models/pretrainedDenseNet.best.from_scratch.hdf5', verbose=1, save_best_only=True)"
   ]
  },
  {
   "cell_type": "code",
   "execution_count": 41,
   "metadata": {},
   "outputs": [],
   "source": [
    "df = pd.read_csv('./dataset_information/Data_Entry_2017.csv')\n",
    "\n",
    "diseases = [\n",
    "    'Cardiomegaly','Emphysema','Effusion','Hernia','Nodule',\n",
    "    'Pneumothorax','Atelectasis','Pleural_Thickening','Mass','Edema',\n",
    "    'Consolidation','Infiltration','Fibrosis','Pneumonia'\n",
    "]"
   ]
  },
  {
   "cell_type": "code",
   "execution_count": 42,
   "metadata": {},
   "outputs": [
    {
     "data": {
      "text/html": [
       "<div>\n",
       "<style scoped>\n",
       "    .dataframe tbody tr th:only-of-type {\n",
       "        vertical-align: middle;\n",
       "    }\n",
       "\n",
       "    .dataframe tbody tr th {\n",
       "        vertical-align: top;\n",
       "    }\n",
       "\n",
       "    .dataframe thead th {\n",
       "        text-align: right;\n",
       "    }\n",
       "</style>\n",
       "<table border=\"1\" class=\"dataframe\">\n",
       "  <thead>\n",
       "    <tr style=\"text-align: right;\">\n",
       "      <th></th>\n",
       "      <th>Image Index</th>\n",
       "      <th>Finding Labels</th>\n",
       "      <th>Follow-up #</th>\n",
       "      <th>Patient ID</th>\n",
       "      <th>Patient Age</th>\n",
       "      <th>Patient Gender</th>\n",
       "      <th>View Position</th>\n",
       "      <th>OriginalImage[Width</th>\n",
       "      <th>Height]</th>\n",
       "      <th>OriginalImagePixelSpacing[x</th>\n",
       "      <th>...</th>\n",
       "      <th>Nodule</th>\n",
       "      <th>Pneumothorax</th>\n",
       "      <th>Atelectasis</th>\n",
       "      <th>Pleural_Thickening</th>\n",
       "      <th>Mass</th>\n",
       "      <th>Edema</th>\n",
       "      <th>Consolidation</th>\n",
       "      <th>Infiltration</th>\n",
       "      <th>Fibrosis</th>\n",
       "      <th>Pneumonia</th>\n",
       "    </tr>\n",
       "  </thead>\n",
       "  <tbody>\n",
       "    <tr>\n",
       "      <th>0</th>\n",
       "      <td>00000001_000.png</td>\n",
       "      <td>Cardiomegaly</td>\n",
       "      <td>0</td>\n",
       "      <td>1</td>\n",
       "      <td>058Y</td>\n",
       "      <td>M</td>\n",
       "      <td>PA</td>\n",
       "      <td>2682</td>\n",
       "      <td>2749</td>\n",
       "      <td>0.143</td>\n",
       "      <td>...</td>\n",
       "      <td>0</td>\n",
       "      <td>0</td>\n",
       "      <td>0</td>\n",
       "      <td>0</td>\n",
       "      <td>0</td>\n",
       "      <td>0</td>\n",
       "      <td>0</td>\n",
       "      <td>0</td>\n",
       "      <td>0</td>\n",
       "      <td>0</td>\n",
       "    </tr>\n",
       "    <tr>\n",
       "      <th>1</th>\n",
       "      <td>00000001_001.png</td>\n",
       "      <td>Cardiomegaly|Emphysema</td>\n",
       "      <td>1</td>\n",
       "      <td>1</td>\n",
       "      <td>058Y</td>\n",
       "      <td>M</td>\n",
       "      <td>PA</td>\n",
       "      <td>2894</td>\n",
       "      <td>2729</td>\n",
       "      <td>0.143</td>\n",
       "      <td>...</td>\n",
       "      <td>0</td>\n",
       "      <td>0</td>\n",
       "      <td>0</td>\n",
       "      <td>0</td>\n",
       "      <td>0</td>\n",
       "      <td>0</td>\n",
       "      <td>0</td>\n",
       "      <td>0</td>\n",
       "      <td>0</td>\n",
       "      <td>0</td>\n",
       "    </tr>\n",
       "    <tr>\n",
       "      <th>2</th>\n",
       "      <td>00000001_002.png</td>\n",
       "      <td>Cardiomegaly|Effusion</td>\n",
       "      <td>2</td>\n",
       "      <td>1</td>\n",
       "      <td>058Y</td>\n",
       "      <td>M</td>\n",
       "      <td>PA</td>\n",
       "      <td>2500</td>\n",
       "      <td>2048</td>\n",
       "      <td>0.168</td>\n",
       "      <td>...</td>\n",
       "      <td>0</td>\n",
       "      <td>0</td>\n",
       "      <td>0</td>\n",
       "      <td>0</td>\n",
       "      <td>0</td>\n",
       "      <td>0</td>\n",
       "      <td>0</td>\n",
       "      <td>0</td>\n",
       "      <td>0</td>\n",
       "      <td>0</td>\n",
       "    </tr>\n",
       "    <tr>\n",
       "      <th>3</th>\n",
       "      <td>00000002_000.png</td>\n",
       "      <td>No Finding</td>\n",
       "      <td>0</td>\n",
       "      <td>2</td>\n",
       "      <td>081Y</td>\n",
       "      <td>M</td>\n",
       "      <td>PA</td>\n",
       "      <td>2500</td>\n",
       "      <td>2048</td>\n",
       "      <td>0.171</td>\n",
       "      <td>...</td>\n",
       "      <td>0</td>\n",
       "      <td>0</td>\n",
       "      <td>0</td>\n",
       "      <td>0</td>\n",
       "      <td>0</td>\n",
       "      <td>0</td>\n",
       "      <td>0</td>\n",
       "      <td>0</td>\n",
       "      <td>0</td>\n",
       "      <td>0</td>\n",
       "    </tr>\n",
       "    <tr>\n",
       "      <th>4</th>\n",
       "      <td>00000003_000.png</td>\n",
       "      <td>Hernia</td>\n",
       "      <td>0</td>\n",
       "      <td>3</td>\n",
       "      <td>081Y</td>\n",
       "      <td>F</td>\n",
       "      <td>PA</td>\n",
       "      <td>2582</td>\n",
       "      <td>2991</td>\n",
       "      <td>0.143</td>\n",
       "      <td>...</td>\n",
       "      <td>0</td>\n",
       "      <td>0</td>\n",
       "      <td>0</td>\n",
       "      <td>0</td>\n",
       "      <td>0</td>\n",
       "      <td>0</td>\n",
       "      <td>0</td>\n",
       "      <td>0</td>\n",
       "      <td>0</td>\n",
       "      <td>0</td>\n",
       "    </tr>\n",
       "  </tbody>\n",
       "</table>\n",
       "<p>5 rows × 25 columns</p>\n",
       "</div>"
      ],
      "text/plain": [
       "        Image Index          Finding Labels  Follow-up #  Patient ID  \\\n",
       "0  00000001_000.png            Cardiomegaly            0           1   \n",
       "1  00000001_001.png  Cardiomegaly|Emphysema            1           1   \n",
       "2  00000001_002.png   Cardiomegaly|Effusion            2           1   \n",
       "3  00000002_000.png              No Finding            0           2   \n",
       "4  00000003_000.png                  Hernia            0           3   \n",
       "\n",
       "  Patient Age Patient Gender View Position  OriginalImage[Width  Height]  \\\n",
       "0        058Y              M            PA                 2682     2749   \n",
       "1        058Y              M            PA                 2894     2729   \n",
       "2        058Y              M            PA                 2500     2048   \n",
       "3        081Y              M            PA                 2500     2048   \n",
       "4        081Y              F            PA                 2582     2991   \n",
       "\n",
       "   OriginalImagePixelSpacing[x  ...  Nodule  Pneumothorax  Atelectasis  \\\n",
       "0                        0.143  ...       0             0            0   \n",
       "1                        0.143  ...       0             0            0   \n",
       "2                        0.168  ...       0             0            0   \n",
       "3                        0.171  ...       0             0            0   \n",
       "4                        0.143  ...       0             0            0   \n",
       "\n",
       "   Pleural_Thickening  Mass  Edema  Consolidation  Infiltration  Fibrosis  \\\n",
       "0                   0     0      0              0             0         0   \n",
       "1                   0     0      0              0             0         0   \n",
       "2                   0     0      0              0             0         0   \n",
       "3                   0     0      0              0             0         0   \n",
       "4                   0     0      0              0             0         0   \n",
       "\n",
       "   Pneumonia  \n",
       "0          0  \n",
       "1          0  \n",
       "2          0  \n",
       "3          0  \n",
       "4          0  \n",
       "\n",
       "[5 rows x 25 columns]"
      ]
     },
     "execution_count": 42,
     "metadata": {},
     "output_type": "execute_result"
    }
   ],
   "source": [
    "# Applying one hot encoding manually\n",
    "# Setting value of each disease-column 1 or 0\n",
    "for disease in diseases :\n",
    "    df[disease] = df['Finding Labels'].apply(lambda x: 1 if disease in x else 0)\n",
    "    \n",
    "df.head()"
   ]
  },
  {
   "cell_type": "code",
   "execution_count": 43,
   "metadata": {
    "execution": {
     "iopub.execute_input": "2022-11-22T18:26:25.380981Z",
     "iopub.status.busy": "2022-11-22T18:26:25.380539Z",
     "iopub.status.idle": "2022-11-22T18:26:29.307552Z",
     "shell.execute_reply": "2022-11-22T18:26:29.306571Z",
     "shell.execute_reply.started": "2022-11-22T18:26:25.380946Z"
    }
   },
   "outputs": [
    {
     "name": "stdout",
     "output_type": "stream",
     "text": [
      "Images found: 112120\n"
     ]
    }
   ],
   "source": [
    "all_image_paths = {\n",
    "#     os.path.basename(x): x for x in glob(os.path.join('..', 'input','data','images*','images','*.png')),\n",
    "    os.path.basename(x): x for x in glob(os.path.join('.', 'images', '*.png'))\n",
    "}\n",
    "\n",
    "print('Images found:', len(all_image_paths))"
   ]
  },
  {
   "cell_type": "code",
   "execution_count": 44,
   "metadata": {},
   "outputs": [],
   "source": [
    "df['Path'] = df['Image Index'].map(all_image_paths.get)"
   ]
  },
  {
   "cell_type": "code",
   "execution_count": 45,
   "metadata": {
    "execution": {
     "iopub.execute_input": "2022-11-22T18:26:29.309376Z",
     "iopub.status.busy": "2022-11-22T18:26:29.308919Z",
     "iopub.status.idle": "2022-11-22T18:26:29.357056Z",
     "shell.execute_reply": "2022-11-22T18:26:29.356243Z",
     "shell.execute_reply.started": "2022-11-22T18:26:29.309336Z"
    }
   },
   "outputs": [],
   "source": [
    "labels = df[diseases].to_numpy()\n",
    "files_list = df['Path'].tolist()"
   ]
  },
  {
   "cell_type": "code",
   "execution_count": 46,
   "metadata": {
    "execution": {
     "iopub.execute_input": "2022-11-22T18:26:29.358810Z",
     "iopub.status.busy": "2022-11-22T18:26:29.358427Z",
     "iopub.status.idle": "2022-11-22T18:26:29.411264Z",
     "shell.execute_reply": "2022-11-22T18:26:29.410443Z",
     "shell.execute_reply.started": "2022-11-22T18:26:29.358774Z"
    }
   },
   "outputs": [],
   "source": [
    "df['Path'] = df['Image Index'].map(all_image_paths.get)\n",
    "files_list = df['Path'].tolist()\n",
    "\n",
    "labelB = (df[diseases].sum(axis=1)>0).tolist()\n",
    "labelB = np.array(labelB, dtype=int)"
   ]
  },
  {
   "cell_type": "code",
   "execution_count": 47,
   "metadata": {},
   "outputs": [],
   "source": [
    "def path_to_tensor(img_path, shape):\n",
    "    # loads RGB image as PIL.Image.Image type\n",
    "    img = image.load_img(img_path, target_size=shape)\n",
    "    # converting PIL.Image.Image type to 3D tensor with shape (224, 224, 3)\n",
    "    x = image.img_to_array(img) / 255\n",
    "    return np.expand_dims(x, axis=0)\n",
    "\n",
    "def paths_to_tensor(img_paths, shape):\n",
    "    list_of_tensors = [path_to_tensor(img_path, shape) for img_path in tqdm(img_paths, desc = \"Progress\", ncols = 80)]\n",
    "    return np.vstack(list_of_tensors)"
   ]
  },
  {
   "cell_type": "code",
   "execution_count": 48,
   "metadata": {},
   "outputs": [],
   "source": [
    "# Getting the labels against each sample in all 3 dataset subsets\n",
    "train_labels = labelB[ : 89600][:, np.newaxis]\n",
    "valid_labels = labelB[89600 : 100800][:, np.newaxis]\n",
    "test_labels = labelB[100800 : ][ : , np.newaxis]"
   ]
  },
  {
   "cell_type": "code",
   "execution_count": 49,
   "metadata": {},
   "outputs": [],
   "source": [
    "# Setting some hyper-parameters\n",
    "img_shape = (64, 64)\n",
    "epochs = 3\n",
    "batch_size = 32"
   ]
  },
  {
   "cell_type": "code",
   "execution_count": 50,
   "metadata": {
    "execution": {
     "iopub.execute_input": "2022-11-22T18:26:29.415038Z",
     "iopub.status.busy": "2022-11-22T18:26:29.414657Z",
     "iopub.status.idle": "2022-11-22T19:10:09.238173Z",
     "shell.execute_reply": "2022-11-22T19:10:09.237282Z",
     "shell.execute_reply.started": "2022-11-22T18:26:29.415002Z"
    }
   },
   "outputs": [
    {
     "name": "stderr",
     "output_type": "stream",
     "text": [
      "Progress: 100%|███████████████████████████| 89600/89600 [23:18<00:00, 64.06it/s]\n",
      "Progress: 100%|███████████████████████████| 11200/11200 [02:55<00:00, 63.96it/s]\n",
      "Progress: 100%|███████████████████████████| 11320/11320 [02:59<00:00, 63.03it/s]\n"
     ]
    }
   ],
   "source": [
    "# Loading the image-arrays into memory\n",
    "train_tensors = paths_to_tensor(files_list[ : 89600], shape = img_shape)\n",
    "valid_tensors = paths_to_tensor(files_list[89600 : 100800], shape = img_shape)\n",
    "test_tensors = paths_to_tensor(files_list[100800 : ], shape = img_shape)"
   ]
  },
  {
   "cell_type": "code",
   "execution_count": 51,
   "metadata": {
    "execution": {
     "iopub.execute_input": "2022-11-22T19:10:09.250545Z",
     "iopub.status.busy": "2022-11-22T19:10:09.250156Z",
     "iopub.status.idle": "2022-11-22T19:10:22.077285Z",
     "shell.execute_reply": "2022-11-22T19:10:22.074984Z",
     "shell.execute_reply.started": "2022-11-22T19:10:09.250510Z"
    }
   },
   "outputs": [
    {
     "name": "stderr",
     "output_type": "stream",
     "text": [
      "  0%|▎                                                                                   | 314/89600 [32:14<152:49:20,  6.16s/it]\n"
     ]
    },
    {
     "name": "stdout",
     "output_type": "stream",
     "text": [
      "Downloading data from https://storage.googleapis.com/tensorflow/keras-applications/densenet/densenet201_weights_tf_dim_ordering_tf_kernels_notop.h5\n",
      "74842112/74836368 [==============================] - 103s 1us/step\n",
      "74850304/74836368 [==============================] - 103s 1us/step\n"
     ]
    }
   ],
   "source": [
    "base_model = DenseNet201(\n",
    "    weights = 'imagenet', \n",
    "    include_top = False, \n",
    "    input_shape = train_tensors.shape[1:]\n",
    ")\n",
    "\n",
    "classifier = Sequential()\n",
    "classifier.add(Flatten(input_shape = base_model.output_shape[1:]))\n",
    "classifier.add(Dropout(0.2))\n",
    "classifier.add(Dense(256, activation = 'relu'))\n",
    "classifier.add(Dropout(0.2))\n",
    "classifier.add(Dense(50, activation = 'relu'))\n",
    "classifier.add(Dropout(0.2))\n",
    "classifier.add(Dense(1, activation = 'sigmoid'))\n",
    "\n",
    "model = Model(inputs=base_model.input, outputs = classifier(base_model.output))\n",
    "\n",
    "# model.summary()"
   ]
  },
  {
   "cell_type": "code",
   "execution_count": 52,
   "metadata": {
    "execution": {
     "iopub.execute_input": "2022-11-22T19:10:22.078978Z",
     "iopub.status.busy": "2022-11-22T19:10:22.078418Z",
     "iopub.status.idle": "2022-11-22T19:10:22.092232Z",
     "shell.execute_reply": "2022-11-22T19:10:22.091337Z",
     "shell.execute_reply.started": "2022-11-22T19:10:22.078941Z"
    }
   },
   "outputs": [],
   "source": [
    "adam_optimizer = tf.keras.optimizers.Adam(\n",
    "    learning_rate = 1e-4,\n",
    "    beta_1 = 0.9,\n",
    "    beta_2 = 0.999,\n",
    ")"
   ]
  },
  {
   "cell_type": "code",
   "execution_count": 53,
   "metadata": {
    "execution": {
     "iopub.execute_input": "2022-11-22T19:10:22.094274Z",
     "iopub.status.busy": "2022-11-22T19:10:22.093907Z",
     "iopub.status.idle": "2022-11-22T19:10:22.123013Z",
     "shell.execute_reply": "2022-11-22T19:10:22.122526Z",
     "shell.execute_reply.started": "2022-11-22T19:10:22.094238Z"
    }
   },
   "outputs": [],
   "source": [
    "model.compile(\n",
    "    optimizer = adam_optimizer, \n",
    "    loss = 'binary_crossentropy', \n",
    "    metrics=[\n",
    "        'accuracy',\n",
    "        precision_threshold(threshold = 0.5), \n",
    "        recall_threshold(threshold = 0.5), \n",
    "        fbeta_score_threshold(beta=0.5, threshold = 0.5)\n",
    "    ]\n",
    ")"
   ]
  },
  {
   "cell_type": "code",
   "execution_count": 55,
   "metadata": {},
   "outputs": [],
   "source": [
    "train_datagen = ImageDataGenerator(\n",
    "    featurewise_center=False, \n",
    "    samplewise_center=False,  \n",
    "    featurewise_std_normalization=False,  \n",
    "    samplewise_std_normalization=False,  \n",
    "    zca_whitening=False,  \n",
    "    rotation_range=10,  \n",
    "    width_shift_range=0.1,  \n",
    "    height_shift_range=0.1,\n",
    "    horizontal_flip=True,\n",
    "    vertical_flip=False \n",
    ")"
   ]
  },
  {
   "cell_type": "code",
   "execution_count": 57,
   "metadata": {
    "execution": {
     "iopub.execute_input": "2022-11-22T19:10:22.124556Z",
     "iopub.status.busy": "2022-11-22T19:10:22.124236Z",
     "iopub.status.idle": "2022-11-22T21:01:59.950941Z",
     "shell.execute_reply": "2022-11-22T21:01:59.949686Z",
     "shell.execute_reply.started": "2022-11-22T19:10:22.124524Z"
    }
   },
   "outputs": [
    {
     "name": "stderr",
     "output_type": "stream",
     "text": [
      "C:\\Users\\m7irt\\anaconda3\\envs\\tf-gpu\\lib\\site-packages\\keras\\engine\\training.py:1972: UserWarning: `Model.fit_generator` is deprecated and will be removed in a future version. Please use `Model.fit`, which supports generators.\n",
      "  warnings.warn('`Model.fit_generator` is deprecated and '\n"
     ]
    },
    {
     "name": "stdout",
     "output_type": "stream",
     "text": [
      "Epoch 1/3\n",
      "2800/2800 [==============================] - 677s 230ms/step - loss: 0.6337 - accuracy: 0.6569 - precision: 0.6381 - recall: 0.5989 - fbeta_score: 0.6235 - val_loss: 0.5969 - val_accuracy: 0.7001 - val_precision: 0.5618 - val_recall: 0.5564 - val_fbeta_score: 0.5471\n",
      "Epoch 2/3\n",
      "2800/2800 [==============================] - 671s 240ms/step - loss: 0.6109 - accuracy: 0.6843 - precision: 0.6647 - recall: 0.6384 - fbeta_score: 0.6542 - val_loss: 0.6140 - val_accuracy: 0.6788 - val_precision: 0.5326 - val_recall: 0.6633 - val_fbeta_score: 0.5472\n",
      "Epoch 3/3\n",
      "2800/2800 [==============================] - 679s 242ms/step - loss: 0.6038 - accuracy: 0.6910 - precision: 0.6701 - recall: 0.6527 - fbeta_score: 0.6615 - val_loss: 0.6003 - val_accuracy: 0.7039 - val_precision: 0.5753 - val_recall: 0.4945 - val_fbeta_score: 0.5369\n",
      "33min 46s ± 0 ns per loop (mean ± std. dev. of 1 run, 1 loop each)\n"
     ]
    }
   ],
   "source": [
    "%%timeit -n1 -r1\n",
    "\n",
    "history = model.fit_generator(\n",
    "    train_datagen.flow(train_tensors,train_labels, batch_size = batch_size),\n",
    "    steps_per_epoch = len(train_tensors) // batch_size,\n",
    "    validation_data = (valid_tensors, valid_labels),\n",
    "    validation_steps = len(valid_tensors) // batch_size,\n",
    "    epochs = epochs,\n",
    "#     callbacks=[checkpointer], \n",
    "    verbose=1\n",
    "#     callbacks=[checkpointer, log, earlystop], verbose=1\n",
    ")"
   ]
  },
  {
   "cell_type": "code",
   "execution_count": null,
   "metadata": {
    "execution": {
     "iopub.execute_input": "2022-11-22T21:01:59.952800Z",
     "iopub.status.busy": "2022-11-22T21:01:59.952429Z",
     "iopub.status.idle": "2022-11-22T21:02:03.149844Z",
     "shell.execute_reply": "2022-11-22T21:02:03.148942Z",
     "shell.execute_reply.started": "2022-11-22T21:01:59.952765Z"
    }
   },
   "outputs": [],
   "source": [
    "# model.save('dense-adam.h5')\n",
    "# model.save_weights('dense-adam-weights.h5')"
   ]
  },
  {
   "cell_type": "code",
   "execution_count": 58,
   "metadata": {
    "execution": {
     "iopub.execute_input": "2022-11-22T21:02:03.158364Z",
     "iopub.status.busy": "2022-11-22T21:02:03.155909Z",
     "iopub.status.idle": "2022-11-22T21:02:15.500621Z",
     "shell.execute_reply": "2022-11-22T21:02:15.499756Z",
     "shell.execute_reply.started": "2022-11-22T21:02:03.158321Z"
    }
   },
   "outputs": [],
   "source": [
    "prediction = model.predict(test_tensors)"
   ]
  },
  {
   "cell_type": "code",
   "execution_count": 61,
   "metadata": {},
   "outputs": [
    {
     "name": "stdout",
     "output_type": "stream",
     "text": [
      "Accuracy: 0.675706684589386 \n",
      "Recall: 0.6519147157669067 \n",
      "Specificity: 0.6984785615491009\n",
      "Precision: 0.6742013692855835 \n",
      "F1-Score: 0.6696228384971619\n",
      "\n"
     ]
    }
   ],
   "source": [
    "testing_predictions = []\n",
    "for val in prediction:\n",
    "    if val[0] < 0.5:\n",
    "        testing_predictions.append([0])\n",
    "    else:\n",
    "        testing_predictions.append([1])\n",
    "\n",
    "testing_predictions = np.array(testing_predictions)\n",
    "\n",
    "TP, FP, FN, TN = calculate_cm(test_labels, testing_predictions)\n",
    "FPR, TPR = calculate_fpr_tpr(test_labels, testing_predictions)\n",
    "\n",
    "threshold = 0.5\n",
    "beta = 0.5\n",
    "\n",
    "accuracy = K.eval(binary_accuracy(K.variable(value=test_labels), K.variable(value=prediction)))\n",
    "precision = K.eval(precision_threshold(threshold = threshold)(K.variable(value=test_labels),K.variable(value=prediction)))\n",
    "recall = K.eval(recall_threshold(threshold = threshold)(K.variable(value=test_labels),K.variable(value=prediction)))\n",
    "f1_score = K.eval(fbeta_score_threshold(beta = beta, threshold = threshold)(K.variable(value=test_labels),K.variable(value=prediction)))\n",
    "\n",
    "print (f\"Accuracy: {accuracy} \\nRecall: {recall} \\nSpecificity: {TN / (TN + FP)}\\nPrecision: {precision} \\nF1-Score: {f1_score}\\n\")"
   ]
  },
  {
   "cell_type": "code",
   "execution_count": 63,
   "metadata": {
    "execution": {
     "iopub.execute_input": "2022-11-22T21:02:15.534484Z",
     "iopub.status.busy": "2022-11-22T21:02:15.533997Z",
     "iopub.status.idle": "2022-11-22T21:02:15.770694Z",
     "shell.execute_reply": "2022-11-22T21:02:15.769883Z",
     "shell.execute_reply.started": "2022-11-22T21:02:15.534449Z"
    }
   },
   "outputs": [
    {
     "ename": "NameError",
     "evalue": "name 'history' is not defined",
     "output_type": "error",
     "traceback": [
      "\u001b[1;31m---------------------------------------------------------------------------\u001b[0m",
      "\u001b[1;31mNameError\u001b[0m                                 Traceback (most recent call last)",
      "Cell \u001b[1;32mIn [63], line 3\u001b[0m\n\u001b[0;32m      1\u001b[0m plt\u001b[38;5;241m.\u001b[39mfigure(\u001b[38;5;241m1\u001b[39m, figsize \u001b[38;5;241m=\u001b[39m (\u001b[38;5;241m15\u001b[39m,\u001b[38;5;241m8\u001b[39m))      \n\u001b[0;32m      2\u001b[0m plt\u001b[38;5;241m.\u001b[39msubplot(\u001b[38;5;241m222\u001b[39m)  \n\u001b[1;32m----> 3\u001b[0m plt\u001b[38;5;241m.\u001b[39mplot(\u001b[43mhistory\u001b[49m\u001b[38;5;241m.\u001b[39mhistory[\u001b[38;5;124m'\u001b[39m\u001b[38;5;124mloss\u001b[39m\u001b[38;5;124m'\u001b[39m])  \n\u001b[0;32m      4\u001b[0m plt\u001b[38;5;241m.\u001b[39mplot(history\u001b[38;5;241m.\u001b[39mhistory[\u001b[38;5;124m'\u001b[39m\u001b[38;5;124mval_loss\u001b[39m\u001b[38;5;124m'\u001b[39m])  \n\u001b[0;32m      5\u001b[0m plt\u001b[38;5;241m.\u001b[39mtitle(\u001b[38;5;124m'\u001b[39m\u001b[38;5;124mdensenet model loss\u001b[39m\u001b[38;5;124m'\u001b[39m)  \n",
      "\u001b[1;31mNameError\u001b[0m: name 'history' is not defined"
     ]
    },
    {
     "data": {
      "image/png": "[encoded data removed]",
      "text/plain": [
       "<Figure size 1500x800 with 1 Axes>"
      ]
     },
     "metadata": {},
     "output_type": "display_data"
    }
   ],
   "source": [
    "plt.figure(1, figsize = (15,8))      \n",
    "plt.subplot(222)  \n",
    "plt.plot(history.history['loss'])  \n",
    "plt.plot(history.history['val_loss'])  \n",
    "plt.title('densenet model loss')  \n",
    "plt.ylabel('loss')  \n",
    "plt.xlabel('epoch')  \n",
    "plt.legend(['train', 'valid']) \n",
    "\n",
    "plt.show()"
   ]
  },
  {
   "cell_type": "code",
   "execution_count": 64,
   "metadata": {
    "execution": {
     "iopub.execute_input": "2022-11-22T21:02:15.772597Z",
     "iopub.status.busy": "2022-11-22T21:02:15.771877Z",
     "iopub.status.idle": "2022-11-22T21:02:15.987810Z",
     "shell.execute_reply": "2022-11-22T21:02:15.986879Z",
     "shell.execute_reply.started": "2022-11-22T21:02:15.772555Z"
    }
   },
   "outputs": [
    {
     "ename": "NameError",
     "evalue": "name 'history' is not defined",
     "output_type": "error",
     "traceback": [
      "\u001b[1;31m---------------------------------------------------------------------------\u001b[0m",
      "\u001b[1;31mNameError\u001b[0m                                 Traceback (most recent call last)",
      "Cell \u001b[1;32mIn [64], line 3\u001b[0m\n\u001b[0;32m      1\u001b[0m plt\u001b[38;5;241m.\u001b[39mfigure(\u001b[38;5;241m1\u001b[39m, figsize \u001b[38;5;241m=\u001b[39m (\u001b[38;5;241m15\u001b[39m,\u001b[38;5;241m8\u001b[39m))\n\u001b[0;32m      2\u001b[0m plt\u001b[38;5;241m.\u001b[39msubplot(\u001b[38;5;241m222\u001b[39m)  \n\u001b[1;32m----> 3\u001b[0m plt\u001b[38;5;241m.\u001b[39mplot(\u001b[43mhistory\u001b[49m\u001b[38;5;241m.\u001b[39mhistory[\u001b[38;5;124m'\u001b[39m\u001b[38;5;124maccuracy\u001b[39m\u001b[38;5;124m'\u001b[39m])  \n\u001b[0;32m      4\u001b[0m plt\u001b[38;5;241m.\u001b[39mplot(history\u001b[38;5;241m.\u001b[39mhistory[\u001b[38;5;124m'\u001b[39m\u001b[38;5;124mval_accuracy\u001b[39m\u001b[38;5;124m'\u001b[39m])  \n\u001b[0;32m      5\u001b[0m plt\u001b[38;5;241m.\u001b[39mtitle(\u001b[38;5;124m'\u001b[39m\u001b[38;5;124mdensenet model accuracy\u001b[39m\u001b[38;5;124m'\u001b[39m)  \n",
      "\u001b[1;31mNameError\u001b[0m: name 'history' is not defined"
     ]
    },
    {
     "data": {
      "image/png": "[encoded data removed]",
      "text/plain": [
       "<Figure size 1500x800 with 1 Axes>"
      ]
     },
     "metadata": {},
     "output_type": "display_data"
    }
   ],
   "source": [
    "plt.figure(1, figsize = (15,8))\n",
    "plt.subplot(222)  \n",
    "plt.plot(history.history['accuracy'])  \n",
    "plt.plot(history.history['val_accuracy'])  \n",
    "plt.title('densenet model accuracy')  \n",
    "plt.ylabel('accuracy')  \n",
    "plt.xlabel('epoch')  \n",
    "plt.legend(['train', 'valid']) \n",
    "\n",
    "plt.show()"
   ]
  },
  {
   "cell_type": "code",
   "execution_count": 65,
   "metadata": {
    "execution": {
     "iopub.execute_input": "2022-11-22T21:02:15.990318Z",
     "iopub.status.busy": "2022-11-22T21:02:15.989019Z",
     "iopub.status.idle": "2022-11-22T21:02:16.196081Z",
     "shell.execute_reply": "2022-11-22T21:02:16.195307Z",
     "shell.execute_reply.started": "2022-11-22T21:02:15.990277Z"
    }
   },
   "outputs": [
    {
     "ename": "NameError",
     "evalue": "name 'history' is not defined",
     "output_type": "error",
     "traceback": [
      "\u001b[1;31m---------------------------------------------------------------------------\u001b[0m",
      "\u001b[1;31mNameError\u001b[0m                                 Traceback (most recent call last)",
      "Cell \u001b[1;32mIn [65], line 1\u001b[0m\n\u001b[1;32m----> 1\u001b[0m plt\u001b[38;5;241m.\u001b[39mplot(\u001b[43mhistory\u001b[49m\u001b[38;5;241m.\u001b[39mhistory[\u001b[38;5;124m'\u001b[39m\u001b[38;5;124mrecall\u001b[39m\u001b[38;5;124m'\u001b[39m])\n\u001b[0;32m      2\u001b[0m plt\u001b[38;5;241m.\u001b[39mplot(history\u001b[38;5;241m.\u001b[39mhistory[\u001b[38;5;124m'\u001b[39m\u001b[38;5;124mval_recall\u001b[39m\u001b[38;5;124m'\u001b[39m])\n\u001b[0;32m      3\u001b[0m plt\u001b[38;5;241m.\u001b[39mtitle(\u001b[38;5;124m'\u001b[39m\u001b[38;5;124mdense-net model recall\u001b[39m\u001b[38;5;124m'\u001b[39m)\n",
      "\u001b[1;31mNameError\u001b[0m: name 'history' is not defined"
     ]
    }
   ],
   "source": [
    "plt.plot(history.history['recall'])\n",
    "plt.plot(history.history['val_recall'])\n",
    "plt.title('dense-net model recall')\n",
    "plt.ylabel('recall')\n",
    "plt.xlabel('epoch')\n",
    "plt.legend(['train', 'test'], loc='upper left')\n",
    "\n",
    "plt.show()"
   ]
  },
  {
   "cell_type": "code",
   "execution_count": 66,
   "metadata": {
    "execution": {
     "iopub.execute_input": "2022-11-22T21:02:16.197831Z",
     "iopub.status.busy": "2022-11-22T21:02:16.197259Z",
     "iopub.status.idle": "2022-11-22T21:02:16.668745Z",
     "shell.execute_reply": "2022-11-22T21:02:16.667908Z",
     "shell.execute_reply.started": "2022-11-22T21:02:16.197786Z"
    }
   },
   "outputs": [
    {
     "ename": "NameError",
     "evalue": "name 'history' is not defined",
     "output_type": "error",
     "traceback": [
      "\u001b[1;31m---------------------------------------------------------------------------\u001b[0m",
      "\u001b[1;31mNameError\u001b[0m                                 Traceback (most recent call last)",
      "Cell \u001b[1;32mIn [66], line 1\u001b[0m\n\u001b[1;32m----> 1\u001b[0m plt\u001b[38;5;241m.\u001b[39mplot(\u001b[43mhistory\u001b[49m\u001b[38;5;241m.\u001b[39mhistory[\u001b[38;5;124m'\u001b[39m\u001b[38;5;124mprecision\u001b[39m\u001b[38;5;124m'\u001b[39m])\n\u001b[0;32m      2\u001b[0m plt\u001b[38;5;241m.\u001b[39mplot(history\u001b[38;5;241m.\u001b[39mhistory[\u001b[38;5;124m'\u001b[39m\u001b[38;5;124mval_precision\u001b[39m\u001b[38;5;124m'\u001b[39m])\n\u001b[0;32m      4\u001b[0m plt\u001b[38;5;241m.\u001b[39mtitle(\u001b[38;5;124m'\u001b[39m\u001b[38;5;124mdense-net model precision\u001b[39m\u001b[38;5;124m'\u001b[39m)\n",
      "\u001b[1;31mNameError\u001b[0m: name 'history' is not defined"
     ]
    }
   ],
   "source": [
    "plt.plot(history.history['precision'])\n",
    "plt.plot(history.history['val_precision'])\n",
    "\n",
    "plt.title('dense-net model precision')\n",
    "plt.ylabel('f1_score')\n",
    "plt.xlabel('epoch')\n",
    "plt.legend(['train', 'test'], loc='upper left')\n",
    "plt.show()"
   ]
  },
  {
   "cell_type": "code",
   "execution_count": null,
   "metadata": {},
   "outputs": [],
   "source": []
  }
 ],
 "metadata": {
  "kernelspec": {
   "display_name": "Python 3 (ipykernel)",
   "language": "python",
   "name": "python3"
  },
  "language_info": {
   "codemirror_mode": {
    "name": "ipython",
    "version": 3
   },
   "file_extension": ".py",
   "mimetype": "text/x-python",
   "name": "python",
   "nbconvert_exporter": "python",
   "pygments_lexer": "ipython3",
   "version": "3.9.15"
  }
 },
 "nbformat": 4,
 "nbformat_minor": 4
}
