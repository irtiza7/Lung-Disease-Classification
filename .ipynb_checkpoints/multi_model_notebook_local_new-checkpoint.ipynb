{
 "cells": [
  {
   "cell_type": "markdown",
   "id": "9e7ac930",
   "metadata": {},
   "source": [
    "#### Importing Libraries and built-in Models from Tensorflow"
   ]
  },
  {
   "cell_type": "code",
   "execution_count": 64,
   "id": "a937500a",
   "metadata": {
    "execution": {
     "iopub.execute_input": "2022-12-13T00:17:17.560168Z",
     "iopub.status.busy": "2022-12-13T00:17:17.559846Z",
     "iopub.status.idle": "2022-12-13T00:17:25.150281Z",
     "shell.execute_reply": "2022-12-13T00:17:25.149337Z",
     "shell.execute_reply.started": "2022-12-13T00:17:17.560092Z"
    },
    "scrolled": true
   },
   "outputs": [],
   "source": [
    "import os\n",
    "import gc\n",
    "import cv2\n",
    "import time\n",
    "import itertools\n",
    "import sklearn\n",
    "\n",
    "import numpy as np\n",
    "import pandas as pd\n",
    "import tensorflow as tf\n",
    "import seaborn as sns\n",
    "\n",
    "from keras import backend as K\n",
    "from matplotlib import pyplot as plt\n",
    "\n",
    "from glob import glob\n",
    "from tqdm import tqdm\n",
    "from itertools import cycle\n",
    "from tabulate import tabulate\n",
    "from pandas import DataFrame\n",
    "from keras import regularizers, optimizers, initializers\n",
    "\n",
    "from sklearn.preprocessing import label_binarize\n",
    "from sklearn.multiclass import OneVsRestClassifier\n",
    "from keras.models import Sequential, Model\n",
    "from keras.layers.core import Dense\n",
    "from sklearn.preprocessing import MultiLabelBinarizer\n",
    "from sklearn.model_selection import train_test_split\n",
    "from keras_preprocessing.image import ImageDataGenerator\n",
    "\n",
    "from keras.layers import (\n",
    "    Input, Conv2D, MaxPooling2D, GlobalAveragePooling2D, Dropout, Flatten, Dense, BatchNormalization, Activation\n",
    ")\n",
    "from sklearn.metrics import (\n",
    "    roc_curve, auc, multilabel_confusion_matrix, ConfusionMatrixDisplay, classification_report, confusion_matrix\n",
    ")\n",
    "from tensorflow.keras.applications import (\n",
    "    VGG16, VGG19, InceptionV3, Xception, DenseNet121, ResNet50V2, MobileNet, MobileNetV2, EfficientNetB0, EfficientNetB1, \n",
    "    EfficientNetB2, EfficientNetB3, EfficientNetB4, EfficientNetB5, EfficientNetB6, EfficientNetB7\n",
    ")"
   ]
  },
  {
   "cell_type": "code",
   "execution_count": 65,
   "id": "1a03b75e",
   "metadata": {},
   "outputs": [
    {
     "data": {
      "text/html": [
       "<style>.container { width:90% !important; }</style>"
      ],
      "text/plain": [
       "<IPython.core.display.HTML object>"
      ]
     },
     "metadata": {},
     "output_type": "display_data"
    }
   ],
   "source": [
    "from IPython.display import display, HTML\n",
    "display(HTML(\"<style>.container { width:90% !important; }</style>\"))"
   ]
  },
  {
   "cell_type": "markdown",
   "id": "ce77d647",
   "metadata": {},
   "source": [
    "#### Defining helping functions.\n",
    "* calculate_cm returns true_positives, false_positives, false_negatives and true_negatives, for Binary Classification Problem.\n",
    "* calculate_recall returns value of Recall evaluation measure, for Binary Classification Problem.\n",
    "* calculate_fallout returns false_positive_rate, for Binary Classification Problem.\n",
    "* calculate_fpr_tpr returns false_positve_rate and true_positive_rate, for Binary Classification Problem."
   ]
  },
  {
   "cell_type": "code",
   "execution_count": 66,
   "id": "d1fd1907",
   "metadata": {
    "execution": {
     "iopub.execute_input": "2022-12-13T00:17:25.165641Z",
     "iopub.status.busy": "2022-12-13T00:17:25.164854Z",
     "iopub.status.idle": "2022-12-13T00:17:25.183000Z",
     "shell.execute_reply": "2022-12-13T00:17:25.182025Z",
     "shell.execute_reply.started": "2022-12-13T00:17:25.165605Z"
    },
    "scrolled": true
   },
   "outputs": [],
   "source": [
    "def calculate_cm(y_true, y_pred):\n",
    "    fp = np.sum((y_pred == 1) & (y_true == 0))\n",
    "    tp = np.sum((y_pred == 1) & (y_true == 1))\n",
    "    fn = np.sum((y_pred == 0) & (y_true == 1))\n",
    "    tn = np.sum((y_pred == 0) & (y_true == 0))\n",
    "    return tp, fp, fn, tn\n",
    "\n",
    "def calculate_recall(tp, fp, fn, tn):\n",
    "    return (tp)/(tp + fn)\n",
    "\n",
    "def calculate_fallout(tp, fp, fn, tn):\n",
    "    return (fp)/(fp + tn)\n",
    "\n",
    "def calculate_fpr_tpr(y_true, y_pred):\n",
    "    tp, fp, fn, tn = calculate_cm(y_true, y_pred)\n",
    "    tpr = calculate_recall(tp, fp, fn, tn)\n",
    "    fpr = calculate_fallout(tp, fp, fn, tn)\n",
    "    return fpr, tpr"
   ]
  },
  {
   "cell_type": "markdown",
   "id": "3d92278e",
   "metadata": {},
   "source": [
    "#### Reading Dataset's metadata and Applying One Hot Encoding to the Labels\n",
    "###### Result: df contains Image_Names, Image_Paths and Columns for each class label with one hot encoded values"
   ]
  },
  {
   "cell_type": "code",
   "execution_count": 67,
   "id": "434c1e4d",
   "metadata": {
    "execution": {
     "iopub.execute_input": "2022-12-13T00:17:25.186332Z",
     "iopub.status.busy": "2022-12-13T00:17:25.185867Z",
     "iopub.status.idle": "2022-12-13T00:19:20.252152Z",
     "shell.execute_reply": "2022-12-13T00:19:20.251133Z",
     "shell.execute_reply.started": "2022-12-13T00:17:25.186299Z"
    },
    "scrolled": true
   },
   "outputs": [
    {
     "name": "stderr",
     "output_type": "stream",
     "text": [
      "100%|█████████████████████████████████████████████████████| 112120/112120 [01:09<00:00, 1620.18it/s]\n"
     ]
    },
    {
     "data": {
      "text/html": [
       "<div>\n",
       "<style scoped>\n",
       "    .dataframe tbody tr th:only-of-type {\n",
       "        vertical-align: middle;\n",
       "    }\n",
       "\n",
       "    .dataframe tbody tr th {\n",
       "        vertical-align: top;\n",
       "    }\n",
       "\n",
       "    .dataframe thead th {\n",
       "        text-align: right;\n",
       "    }\n",
       "</style>\n",
       "<table border=\"1\" class=\"dataframe\">\n",
       "  <thead>\n",
       "    <tr style=\"text-align: right;\">\n",
       "      <th></th>\n",
       "      <th>Image Index</th>\n",
       "      <th>Image Paths</th>\n",
       "      <th>Emphysema</th>\n",
       "      <th>Pneumothorax</th>\n",
       "      <th>Pneumonia</th>\n",
       "      <th>Consolidation</th>\n",
       "      <th>No Finding</th>\n",
       "      <th>Infiltration</th>\n",
       "      <th>Fibrosis</th>\n",
       "      <th>Cardiomegaly</th>\n",
       "      <th>Effusion</th>\n",
       "      <th>Nodule</th>\n",
       "      <th>Pleural_Thickening</th>\n",
       "      <th>Edema</th>\n",
       "      <th>Atelectasis</th>\n",
       "      <th>Mass</th>\n",
       "      <th>Hernia</th>\n",
       "    </tr>\n",
       "  </thead>\n",
       "  <tbody>\n",
       "    <tr>\n",
       "      <th>0</th>\n",
       "      <td>00000001_000.png</td>\n",
       "      <td>.\\images\\00000001_000.png</td>\n",
       "      <td>0.0</td>\n",
       "      <td>0.0</td>\n",
       "      <td>0.0</td>\n",
       "      <td>0.0</td>\n",
       "      <td>0.0</td>\n",
       "      <td>0.0</td>\n",
       "      <td>0.0</td>\n",
       "      <td>1.0</td>\n",
       "      <td>0.0</td>\n",
       "      <td>0.0</td>\n",
       "      <td>0.0</td>\n",
       "      <td>0.0</td>\n",
       "      <td>0.0</td>\n",
       "      <td>0.0</td>\n",
       "      <td>0.0</td>\n",
       "    </tr>\n",
       "    <tr>\n",
       "      <th>1</th>\n",
       "      <td>00000001_001.png</td>\n",
       "      <td>.\\images\\00000001_001.png</td>\n",
       "      <td>1.0</td>\n",
       "      <td>0.0</td>\n",
       "      <td>0.0</td>\n",
       "      <td>0.0</td>\n",
       "      <td>0.0</td>\n",
       "      <td>0.0</td>\n",
       "      <td>0.0</td>\n",
       "      <td>1.0</td>\n",
       "      <td>0.0</td>\n",
       "      <td>0.0</td>\n",
       "      <td>0.0</td>\n",
       "      <td>0.0</td>\n",
       "      <td>0.0</td>\n",
       "      <td>0.0</td>\n",
       "      <td>0.0</td>\n",
       "    </tr>\n",
       "    <tr>\n",
       "      <th>2</th>\n",
       "      <td>00000001_002.png</td>\n",
       "      <td>.\\images\\00000001_002.png</td>\n",
       "      <td>0.0</td>\n",
       "      <td>0.0</td>\n",
       "      <td>0.0</td>\n",
       "      <td>0.0</td>\n",
       "      <td>0.0</td>\n",
       "      <td>0.0</td>\n",
       "      <td>0.0</td>\n",
       "      <td>1.0</td>\n",
       "      <td>1.0</td>\n",
       "      <td>0.0</td>\n",
       "      <td>0.0</td>\n",
       "      <td>0.0</td>\n",
       "      <td>0.0</td>\n",
       "      <td>0.0</td>\n",
       "      <td>0.0</td>\n",
       "    </tr>\n",
       "  </tbody>\n",
       "</table>\n",
       "</div>"
      ],
      "text/plain": [
       "        Image Index                Image Paths  Emphysema  Pneumothorax  \\\n",
       "0  00000001_000.png  .\\images\\00000001_000.png        0.0           0.0   \n",
       "1  00000001_001.png  .\\images\\00000001_001.png        1.0           0.0   \n",
       "2  00000001_002.png  .\\images\\00000001_002.png        0.0           0.0   \n",
       "\n",
       "   Pneumonia  Consolidation  No Finding  Infiltration  Fibrosis  Cardiomegaly  \\\n",
       "0        0.0            0.0         0.0           0.0       0.0           1.0   \n",
       "1        0.0            0.0         0.0           0.0       0.0           1.0   \n",
       "2        0.0            0.0         0.0           0.0       0.0           1.0   \n",
       "\n",
       "   Effusion  Nodule  Pleural_Thickening  Edema  Atelectasis  Mass  Hernia  \n",
       "0       0.0     0.0                 0.0    0.0          0.0   0.0     0.0  \n",
       "1       0.0     0.0                 0.0    0.0          0.0   0.0     0.0  \n",
       "2       1.0     0.0                 0.0    0.0          0.0   0.0     0.0  "
      ]
     },
     "execution_count": 67,
     "metadata": {},
     "output_type": "execute_result"
    }
   ],
   "source": [
    "image_paths = {os.path.basename(x): x for x in glob(os.path.join('.', 'images', '*.png'))}\n",
    "df = pd.read_csv(\"./dataset_information/Data_Entry_2017.csv\")\n",
    "\n",
    "df = df.drop(\n",
    "    columns = [\n",
    "        \"Follow-up #\", \n",
    "        \"Patient ID\", \n",
    "        \"Patient Age\", \n",
    "        \"Patient Gender\", \n",
    "        \"OriginalImage[Width\",\n",
    "        \"Height]\",\n",
    "        \"OriginalImagePixelSpacing[x\",\n",
    "        \"y]\",\n",
    "#         \"Unnamed: 11\",\n",
    "        \"View Position\"\n",
    "    ], \n",
    "    axis = 1\n",
    ")\n",
    "\n",
    "df[\"Image Paths\"] = \" \"\n",
    "for row_index in tqdm(range(len(df)), ncols = 100):\n",
    "    img_name = df.iloc[row_index][0]\n",
    "    path = image_paths[img_name]\n",
    "    df[\"Image Paths\"][row_index] = path\n",
    "\n",
    "unique_labels = set(itertools.chain.from_iterable(df[\"Finding Labels\"].apply(lambda x : x.split('|')).values)) \n",
    "one_hot_labels = pd.DataFrame(0.0, index = np.arange(len(df)), columns = unique_labels)\n",
    "\n",
    "for index, row in df.iterrows():\n",
    "    labels = row[\"Finding Labels\"].split('|')\n",
    "    for label in labels:\n",
    "        one_hot_labels.iloc[index][label] = 1.0\n",
    "\n",
    "df = pd.concat([df, one_hot_labels], axis = 1)\n",
    "df = df.drop(columns = [\"Finding Labels\"], axis = 1)\n",
    "df.head(3)"
   ]
  },
  {
   "cell_type": "markdown",
   "id": "4abdfc27",
   "metadata": {},
   "source": [
    "#### Division of dataset into Training, Validation and Testing subsets\n",
    "* 70 % data for Training\n",
    "* 10 % data for Validation\n",
    "* 20 % data for Testing"
   ]
  },
  {
   "cell_type": "code",
   "execution_count": 68,
   "id": "b5931d1c",
   "metadata": {
    "execution": {
     "iopub.execute_input": "2022-12-13T00:19:20.254034Z",
     "iopub.status.busy": "2022-12-13T00:19:20.253633Z",
     "iopub.status.idle": "2022-12-13T00:19:20.314915Z",
     "shell.execute_reply": "2022-12-13T00:19:20.313715Z",
     "shell.execute_reply.started": "2022-12-13T00:19:20.253972Z"
    },
    "scrolled": true
   },
   "outputs": [
    {
     "name": "stdout",
     "output_type": "stream",
     "text": [
      "Training Samples: 80726\n",
      "Validation Samples: 8970\n",
      "Testing Samples: 22424\n"
     ]
    }
   ],
   "source": [
    "# df_train, df_test = train_test_split(dataset_info.sample(n = 60000), test_size = 0.20, random_state = 142)\n",
    "df_train, df_test = train_test_split(df, test_size = 0.20, random_state = 0)\n",
    "df_train, df_val = train_test_split(df_train, test_size = 0.10, random_state = 0)\n",
    "\n",
    "print(f\"Training Samples: {len(df_train)}\\nValidation Samples: {len(df_val)}\\nTesting Samples: {len(df_test)}\")"
   ]
  },
  {
   "cell_type": "markdown",
   "id": "0ad28e23",
   "metadata": {},
   "source": [
    "#### Defined Hyperparameters (Constants) for the entire Machine Learnin Pipeline\n",
    "* CLASS_LABEL - Classes' names to use for traning and testing\n",
    "* IMAGE_SIZE - Resolution of images used\n",
    "* BATCH_SIZE - Size of mini-batches to use for backpropagation\n",
    "* EPOCHS - Number of epochs to train the model for\n",
    "* LEARNING_RATE - LR to use in optimizer algorithm while training\n",
    "* BETA_FOR_BIASED_RECALL - Beta value that gives more imporance to recall in F-Beta Score\n",
    "* BETA_FOR_BIASED_PRECISION - Beta value that gives more imporance to precision in F-Beta Score\n",
    "* BETA_WITH_NO_BIAS - Beta value that gives equal imporance to recall and precision in F-Beta Score\n",
    "* THRESHOLDS - Values of thresholds to use for metrices such as AUC"
   ]
  },
  {
   "cell_type": "code",
   "execution_count": 69,
   "id": "f0d392e4",
   "metadata": {
    "scrolled": true
   },
   "outputs": [],
   "source": [
    "CLASS_LABELS = [\n",
    "    \"Atelectasis\", \"Cardiomegaly\", \"Consolidation\", \"Edema\", \"Effusion\", \"Emphysema\", \"Fibrosis\", \"Hernia\", \n",
    "    \"Infiltration\", \"Mass\", \"No Finding\", \"Nodule\", \"Pleural_Thickening\", \"Pneumonia\",\"Pneumothorax\"\n",
    "]\n",
    "IMAGE_SIZE = (224, 224,)\n",
    "BATCH_SIZE = 24\n",
    "EPOCHS = 10\n",
    "LEARNING_RATE = 0.0001\n",
    "\n",
    "BETA_FOR_BIASED_RECALL = 1.3\n",
    "BETA_FOR_BIASED_PRECISION = 0.7\n",
    "BETA_WITH_NO_BIAS = 1\n",
    "\n",
    "THRESHOLDS = [0.1, 0.2, 0.3, 0.4, 0.5, 0.6, 0.7, 0.8, 0.9]"
   ]
  },
  {
   "cell_type": "code",
   "execution_count": 70,
   "id": "d846fcc5",
   "metadata": {
    "scrolled": true
   },
   "outputs": [],
   "source": [
    "def plot_class_samples(samples_count):\n",
    "    labels = list(samples_count.keys())\n",
    "    count = list(samples_count.values())\n",
    "    \n",
    "    plt.rcParams['figure.dpi'] = 150\n",
    "    fig, ax = plt.subplots(figsize =(18, 8))\n",
    "    ax.barh(labels, count)\n",
    "    \n",
    "    # Remove axes splines\n",
    "    for s in ['top', 'bottom', 'left', 'right']:\n",
    "        ax.spines[s].set_visible(False)\n",
    "    \n",
    "    # Remove x, y Ticks\n",
    "    ax.xaxis.set_ticks_position('none')\n",
    "    ax.yaxis.set_ticks_position('none')\n",
    "    \n",
    "    # Add padding between axes and labels\n",
    "    ax.xaxis.set_tick_params(pad = 2)\n",
    "    ax.yaxis.set_tick_params(pad = 3)\n",
    "    \n",
    "    # Add x, y gridlines\n",
    "    ax.grid(visible = True, color ='grey', linestyle ='-.', linewidth = 0.5, alpha = 0.2)\n",
    "    \n",
    "    # Show top values\n",
    "    ax.invert_yaxis()\n",
    "    \n",
    "    # Add annotation to bars\n",
    "    for i in ax.patches:\n",
    "        plt.text(\n",
    "            i.get_width() + 0.2, \n",
    "            i.get_y() + 0.5, \n",
    "            str(round((i.get_width()), 2)), \n",
    "            fontsize = 10, \n",
    "            fontweight = 'bold', \n",
    "            color ='grey'\n",
    "        )\n",
    "    \n",
    "    ax.set_title('Samples Belonging to Each Class Label', loc ='center')\n",
    "    plt.show()"
   ]
  },
  {
   "cell_type": "code",
   "execution_count": 71,
   "id": "326c3491",
   "metadata": {
    "scrolled": true
   },
   "outputs": [],
   "source": [
    "SAMPLES_PER_CLASS = dict()\n",
    "\n",
    "for label in CLASS_LABELS:\n",
    "    SAMPLES_PER_CLASS[label] = 0\n",
    "\n",
    "for label in CLASS_LABELS:\n",
    "    SAMPLES_PER_CLASS[label] = int(df[label].sum())\n",
    "    \n",
    "# plot_class_samples(SAMPLES_PER_CLASS)"
   ]
  },
  {
   "cell_type": "code",
   "execution_count": 72,
   "id": "1096cb44",
   "metadata": {
    "scrolled": true
   },
   "outputs": [],
   "source": [
    "SORTED_SAMPLES_PER_CLASS = dict(sorted(SAMPLES_PER_CLASS.items(), key=lambda x:x[1], reverse = True))\n",
    "keys = list(SORTED_SAMPLES_PER_CLASS.keys())\n",
    "values = list(SORTED_SAMPLES_PER_CLASS.values())\n",
    "\n",
    "# sns.set(rc = {'figure.figsize' : (10, 4)})\n",
    "# sns.barplot(x = values, y = keys, color = \"green\")"
   ]
  },
  {
   "cell_type": "code",
   "execution_count": 73,
   "id": "6b9f7bee",
   "metadata": {
    "scrolled": true
   },
   "outputs": [],
   "source": [
    "del(SORTED_SAMPLES_PER_CLASS[\"No Finding\"])\n",
    "keys = list(SORTED_SAMPLES_PER_CLASS.keys())\n",
    "values = list(SORTED_SAMPLES_PER_CLASS.values())\n",
    "\n",
    "# sns.barplot(x = values, y = keys, color = \"green\")"
   ]
  },
  {
   "cell_type": "code",
   "execution_count": 74,
   "id": "77eefb2a",
   "metadata": {
    "scrolled": true
   },
   "outputs": [
    {
     "name": "stdout",
     "output_type": "stream",
     "text": [
      "| Class Name         | Samples   | Weightage   |\n",
      "|--------------------|-----------|-------------|\n",
      "| Atelectasis        | 11535     | 0.349152    |\n",
      "| Cardiomegaly       | 2772      | 1.45291     |\n",
      "| Consolidation      | 4667      | 0.862967    |\n",
      "| Edema              | 2303      | 1.74879     |\n",
      "| Effusion           | 13307     | 0.302658    |\n",
      "| Emphysema          | 2516      | 1.60074     |\n",
      "| Fibrosis           | 1686      | 2.38877     |\n",
      "| Hernia             | 227       | 17.7421     |\n",
      "| Infiltration       | 19870     | 0.202691    |\n",
      "| Mass               | 5746      | 0.700917    |\n",
      "| No Finding         | 60412     | 0.0666667   |\n",
      "| Nodule             | 6323      | 0.636955    |\n",
      "| Pleural_Thickening | 3385      | 1.1898      |\n",
      "| Pneumonia          | 1353      | 2.97669     |\n",
      "| Pneumothorax       | 5298      | 0.760186    |\n"
     ]
    }
   ],
   "source": [
    "CLASS_WEIGHTS = dict()\n",
    "label_with_most_samples = max(SAMPLES_PER_CLASS, key = SAMPLES_PER_CLASS.get)\n",
    "\n",
    "for index, label in enumerate(CLASS_LABELS):\n",
    "    CLASS_WEIGHTS[index] = SAMPLES_PER_CLASS[label_with_most_samples] / (len(CLASS_LABELS) * SAMPLES_PER_CLASS[label])\n",
    "\n",
    "tabulated_weights_data = []    \n",
    "for i in range(15):\n",
    "    row = [CLASS_LABELS[i], SAMPLES_PER_CLASS[CLASS_LABELS[i]], CLASS_WEIGHTS[i]]\n",
    "    tabulated_weights_data.append(row)\n",
    "    \n",
    "print(tabulate(\n",
    "    tabulated_weights_data, \n",
    "    headers = [\"Class Name\", \"Samples\", \"Weightage\"], \n",
    "    tablefmt = \"github\", \n",
    "    numalign = \"left\"\n",
    "))"
   ]
  },
  {
   "cell_type": "code",
   "execution_count": 75,
   "id": "33f7733e",
   "metadata": {
    "execution": {
     "iopub.execute_input": "2022-12-13T00:19:20.325954Z",
     "iopub.status.busy": "2022-12-13T00:19:20.325522Z",
     "iopub.status.idle": "2022-12-13T00:19:20.334253Z",
     "shell.execute_reply": "2022-12-13T00:19:20.333194Z",
     "shell.execute_reply.started": "2022-12-13T00:19:20.325918Z"
    },
    "scrolled": true
   },
   "outputs": [],
   "source": [
    "def apply_sharpening(image):\n",
    "    sharp_kernel = np.array(\n",
    "        [\n",
    "            [0, -1, 0], \n",
    "            [-1, 5, -1], \n",
    "            [0, -1, 0]\n",
    "        ])\n",
    "    output = cv2.filter2D(src = image, ddepth = -1, kernel = sharp_kernel)\n",
    "    return output\n",
    "\n",
    "def apply_min_max_scaling(image):\n",
    "    image = (image - image.min()) / (image.max() - image.min())\n",
    "    image = rescale(image, 0.25, multichannel = True, mode = \"constant\")\n",
    "    return image"
   ]
  },
  {
   "cell_type": "code",
   "execution_count": 76,
   "id": "f1765596",
   "metadata": {
    "scrolled": true
   },
   "outputs": [
    {
     "name": "stdout",
     "output_type": "stream",
     "text": [
      "Found 80726 validated image filenames.\n",
      "Found 8970 validated image filenames.\n",
      "Found 22424 validated image filenames.\n"
     ]
    }
   ],
   "source": [
    "train_data_generator = ImageDataGenerator(\n",
    "    rescale = 1. / 255,\n",
    "    preprocessing_function = apply_sharpening,\n",
    "    shear_range = 0.2,\n",
    "    horizontal_flip = True\n",
    ")\n",
    "val_data_generator = ImageDataGenerator(rescale = 1. / 255, preprocessing_function = apply_sharpening)\n",
    "test_data_generator = ImageDataGenerator(rescale = 1. / 255, preprocessing_function = apply_sharpening)\n",
    "\n",
    "def flow_from_dataframe(image_generator, dataframe):\n",
    "    df_gen = image_generator.flow_from_dataframe(\n",
    "        dataframe,\n",
    "        x_col = \"Image Paths\", \n",
    "        y_col = dataframe.columns[2:],\n",
    "        target_size = IMAGE_SIZE,\n",
    "        color_mode = 'rgb',\n",
    "        class_mode = 'raw',\n",
    "        shuffle = False,\n",
    "        batch_size = BATCH_SIZE\n",
    "    )\n",
    "    return df_gen\n",
    "\n",
    "train_gen = flow_from_dataframe(image_generator = train_data_generator, dataframe = df_train)\n",
    "valid_gen = flow_from_dataframe(image_generator = val_data_generator, dataframe = df_val)\n",
    "test_gen = flow_from_dataframe(image_generator = test_data_generator, dataframe = df_test)"
   ]
  },
  {
   "cell_type": "code",
   "execution_count": 77,
   "id": "49cec12e",
   "metadata": {
    "scrolled": true
   },
   "outputs": [
    {
     "name": "stderr",
     "output_type": "stream",
     "text": [
      "Clipping input data to the valid range for imshow with RGB data ([0..1] for floats or [0..255] for integers).\n"
     ]
    },
    {
     "name": "stdout",
     "output_type": "stream",
     "text": [
      "224\n"
     ]
    },
    {
     "data": {
      "image/png": "[encoded data removed]",
      "text/plain": [
       "<Figure size 144x144 with 1 Axes>"
      ]
     },
     "metadata": {
      "needs_background": "light"
     },
     "output_type": "display_data"
    },
    {
     "name": "stderr",
     "output_type": "stream",
     "text": [
      "Clipping input data to the valid range for imshow with RGB data ([0..1] for floats or [0..255] for integers).\n"
     ]
    },
    {
     "data": {
      "image/png": "[encoded data removed]",
      "text/plain": [
       "<Figure size 144x144 with 1 Axes>"
      ]
     },
     "metadata": {
      "needs_background": "light"
     },
     "output_type": "display_data"
    },
    {
     "name": "stderr",
     "output_type": "stream",
     "text": [
      "Clipping input data to the valid range for imshow with RGB data ([0..1] for floats or [0..255] for integers).\n"
     ]
    },
    {
     "data": {
      "image/png": "[encoded data removed]",
      "text/plain": [
       "<Figure size 144x144 with 1 Axes>"
      ]
     },
     "metadata": {
      "needs_background": "light"
     },
     "output_type": "display_data"
    },
    {
     "name": "stderr",
     "output_type": "stream",
     "text": [
      "Clipping input data to the valid range for imshow with RGB data ([0..1] for floats or [0..255] for integers).\n"
     ]
    },
    {
     "data": {
      "image/png": "[encoded data removed]",
      "text/plain": [
       "<Figure size 144x144 with 1 Axes>"
      ]
     },
     "metadata": {
      "needs_background": "light"
     },
     "output_type": "display_data"
    },
    {
     "name": "stderr",
     "output_type": "stream",
     "text": [
      "Clipping input data to the valid range for imshow with RGB data ([0..1] for floats or [0..255] for integers).\n"
     ]
    },
    {
     "data": {
      "image/png": "[encoded data removed]",
      "text/plain": [
       "<Figure size 144x144 with 1 Axes>"
      ]
     },
     "metadata": {
      "needs_background": "light"
     },
     "output_type": "display_data"
    }
   ],
   "source": [
    "plt.rcParams[\"figure.figsize\"] = (2,2)\n",
    "\n",
    "x = train_gen.next()\n",
    "print(len(x[0][0]))\n",
    "\n",
    "for i in range(1):\n",
    "    for j in range(5):\n",
    "        image = x[i][j]\n",
    "        plt.imshow(image)\n",
    "        plt.imshow((image * 255).astype(np.uint8))\n",
    "        plt.show()"
   ]
  },
  {
   "cell_type": "markdown",
   "id": "8bf6d417",
   "metadata": {},
   "source": [
    "#### Defined Callbacks for model while training\n",
    "* Early Stopping"
   ]
  },
  {
   "cell_type": "code",
   "execution_count": 78,
   "id": "d9075398",
   "metadata": {
    "scrolled": true
   },
   "outputs": [],
   "source": [
    "early_stopping_callback = tf.keras.callbacks.EarlyStopping(\n",
    "    monitor = 'val_loss',\n",
    "    min_delta = 0,\n",
    "    patience = 4,\n",
    "    verbose = 1,\n",
    "    mode = 'auto',\n",
    "    baseline = None,\n",
    "    restore_best_weights = True\n",
    ")"
   ]
  },
  {
   "cell_type": "markdown",
   "id": "4bfbf197",
   "metadata": {},
   "source": [
    "#### Defined Metrices to monitor in training and evaluation phase\n",
    "* True Positives\n",
    "* False Positives\n",
    "* True Negatives\n",
    "* False Negatives\n",
    "* Binary Accuracy \n",
    "* Recall\n",
    "* Precision\n",
    "* AUC (ROC) - Multi-Label\n",
    "* AUC (PR)"
   ]
  },
  {
   "cell_type": "code",
   "execution_count": 79,
   "id": "ed620d97",
   "metadata": {
    "scrolled": true
   },
   "outputs": [],
   "source": [
    "METRICS = [\n",
    "  tf.keras.metrics.TruePositives(name = 'tp'),\n",
    "  tf.keras.metrics.FalsePositives(name = 'fp'),\n",
    "  tf.keras.metrics.TrueNegatives(name = 'tn'),\n",
    "  tf.keras.metrics.FalseNegatives(name = 'fn'), \n",
    "  tf.keras.metrics.BinaryAccuracy(name = 'binary_accuracy'),\n",
    "  tf.keras.metrics.Precision(name = 'precision', thresholds = 0.3),\n",
    "  tf.keras.metrics.Recall(name = 'recall', thresholds = 0.3),\n",
    "  tf.keras.metrics.AUC(name = 'auc', multi_label = True, num_labels = 15, thresholds = THRESHOLDS),\n",
    "  tf.keras.metrics.AUC(name = 'prc', curve = 'PR')\n",
    "]"
   ]
  },
  {
   "cell_type": "markdown",
   "id": "53532523",
   "metadata": {},
   "source": [
    "#### Class for Multi-Label Binary Cross Entropy with Positive/Negative Weighting"
   ]
  },
  {
   "cell_type": "code",
   "execution_count": 94,
   "id": "bad1d5ee",
   "metadata": {
    "scrolled": true
   },
   "outputs": [],
   "source": [
    "class MultiLabelCrossEntropy:\n",
    "    def __init__(self, labels: DataFrame, epsilon = 1e-7):\n",
    "        self.epsilon = epsilon\n",
    "        self.N = labels.shape[0]\n",
    "        self.freq_p = np.sum(labels == 1, axis=0)\n",
    "        self.freq_n = np.sum(labels == 0, axis=0)\n",
    "        self.freq_pos = np.sum(labels == 1, axis=0) / self.N\n",
    "        self.freq_neg = np.sum(labels == 0, axis=0) / self.N\n",
    "        self.pos_weights = self.freq_neg\n",
    "        self.neg_weights = self.freq_pos\n",
    "        \n",
    "        self.tabulated_weights_data = []\n",
    "        for i in range(15):\n",
    "            row = [CLASS_LABELS[i], self.freq_p[i], self.freq_n[i], self.pos_weights[i], self.neg_weights[i]]\n",
    "            self.tabulated_weights_data.append(row)\n",
    "            \n",
    "        print(tabulate(\n",
    "            self.tabulated_weights_data, \n",
    "            headers = [\"Class Name\", \"Positive Frequency\", \"Negative Frequency\", \"Positive Weight\", \"Negative Weight\"], \n",
    "            tablefmt = \"github\", \n",
    "            numalign = \"left\"\n",
    "        ))\n",
    "        \n",
    "    def contribution(self):\n",
    "        return self.freq_pos * self.pos_weights, self.freq_neg * self.neg_weights\n",
    "        \n",
    "    def calculate_loss(self, true_y, pred_y):\n",
    "        loss = 0.0\n",
    "        for i in range(len(self.pos_weights)):\n",
    "            loss += (-1 * K.mean(self.pos_weights[i] * true_y[:,i] * K.log(pred_y[:,i] + self.epsilon))) + (-1 * K.mean(self.neg_weights[i] * (1 - true_y[:,i]) * K.log(1 - pred_y[:,i] + self.epsilon)))\n",
    "        return loss"
   ]
  },
  {
   "cell_type": "code",
   "execution_count": 95,
   "id": "a9618fb0",
   "metadata": {
    "scrolled": true
   },
   "outputs": [
    {
     "name": "stdout",
     "output_type": "stream",
     "text": [
      "| Class Name         | Positive Frequency   | Negative Frequency   | Positive Weight   | Negative Weight   |\n",
      "|--------------------|----------------------|----------------------|-------------------|-------------------|\n",
      "| Atelectasis        | 8276                 | 72450                | 0.89748           | 0.10252           |\n",
      "| Cardiomegaly       | 2015                 | 78711                | 0.975039          | 0.024961          |\n",
      "| Consolidation      | 3324                 | 77402                | 0.958824          | 0.0411763         |\n",
      "| Edema              | 1656                 | 79070                | 0.979486          | 0.0205138         |\n",
      "| Effusion           | 9717                 | 71009                | 0.87963           | 0.12037           |\n",
      "| Emphysema          | 1758                 | 78968                | 0.978223          | 0.0217774         |\n",
      "| Fibrosis           | 1213                 | 79513                | 0.984974          | 0.0150261         |\n",
      "| Hernia             | 152                  | 80574                | 0.998117          | 0.00188291        |\n",
      "| Infiltration       | 14190                | 66536                | 0.82422           | 0.17578           |\n",
      "| Mass               | 4105                 | 76621                | 0.949149          | 0.050851          |\n",
      "| No Finding         | 43543                | 37183                | 0.460607          | 0.539393          |\n",
      "| Nodule             | 4517                 | 76209                | 0.944045          | 0.0559547         |\n",
      "| Pleural_Thickening | 2478                 | 78248                | 0.969304          | 0.0306964         |\n",
      "| Pneumonia          | 987                  | 79739                | 0.987773          | 0.0122265         |\n",
      "| Pneumothorax       | 3784                 | 76942                | 0.953125          | 0.0468746         |\n"
     ]
    }
   ],
   "source": [
    "MLCE_Loss_With_Class_Weights = MultiLabelCrossEntropy(df_train[CLASS_LABELS])"
   ]
  },
  {
   "cell_type": "markdown",
   "id": "389af808",
   "metadata": {},
   "source": [
    "#### Defined Optimizers and Losses Dictionaries\n",
    "##### Optimizers\n",
    "* Stochastic Gradient Descent (SGD)\n",
    "* Adaptive Moment Estimation (Adam)\n",
    "\n",
    "##### Losses\n",
    "* Binary Cross Entropy\n",
    "* Class Weighted Binary Cross Entropy for Multi-Label Classification"
   ]
  },
  {
   "cell_type": "code",
   "execution_count": 96,
   "id": "32ccab94",
   "metadata": {},
   "outputs": [],
   "source": [
    "DEFINED_OPTIMIZERS = {\n",
    "    \"SGD\" : tf.keras.optimizers.SGD(learning_rate = LEARNING_RATE, decay = 1e-6, momentum = 0.9, nesterov = True),\n",
    "    \"ADAM\" : tf.keras.optimizers.Adam(learning_rate = LEARNING_RATE, beta_1 = 0.9, beta_2 = 0.999,)\n",
    "}\n",
    "\n",
    "DEFINED_LOSSES = {\n",
    "    \"BCE\" : \"binary_crossentropy\", \n",
    "    \"MLBCE_CW\" : MLCE_Loss_With_Class_Weights.calculate_loss\n",
    "}"
   ]
  },
  {
   "cell_type": "markdown",
   "id": "5fa116d7",
   "metadata": {},
   "source": [
    "#### Model Initialization and Compilation with decided parameters"
   ]
  },
  {
   "cell_type": "code",
   "execution_count": 97,
   "id": "cd8826b1",
   "metadata": {
    "execution": {
     "iopub.execute_input": "2022-12-13T00:20:48.414043Z",
     "iopub.status.busy": "2022-12-13T00:20:48.413675Z",
     "iopub.status.idle": "2022-12-13T00:20:48.437638Z",
     "shell.execute_reply": "2022-12-13T00:20:48.436609Z",
     "shell.execute_reply.started": "2022-12-13T00:20:48.414006Z"
    },
    "scrolled": true
   },
   "outputs": [],
   "source": [
    "channels = (3,)\n",
    "input_shape = IMAGE_SIZE + channels\n",
    "img_input = Input(shape = input_shape)\n",
    "\n",
    "MODEL_NAME = \"MobileNet\"\n",
    "base_model = MobileNet(\n",
    "    input_shape = input_shape,\n",
    "    include_top = False,\n",
    "    weights = \"imagenet\"\n",
    ")\n",
    "\n",
    "classifier = Sequential()\n",
    "classifier.add(GlobalAveragePooling2D(input_shape = base_model.output_shape[1:]))\n",
    "classifier.add(Dropout(0.2))\n",
    "\n",
    "classifier.add(Dense(256))\n",
    "classifier.add(BatchNormalization())\n",
    "classifier.add(Activation('relu'))\n",
    "classifier.add(Dropout(0.2))\n",
    "\n",
    "classifier.add(Dense(50))\n",
    "classifier.add(BatchNormalization())\n",
    "classifier.add(Activation('relu'))\n",
    "classifier.add(Dropout(0.2))\n",
    "\n",
    "classifier.add(Dense(15, activation = \"sigmoid\"))\n",
    "\n",
    "model = Model(inputs = base_model.input, outputs = classifier(base_model.output))\n",
    "# model.load_weights(f\"./saved_weights/{MODEL_NAME}_{EPOCHS}_weights.h5\")\n",
    "\n",
    "model.compile(\n",
    "    optimizer = DEFINED_OPTIMIZERS[\"ADAM\"],\n",
    "    loss = DEFINED_LOSSES[\"MLBCE_CW\"],\n",
    "    metrics = METRICS,\n",
    ")\n",
    "\n",
    "USE_CLASS_WEIGHTS_IN_MODEL_FIT = False"
   ]
  },
  {
   "cell_type": "markdown",
   "id": "65658b5d",
   "metadata": {},
   "source": [
    "#### Traning of model for set epochs"
   ]
  },
  {
   "cell_type": "code",
   "execution_count": 84,
   "id": "c9397b88",
   "metadata": {
    "execution": {
     "iopub.execute_input": "2022-12-13T00:20:48.439347Z",
     "iopub.status.busy": "2022-12-13T00:20:48.439039Z"
    },
    "scrolled": true
   },
   "outputs": [
    {
     "name": "stdout",
     "output_type": "stream",
     "text": [
      "Epoch 1/10\n",
      " 272/3363 [=>............................] - ETA: 33:08 - loss: 1.5454 - tp: 5790.0000 - fp: 49256.0000 - tn: 40491.0000 - fn: 2383.0000 - binary_accuracy: 0.4726 - precision: 0.0911 - recall: 0.9229 - auc: 0.5606 - prc: 0.1252"
     ]
    },
    {
     "ename": "KeyboardInterrupt",
     "evalue": "",
     "output_type": "error",
     "traceback": [
      "\u001b[1;31m---------------------------------------------------------------------------\u001b[0m",
      "\u001b[1;31mKeyboardInterrupt\u001b[0m                         Traceback (most recent call last)",
      "\u001b[1;32m<ipython-input-84-a775f17f6194>\u001b[0m in \u001b[0;36m<module>\u001b[1;34m\u001b[0m\n\u001b[0;32m     10\u001b[0m     \u001b[0mcallbacks\u001b[0m \u001b[1;33m=\u001b[0m \u001b[1;32mNone\u001b[0m\u001b[1;33m,\u001b[0m\u001b[1;33m\u001b[0m\u001b[1;33m\u001b[0m\u001b[0m\n\u001b[0;32m     11\u001b[0m     \u001b[0mverbose\u001b[0m \u001b[1;33m=\u001b[0m \u001b[1;36m1\u001b[0m\u001b[1;33m,\u001b[0m\u001b[1;33m\u001b[0m\u001b[1;33m\u001b[0m\u001b[0m\n\u001b[1;32m---> 12\u001b[1;33m     \u001b[0mclass_weight\u001b[0m \u001b[1;33m=\u001b[0m \u001b[0mCLASS_WEIGHTS\u001b[0m \u001b[1;32mif\u001b[0m \u001b[0mUSE_CLASS_WEIGHTS_IN_MODEL_FIT\u001b[0m \u001b[1;32melse\u001b[0m \u001b[1;32mNone\u001b[0m\u001b[1;33m,\u001b[0m\u001b[1;33m\u001b[0m\u001b[1;33m\u001b[0m\u001b[0m\n\u001b[0m\u001b[0;32m     13\u001b[0m )\n\u001b[0;32m     14\u001b[0m \u001b[1;33m\u001b[0m\u001b[0m\n",
      "\u001b[1;32m~\\anaconda3\\envs\\tf\\lib\\site-packages\\keras\\engine\\training.py\u001b[0m in \u001b[0;36mfit\u001b[1;34m(self, x, y, batch_size, epochs, verbose, callbacks, validation_split, validation_data, shuffle, class_weight, sample_weight, initial_epoch, steps_per_epoch, validation_steps, validation_batch_size, validation_freq, max_queue_size, workers, use_multiprocessing)\u001b[0m\n\u001b[0;32m   1182\u001b[0m                 _r=1):\n\u001b[0;32m   1183\u001b[0m               \u001b[0mcallbacks\u001b[0m\u001b[1;33m.\u001b[0m\u001b[0mon_train_batch_begin\u001b[0m\u001b[1;33m(\u001b[0m\u001b[0mstep\u001b[0m\u001b[1;33m)\u001b[0m\u001b[1;33m\u001b[0m\u001b[1;33m\u001b[0m\u001b[0m\n\u001b[1;32m-> 1184\u001b[1;33m               \u001b[0mtmp_logs\u001b[0m \u001b[1;33m=\u001b[0m \u001b[0mself\u001b[0m\u001b[1;33m.\u001b[0m\u001b[0mtrain_function\u001b[0m\u001b[1;33m(\u001b[0m\u001b[0miterator\u001b[0m\u001b[1;33m)\u001b[0m\u001b[1;33m\u001b[0m\u001b[1;33m\u001b[0m\u001b[0m\n\u001b[0m\u001b[0;32m   1185\u001b[0m               \u001b[1;32mif\u001b[0m \u001b[0mdata_handler\u001b[0m\u001b[1;33m.\u001b[0m\u001b[0mshould_sync\u001b[0m\u001b[1;33m:\u001b[0m\u001b[1;33m\u001b[0m\u001b[1;33m\u001b[0m\u001b[0m\n\u001b[0;32m   1186\u001b[0m                 \u001b[0mcontext\u001b[0m\u001b[1;33m.\u001b[0m\u001b[0masync_wait\u001b[0m\u001b[1;33m(\u001b[0m\u001b[1;33m)\u001b[0m\u001b[1;33m\u001b[0m\u001b[1;33m\u001b[0m\u001b[0m\n",
      "\u001b[1;32m~\\anaconda3\\envs\\tf\\lib\\site-packages\\tensorflow\\python\\eager\\def_function.py\u001b[0m in \u001b[0;36m__call__\u001b[1;34m(self, *args, **kwds)\u001b[0m\n\u001b[0;32m    883\u001b[0m \u001b[1;33m\u001b[0m\u001b[0m\n\u001b[0;32m    884\u001b[0m       \u001b[1;32mwith\u001b[0m \u001b[0mOptionalXlaContext\u001b[0m\u001b[1;33m(\u001b[0m\u001b[0mself\u001b[0m\u001b[1;33m.\u001b[0m\u001b[0m_jit_compile\u001b[0m\u001b[1;33m)\u001b[0m\u001b[1;33m:\u001b[0m\u001b[1;33m\u001b[0m\u001b[1;33m\u001b[0m\u001b[0m\n\u001b[1;32m--> 885\u001b[1;33m         \u001b[0mresult\u001b[0m \u001b[1;33m=\u001b[0m \u001b[0mself\u001b[0m\u001b[1;33m.\u001b[0m\u001b[0m_call\u001b[0m\u001b[1;33m(\u001b[0m\u001b[1;33m*\u001b[0m\u001b[0margs\u001b[0m\u001b[1;33m,\u001b[0m \u001b[1;33m**\u001b[0m\u001b[0mkwds\u001b[0m\u001b[1;33m)\u001b[0m\u001b[1;33m\u001b[0m\u001b[1;33m\u001b[0m\u001b[0m\n\u001b[0m\u001b[0;32m    886\u001b[0m \u001b[1;33m\u001b[0m\u001b[0m\n\u001b[0;32m    887\u001b[0m       \u001b[0mnew_tracing_count\u001b[0m \u001b[1;33m=\u001b[0m \u001b[0mself\u001b[0m\u001b[1;33m.\u001b[0m\u001b[0mexperimental_get_tracing_count\u001b[0m\u001b[1;33m(\u001b[0m\u001b[1;33m)\u001b[0m\u001b[1;33m\u001b[0m\u001b[1;33m\u001b[0m\u001b[0m\n",
      "\u001b[1;32m~\\anaconda3\\envs\\tf\\lib\\site-packages\\tensorflow\\python\\eager\\def_function.py\u001b[0m in \u001b[0;36m_call\u001b[1;34m(self, *args, **kwds)\u001b[0m\n\u001b[0;32m    915\u001b[0m       \u001b[1;31m# In this case we have created variables on the first call, so we run the\u001b[0m\u001b[1;33m\u001b[0m\u001b[1;33m\u001b[0m\u001b[1;33m\u001b[0m\u001b[0m\n\u001b[0;32m    916\u001b[0m       \u001b[1;31m# defunned version which is guaranteed to never create variables.\u001b[0m\u001b[1;33m\u001b[0m\u001b[1;33m\u001b[0m\u001b[1;33m\u001b[0m\u001b[0m\n\u001b[1;32m--> 917\u001b[1;33m       \u001b[1;32mreturn\u001b[0m \u001b[0mself\u001b[0m\u001b[1;33m.\u001b[0m\u001b[0m_stateless_fn\u001b[0m\u001b[1;33m(\u001b[0m\u001b[1;33m*\u001b[0m\u001b[0margs\u001b[0m\u001b[1;33m,\u001b[0m \u001b[1;33m**\u001b[0m\u001b[0mkwds\u001b[0m\u001b[1;33m)\u001b[0m  \u001b[1;31m# pylint: disable=not-callable\u001b[0m\u001b[1;33m\u001b[0m\u001b[1;33m\u001b[0m\u001b[0m\n\u001b[0m\u001b[0;32m    918\u001b[0m     \u001b[1;32melif\u001b[0m \u001b[0mself\u001b[0m\u001b[1;33m.\u001b[0m\u001b[0m_stateful_fn\u001b[0m \u001b[1;32mis\u001b[0m \u001b[1;32mnot\u001b[0m \u001b[1;32mNone\u001b[0m\u001b[1;33m:\u001b[0m\u001b[1;33m\u001b[0m\u001b[1;33m\u001b[0m\u001b[0m\n\u001b[0;32m    919\u001b[0m       \u001b[1;31m# Release the lock early so that multiple threads can perform the call\u001b[0m\u001b[1;33m\u001b[0m\u001b[1;33m\u001b[0m\u001b[1;33m\u001b[0m\u001b[0m\n",
      "\u001b[1;32m~\\anaconda3\\envs\\tf\\lib\\site-packages\\tensorflow\\python\\eager\\function.py\u001b[0m in \u001b[0;36m__call__\u001b[1;34m(self, *args, **kwargs)\u001b[0m\n\u001b[0;32m   3038\u001b[0m        filtered_flat_args) = self._maybe_define_function(args, kwargs)\n\u001b[0;32m   3039\u001b[0m     return graph_function._call_flat(\n\u001b[1;32m-> 3040\u001b[1;33m         filtered_flat_args, captured_inputs=graph_function.captured_inputs)  # pylint: disable=protected-access\n\u001b[0m\u001b[0;32m   3041\u001b[0m \u001b[1;33m\u001b[0m\u001b[0m\n\u001b[0;32m   3042\u001b[0m   \u001b[1;33m@\u001b[0m\u001b[0mproperty\u001b[0m\u001b[1;33m\u001b[0m\u001b[1;33m\u001b[0m\u001b[0m\n",
      "\u001b[1;32m~\\anaconda3\\envs\\tf\\lib\\site-packages\\tensorflow\\python\\eager\\function.py\u001b[0m in \u001b[0;36m_call_flat\u001b[1;34m(self, args, captured_inputs, cancellation_manager)\u001b[0m\n\u001b[0;32m   1962\u001b[0m       \u001b[1;31m# No tape is watching; skip to running the function.\u001b[0m\u001b[1;33m\u001b[0m\u001b[1;33m\u001b[0m\u001b[1;33m\u001b[0m\u001b[0m\n\u001b[0;32m   1963\u001b[0m       return self._build_call_outputs(self._inference_function.call(\n\u001b[1;32m-> 1964\u001b[1;33m           ctx, args, cancellation_manager=cancellation_manager))\n\u001b[0m\u001b[0;32m   1965\u001b[0m     forward_backward = self._select_forward_and_backward_functions(\n\u001b[0;32m   1966\u001b[0m         \u001b[0margs\u001b[0m\u001b[1;33m,\u001b[0m\u001b[1;33m\u001b[0m\u001b[1;33m\u001b[0m\u001b[0m\n",
      "\u001b[1;32m~\\anaconda3\\envs\\tf\\lib\\site-packages\\tensorflow\\python\\eager\\function.py\u001b[0m in \u001b[0;36mcall\u001b[1;34m(self, ctx, args, cancellation_manager)\u001b[0m\n\u001b[0;32m    594\u001b[0m               \u001b[0minputs\u001b[0m\u001b[1;33m=\u001b[0m\u001b[0margs\u001b[0m\u001b[1;33m,\u001b[0m\u001b[1;33m\u001b[0m\u001b[1;33m\u001b[0m\u001b[0m\n\u001b[0;32m    595\u001b[0m               \u001b[0mattrs\u001b[0m\u001b[1;33m=\u001b[0m\u001b[0mattrs\u001b[0m\u001b[1;33m,\u001b[0m\u001b[1;33m\u001b[0m\u001b[1;33m\u001b[0m\u001b[0m\n\u001b[1;32m--> 596\u001b[1;33m               ctx=ctx)\n\u001b[0m\u001b[0;32m    597\u001b[0m         \u001b[1;32melse\u001b[0m\u001b[1;33m:\u001b[0m\u001b[1;33m\u001b[0m\u001b[1;33m\u001b[0m\u001b[0m\n\u001b[0;32m    598\u001b[0m           outputs = execute.execute_with_cancellation(\n",
      "\u001b[1;32m~\\anaconda3\\envs\\tf\\lib\\site-packages\\tensorflow\\python\\eager\\execute.py\u001b[0m in \u001b[0;36mquick_execute\u001b[1;34m(op_name, num_outputs, inputs, attrs, ctx, name)\u001b[0m\n\u001b[0;32m     58\u001b[0m     \u001b[0mctx\u001b[0m\u001b[1;33m.\u001b[0m\u001b[0mensure_initialized\u001b[0m\u001b[1;33m(\u001b[0m\u001b[1;33m)\u001b[0m\u001b[1;33m\u001b[0m\u001b[1;33m\u001b[0m\u001b[0m\n\u001b[0;32m     59\u001b[0m     tensors = pywrap_tfe.TFE_Py_Execute(ctx._handle, device_name, op_name,\n\u001b[1;32m---> 60\u001b[1;33m                                         inputs, attrs, num_outputs)\n\u001b[0m\u001b[0;32m     61\u001b[0m   \u001b[1;32mexcept\u001b[0m \u001b[0mcore\u001b[0m\u001b[1;33m.\u001b[0m\u001b[0m_NotOkStatusException\u001b[0m \u001b[1;32mas\u001b[0m \u001b[0me\u001b[0m\u001b[1;33m:\u001b[0m\u001b[1;33m\u001b[0m\u001b[1;33m\u001b[0m\u001b[0m\n\u001b[0;32m     62\u001b[0m     \u001b[1;32mif\u001b[0m \u001b[0mname\u001b[0m \u001b[1;32mis\u001b[0m \u001b[1;32mnot\u001b[0m \u001b[1;32mNone\u001b[0m\u001b[1;33m:\u001b[0m\u001b[1;33m\u001b[0m\u001b[1;33m\u001b[0m\u001b[0m\n",
      "\u001b[1;31mKeyboardInterrupt\u001b[0m: "
     ]
    }
   ],
   "source": [
    "start_time = time.time()\n",
    "\n",
    "history = model.fit(\n",
    "    epochs = EPOCHS,\n",
    "    x = train_gen,\n",
    "    validation_data = valid_gen,  \n",
    "    steps_per_epoch = train_gen.n / train_gen.batch_size,\n",
    "    validation_steps = valid_gen.n / valid_gen.batch_size,  \n",
    "    shuffle = False,\n",
    "    callbacks = None,\n",
    "    verbose = 1,\n",
    "    class_weight = CLASS_WEIGHTS if USE_CLASS_WEIGHTS_IN_MODEL_FIT else None,\n",
    ")\n",
    "\n",
    "print(f\"\\nTime Taken: {(time.time() - start_time) / 3600 : .4f} Hours\")"
   ]
  },
  {
   "cell_type": "code",
   "execution_count": null,
   "id": "8d98e5f4",
   "metadata": {
    "scrolled": true
   },
   "outputs": [],
   "source": [
    "plt.figure(1, figsize = (6,3))\n",
    "plt.plot([int(x) for x in range(1, EPOCHS + 1)], history.history['loss'], 'g', label = 'Training')\n",
    "plt.plot([int(x) for x in range(1, EPOCHS + 1)], history.history['val_loss'], 'b', label = 'Validation')\n",
    "plt.title(f'{MODEL_NAME} Training & Validation Loss')\n",
    "plt.xlabel('Epochs')\n",
    "plt.ylabel('Loss')\n",
    "plt.legend()\n",
    "plt.show()\n",
    "\n",
    "plt.figure(2, figsize = (6,3))\n",
    "plt.plot([int(x) for x in range(1, EPOCHS + 1)], history.history['binary_accuracy'], 'g', label = 'Training')\n",
    "plt.plot([int(x) for x in range(1, EPOCHS + 1)], history.history['val_binary_accuracy'], 'b', label = 'Validation')\n",
    "plt.title(f'{MODEL_NAME} Training & Validation Binary Accuracy')\n",
    "plt.xlabel('Epochs')\n",
    "plt.ylabel('Binary Accuracy')\n",
    "plt.legend()\n",
    "plt.show()\n",
    "\n",
    "plt.figure(3, figsize = (6,3))\n",
    "plt.plot([int(x) for x in range(1, EPOCHS + 1)], history.history['recall'], 'g', label = 'Training')\n",
    "plt.plot([int(x) for x in range(1, EPOCHS + 1)], history.history['val_recall'], 'b', label = 'Validation')\n",
    "plt.title(f'{MODEL_NAME} Training & Validation Recall')\n",
    "plt.xlabel('Epochs')\n",
    "plt.ylabel('Recall')\n",
    "plt.legend()\n",
    "plt.show()\n",
    "\n",
    "plt.figure(4, figsize = (6,3))\n",
    "plt.plot([int(x) for x in range(1, EPOCHS + 1)], history.history['precision'], 'g', label = 'Training')\n",
    "plt.plot([int(x) for x in range(1, EPOCHS + 1)], history.history['val_precision'], 'b', label = 'Validation')\n",
    "plt.title(f'{MODEL_NAME} Training & Validation Precision')\n",
    "plt.xlabel('Epochs')\n",
    "plt.ylabel('Precision')\n",
    "plt.legend()\n",
    "plt.show()\n",
    "\n",
    "plt.figure(6, figsize = (6,3))\n",
    "plt.plot([int(x) for x in range(1, EPOCHS + 1)], history.history['auc'], 'g', label = 'Training')\n",
    "plt.plot([int(x) for x in range(1, EPOCHS + 1)], history.history['val_auc'], 'b', label = 'Validation')\n",
    "plt.title(f'{MODEL_NAME} Training & Validation AUC')\n",
    "plt.xlabel('Epochs')\n",
    "plt.ylabel('AUC')\n",
    "plt.legend()\n",
    "plt.show()\n",
    "\n",
    "plt.figure(7, figsize = (6,3))\n",
    "plt.plot([int(x) for x in range(1, EPOCHS + 1)], history.history['prc'], 'g', label = 'Training')\n",
    "plt.plot([int(x) for x in range(1, EPOCHS + 1)], history.history['val_prc'], 'b', label = 'Validation')\n",
    "plt.title(f'{MODEL_NAME} Training & Validation PRC')\n",
    "plt.xlabel('Epochs')\n",
    "plt.ylabel('PRC')\n",
    "plt.legend()\n",
    "plt.show()"
   ]
  },
  {
   "cell_type": "code",
   "execution_count": null,
   "id": "1a223f32",
   "metadata": {
    "scrolled": true
   },
   "outputs": [],
   "source": [
    "model.save_weights(f\"./saved_weights/{MODEL_NAME}_{EPOCHS}_weights.h5\")\n",
    "evaluation = model.evaluate(test_gen)"
   ]
  },
  {
   "cell_type": "code",
   "execution_count": null,
   "id": "37f91788",
   "metadata": {
    "scrolled": true
   },
   "outputs": [],
   "source": [
    "test_loss = evaluation[0]\n",
    "TP = evaluation[1]\n",
    "FP = evaluation[2]\n",
    "TN = evaluation[3]\n",
    "FN = evaluation[4]\n",
    "binary_accuracy = evaluation[5] * 100\n",
    "auc = evaluation[8] * 100\n",
    "auc_pr = evaluation[9] * 100\n",
    "\n",
    "specificity = (TN / (TN + FP)) * 100\n",
    "recall = (TP / (TP + FN)) * 100\n",
    "precision = (TP / (TP + FP)) * 100\n",
    "f1_score = (2 * recall * precision) / (recall + precision)\n",
    "\n",
    "print(f\"Testing Loss: \\t\\t{test_loss}\\n\")\n",
    "print(f\"True Positives: \\t{TP}\\nFalse Positives: \\t{FP}\\nTrue Negatives: \\t{TN}\\nFalse Negatives: \\t{FN}\\n\")\n",
    "print(f\"Binary Accuracy: \\t{binary_accuracy}\")\n",
    "print(f\"Average Recall: \\t{recall}\\nAverage Precision: \\t{precision}\\nF1-Score: \\t\\t{f1_score}\\nAverage Specificity: \\t{specificity}\\n\")\n",
    "print(f\"AUC: \\t\\t\\t{auc}\\nAUC-PR: \\t\\t{auc_pr}\")"
   ]
  },
  {
   "cell_type": "code",
   "execution_count": null,
   "id": "3747998d",
   "metadata": {
    "scrolled": true
   },
   "outputs": [],
   "source": [
    "test_gen.reset()\n",
    "predictions = model.predict(test_gen)"
   ]
  },
  {
   "cell_type": "code",
   "execution_count": null,
   "id": "bf9f6048",
   "metadata": {
    "scrolled": true
   },
   "outputs": [],
   "source": [
    "def binary_accuracy(y_true, y_pred):\n",
    "    return K.mean(K.equal(y_true, K.round(y_pred)))\n",
    "\n",
    "def precision_threshold(threshold = 0.5):\n",
    "    def precision(y_true, y_pred):\n",
    "        threshold_value = threshold\n",
    "        y_pred = K.cast(K.greater(K.clip(y_pred, 0, 1), threshold_value), K.floatx())\n",
    "        true_positives = K.round(K.sum(K.clip(y_true * y_pred, 0, 1)))\n",
    "        predicted_positives = K.sum(y_pred)\n",
    "        precision_ratio = true_positives / (predicted_positives + K.epsilon())\n",
    "        return precision_ratio\n",
    "    return precision\n",
    "\n",
    "def recall_threshold(threshold = 0.5):\n",
    "    def recall(y_true, y_pred):\n",
    "        threshold_value = threshold\n",
    "        y_pred = K.cast(K.greater(K.clip(y_pred, 0, 1), threshold_value), K.floatx())\n",
    "        true_positives = K.round(K.sum(K.clip(y_true * y_pred, 0, 1)))\n",
    "        possible_positives = K.sum(K.clip(y_true, 0, 1))\n",
    "        recall_ratio = true_positives / (possible_positives + K.epsilon())\n",
    "        return recall_ratio\n",
    "    return recall\n",
    "\n",
    "def fbeta_score_threshold(beta = 1, threshold = 0.5):\n",
    "    def fbeta_score(y_true, y_pred):\n",
    "        threshold_value = threshold\n",
    "        beta_value = beta\n",
    "        p = precision_threshold(threshold_value)(y_true, y_pred)\n",
    "        r = recall_threshold(threshold_value)(y_true, y_pred)\n",
    "        bb = beta_value ** 2\n",
    "        fbeta_score = (1 + bb) * (p * r) / (bb * p + r + K.epsilon())\n",
    "        return fbeta_score\n",
    "    return fbeta_score\n",
    "    \n",
    "def print_results(beta, threshold, test_labels, prediction):\n",
    "    accuracy = K.eval(binary_accuracy(K.variable(value = test_labels), K.variable(value = prediction)))\n",
    "    precision = K.eval(precision_threshold(threshold = threshold)(K.variable(value = test_labels), K.variable(value = prediction)))\n",
    "    recall = K.eval(recall_threshold(threshold = threshold)(K.variable(value = test_labels), K.variable(value = prediction)))\n",
    "    f1_score = K.eval(fbeta_score_threshold(beta = beta, threshold = threshold)(K.variable(value = test_labels), K.variable(value = prediction)))\n",
    "    print(f\"BETA: {beta}, THRESHOLD: {threshold}\")\n",
    "    print (f\"Binary Accuracy: \\t{accuracy * 100} % \\nRecall: \\t\\t{recall * 100} % \\nPrecision: \\t\\t{precision * 100} % \\nF1-Score: \\t\\t{f1_score * 100} %\\n\")"
   ]
  },
  {
   "cell_type": "code",
   "execution_count": null,
   "id": "c8b16d09",
   "metadata": {
    "scrolled": true
   },
   "outputs": [],
   "source": [
    "test_labels = []\n",
    "for label in test_gen.labels:\n",
    "    test_labels.append(label)\n",
    "\n",
    "# # Results with F Score giving more weightage to Recall\n",
    "# for threshold in THRESHOLDS:\n",
    "#     print_results(beta = BETA_FOR_BIASED_RECALL, threshold = threshold, test_labels = test_labels, prediction = predictions)\n",
    "\n",
    "# # Results with F Score giving more weightage to Precision\n",
    "# for threshold in THRESHOLDS:\n",
    "#     print_results(beta = BETA_FOR_BIASED_PRECISION, threshold = threshold, test_labels = test_labels, prediction = predictions)\n",
    "\n",
    "# Results with F Score giving equal weightage to Recall and Precision\n",
    "for threshold in THRESHOLDS:\n",
    "    print_results(beta = BETA_WITH_NO_BIAS, threshold = threshold, test_labels = test_labels, prediction = predictions)"
   ]
  },
  {
   "cell_type": "code",
   "execution_count": null,
   "id": "51cddada",
   "metadata": {
    "scrolled": true
   },
   "outputs": [],
   "source": [
    "def print_confusion_matrix(confusion_matrix, axes, class_label, class_names, fontsize=14):\n",
    "    df_cm = pd.DataFrame(confusion_matrix, index=class_names, columns=class_names,)\n",
    "\n",
    "    try:\n",
    "        heatmap = sns.heatmap(df_cm, annot=True, fmt=\"d\", cbar=False, ax=axes)\n",
    "    except ValueError:\n",
    "        raise ValueError(\"Confusion matrix values must be integers.\")\n",
    "    \n",
    "    heatmap.yaxis.set_ticklabels(heatmap.yaxis.get_ticklabels(), rotation=0, ha='right', fontsize=fontsize)\n",
    "    heatmap.xaxis.set_ticklabels(heatmap.xaxis.get_ticklabels(), rotation=45, ha='right', fontsize=fontsize)\n",
    "    axes.set_ylabel('True label')\n",
    "    axes.set_xlabel('Predicted label')\n",
    "    axes.set_title(\"Confusion Matrix - \" + class_label)"
   ]
  },
  {
   "cell_type": "code",
   "execution_count": null,
   "id": "2634dcc3",
   "metadata": {
    "scrolled": true
   },
   "outputs": [],
   "source": [
    "threshold = 0.3\n",
    "y_test = test_gen.labels\n",
    "y_predicted = (predictions >= threshold).astype(int)\n",
    "confusion_matrix = multilabel_confusion_matrix(y_test, y_predicted)\n",
    "\n",
    "fig, ax = plt.subplots(3, 5, figsize=(22, 10))\n",
    "for axes, cfs_matrix, label in zip(ax.flatten(), confusion_matrix, CLASS_LABELS):\n",
    "    print_confusion_matrix(cfs_matrix, axes, label, [\"N\", \"Y\"])\n",
    "    \n",
    "fig.tight_layout()\n",
    "plt.show()"
   ]
  },
  {
   "cell_type": "code",
   "execution_count": null,
   "id": "9116981f",
   "metadata": {
    "scrolled": true
   },
   "outputs": [],
   "source": [
    "plt.rcParams[\"figure.figsize\"] = (15,10)\n",
    "plt.rcParams['figure.dpi'] = 150\n",
    "\n",
    "colors = cycle(['blue', 'red', 'green', 'black', 'purple', 'magenta', 'cyan', 'orange', 'teal', 'darkgreen'])\n",
    "fpr = dict()\n",
    "tpr = dict()\n",
    "roc_auc = dict()\n",
    "lw = 2\n",
    "\n",
    "for i in range(len(CLASS_LABELS)):\n",
    "    fpr[i], tpr[i], _ = roc_curve(y_test[:, i], predictions[:, i])\n",
    "    roc_auc[i] = sklearn.metrics.auc(fpr[i], tpr[i])\n",
    "\n",
    "avg_auc = 0\n",
    "for auc_value in roc_auc.values():\n",
    "    avg_auc += auc_value\n",
    "print(f\"[{MODEL_NAME} with {EPOCHS} Epochs] - Average AUC: {avg_auc / 15}\")\n",
    "    \n",
    "for i, color in zip(range(len(CLASS_LABELS)), colors):\n",
    "    plt.plot(fpr[i], tpr[i], color = color, lw = 2, label = '{0} (AUC = {1:0.2f})'''.format(CLASS_LABELS[i], roc_auc[i]))\n",
    "\n",
    "plt.xlim([-0.05, 1.0])\n",
    "plt.ylim([0.0, 1.05])\n",
    "plt.xlabel('False Positive Rate')\n",
    "plt.ylabel('True Positive Rate')\n",
    "plt.title(f'ROC - {MODEL_NAME} with {EPOCHS} Epochs')\n",
    "plt.legend(loc = \"lower right\")\n",
    "plt.show()"
   ]
  },
  {
   "cell_type": "code",
   "execution_count": null,
   "id": "b602a1e0",
   "metadata": {
    "scrolled": true
   },
   "outputs": [],
   "source": []
  }
 ],
 "metadata": {
  "kernelspec": {
   "display_name": "Python 3",
   "language": "python",
   "name": "python3"
  },
  "language_info": {
   "codemirror_mode": {
    "name": "ipython",
    "version": 3
   },
   "file_extension": ".py",
   "mimetype": "text/x-python",
   "name": "python",
   "nbconvert_exporter": "python",
   "pygments_lexer": "ipython3",
   "version": "3.6.13"
  }
 },
 "nbformat": 4,
 "nbformat_minor": 5
}
