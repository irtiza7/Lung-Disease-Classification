{
 "cells": [
  {
   "cell_type": "code",
   "execution_count": 1,
   "id": "a937500a",
   "metadata": {
    "execution": {
     "iopub.execute_input": "2022-12-13T00:17:17.560168Z",
     "iopub.status.busy": "2022-12-13T00:17:17.559846Z",
     "iopub.status.idle": "2022-12-13T00:17:25.150281Z",
     "shell.execute_reply": "2022-12-13T00:17:25.149337Z",
     "shell.execute_reply.started": "2022-12-13T00:17:17.560092Z"
    }
   },
   "outputs": [],
   "source": [
    "import os\n",
    "import gc\n",
    "import cv2\n",
    "import time\n",
    "import itertools\n",
    "\n",
    "import numpy as np\n",
    "import pandas as pd\n",
    "import tensorflow as tf\n",
    "\n",
    "from keras import backend as K\n",
    "from matplotlib import pyplot as plt\n",
    "\n",
    "from glob import glob\n",
    "from tqdm import tqdm\n",
    "from sklearn.preprocessing import MultiLabelBinarizer\n",
    "from sklearn.model_selection import train_test_split\n",
    "from keras.preprocessing import image\n",
    "from tensorflow.keras import layers\n",
    "from tensorflow.keras import models\n",
    "from keras_preprocessing.image import ImageDataGenerator\n",
    "\n",
    "from keras.layers import Input\n",
    "from keras.models import Sequential, Model\n",
    "from keras.layers.core import Dense\n",
    "from keras.models import Model\n",
    "from keras.layers import Conv2D, MaxPooling2D, GlobalAveragePooling2D, Dropout, Flatten, Dense\n",
    "from keras.models import Sequential, Model\n",
    "from keras.layers import BatchNormalization, Activation\n",
    "from keras import regularizers, applications, optimizers, initializers\n",
    "from sklearn.metrics import classification_report, confusion_matrix\n",
    "\n",
    "from tensorflow.keras.applications import VGG16\n",
    "from tensorflow.keras.applications import InceptionV3\n",
    "from tensorflow.keras.applications import Xception\n",
    "from tensorflow.keras.applications import DenseNet121\n",
    "from tensorflow.keras.applications import ResNet50V2\n",
    "from tensorflow.keras.applications import MobileNet\n",
    "from tensorflow.keras.applications import MobileNetV2\n",
    "from tensorflow.keras.applications import EfficientNetB0\n",
    "from tensorflow.keras.applications import EfficientNetB1\n",
    "from tensorflow.keras.applications import EfficientNetB2\n",
    "from tensorflow.keras.applications import EfficientNetB3\n",
    "from tensorflow.keras.applications import EfficientNetB4\n",
    "from tensorflow.keras.applications import EfficientNetB5\n",
    "from tensorflow.keras.applications import EfficientNetB6\n",
    "from tensorflow.keras.applications import EfficientNetB7"
   ]
  },
  {
   "cell_type": "code",
   "execution_count": 2,
   "id": "d1fd1907",
   "metadata": {
    "execution": {
     "iopub.execute_input": "2022-12-13T00:17:25.165641Z",
     "iopub.status.busy": "2022-12-13T00:17:25.164854Z",
     "iopub.status.idle": "2022-12-13T00:17:25.183000Z",
     "shell.execute_reply": "2022-12-13T00:17:25.182025Z",
     "shell.execute_reply.started": "2022-12-13T00:17:25.165605Z"
    }
   },
   "outputs": [],
   "source": [
    "def calculate_cm(y_true, y_pred):\n",
    "    fp = np.sum((y_pred == 1) & (y_true == 0))\n",
    "    tp = np.sum((y_pred == 1) & (y_true == 1))\n",
    "    fn = np.sum((y_pred == 0) & (y_true == 1))\n",
    "    tn = np.sum((y_pred == 0) & (y_true == 0))\n",
    "    return tp, fp, fn, tn\n",
    "\n",
    "def calculate_recall(tp, fp, fn, tn):\n",
    "    return (tp)/(tp + fn)\n",
    "\n",
    "def calculate_fallout(tp, fp, fn, tn):\n",
    "    return (fp)/(fp + tn)\n",
    "\n",
    "def calculate_fpr_tpr(y_true, y_pred):\n",
    "    tp, fp, fn, tn = calculate_cm(y_true, y_pred)\n",
    "    tpr = calculate_recall(tp, fp, fn, tn)\n",
    "    fpr = calculate_fallout(tp, fp, fn, tn)\n",
    "    return fpr, tpr"
   ]
  },
  {
   "cell_type": "code",
   "execution_count": 3,
   "id": "434c1e4d",
   "metadata": {
    "execution": {
     "iopub.execute_input": "2022-12-13T00:17:25.186332Z",
     "iopub.status.busy": "2022-12-13T00:17:25.185867Z",
     "iopub.status.idle": "2022-12-13T00:19:20.252152Z",
     "shell.execute_reply": "2022-12-13T00:19:20.251133Z",
     "shell.execute_reply.started": "2022-12-13T00:17:25.186299Z"
    }
   },
   "outputs": [
    {
     "name": "stderr",
     "output_type": "stream",
     "text": [
      "100%|█████████████████████████████████████████████████████| 112120/112120 [01:12<00:00, 1545.63it/s]\n"
     ]
    },
    {
     "data": {
      "text/html": [
       "<div>\n",
       "<style scoped>\n",
       "    .dataframe tbody tr th:only-of-type {\n",
       "        vertical-align: middle;\n",
       "    }\n",
       "\n",
       "    .dataframe tbody tr th {\n",
       "        vertical-align: top;\n",
       "    }\n",
       "\n",
       "    .dataframe thead th {\n",
       "        text-align: right;\n",
       "    }\n",
       "</style>\n",
       "<table border=\"1\" class=\"dataframe\">\n",
       "  <thead>\n",
       "    <tr style=\"text-align: right;\">\n",
       "      <th></th>\n",
       "      <th>Image Index</th>\n",
       "      <th>Image Paths</th>\n",
       "      <th>Hernia</th>\n",
       "      <th>Fibrosis</th>\n",
       "      <th>Atelectasis</th>\n",
       "      <th>Nodule</th>\n",
       "      <th>Cardiomegaly</th>\n",
       "      <th>Pleural_Thickening</th>\n",
       "      <th>Mass</th>\n",
       "      <th>Edema</th>\n",
       "      <th>Consolidation</th>\n",
       "      <th>Emphysema</th>\n",
       "      <th>No Finding</th>\n",
       "      <th>Pneumothorax</th>\n",
       "      <th>Effusion</th>\n",
       "      <th>Infiltration</th>\n",
       "      <th>Pneumonia</th>\n",
       "    </tr>\n",
       "  </thead>\n",
       "  <tbody>\n",
       "    <tr>\n",
       "      <th>0</th>\n",
       "      <td>00000001_000.png</td>\n",
       "      <td>.\\images\\00000001_000.png</td>\n",
       "      <td>0.0</td>\n",
       "      <td>0.0</td>\n",
       "      <td>0.0</td>\n",
       "      <td>0.0</td>\n",
       "      <td>1.0</td>\n",
       "      <td>0.0</td>\n",
       "      <td>0.0</td>\n",
       "      <td>0.0</td>\n",
       "      <td>0.0</td>\n",
       "      <td>0.0</td>\n",
       "      <td>0.0</td>\n",
       "      <td>0.0</td>\n",
       "      <td>0.0</td>\n",
       "      <td>0.0</td>\n",
       "      <td>0.0</td>\n",
       "    </tr>\n",
       "    <tr>\n",
       "      <th>1</th>\n",
       "      <td>00000001_001.png</td>\n",
       "      <td>.\\images\\00000001_001.png</td>\n",
       "      <td>0.0</td>\n",
       "      <td>0.0</td>\n",
       "      <td>0.0</td>\n",
       "      <td>0.0</td>\n",
       "      <td>1.0</td>\n",
       "      <td>0.0</td>\n",
       "      <td>0.0</td>\n",
       "      <td>0.0</td>\n",
       "      <td>0.0</td>\n",
       "      <td>1.0</td>\n",
       "      <td>0.0</td>\n",
       "      <td>0.0</td>\n",
       "      <td>0.0</td>\n",
       "      <td>0.0</td>\n",
       "      <td>0.0</td>\n",
       "    </tr>\n",
       "    <tr>\n",
       "      <th>2</th>\n",
       "      <td>00000001_002.png</td>\n",
       "      <td>.\\images\\00000001_002.png</td>\n",
       "      <td>0.0</td>\n",
       "      <td>0.0</td>\n",
       "      <td>0.0</td>\n",
       "      <td>0.0</td>\n",
       "      <td>1.0</td>\n",
       "      <td>0.0</td>\n",
       "      <td>0.0</td>\n",
       "      <td>0.0</td>\n",
       "      <td>0.0</td>\n",
       "      <td>0.0</td>\n",
       "      <td>0.0</td>\n",
       "      <td>0.0</td>\n",
       "      <td>1.0</td>\n",
       "      <td>0.0</td>\n",
       "      <td>0.0</td>\n",
       "    </tr>\n",
       "    <tr>\n",
       "      <th>3</th>\n",
       "      <td>00000002_000.png</td>\n",
       "      <td>.\\images\\00000002_000.png</td>\n",
       "      <td>0.0</td>\n",
       "      <td>0.0</td>\n",
       "      <td>0.0</td>\n",
       "      <td>0.0</td>\n",
       "      <td>0.0</td>\n",
       "      <td>0.0</td>\n",
       "      <td>0.0</td>\n",
       "      <td>0.0</td>\n",
       "      <td>0.0</td>\n",
       "      <td>0.0</td>\n",
       "      <td>1.0</td>\n",
       "      <td>0.0</td>\n",
       "      <td>0.0</td>\n",
       "      <td>0.0</td>\n",
       "      <td>0.0</td>\n",
       "    </tr>\n",
       "    <tr>\n",
       "      <th>4</th>\n",
       "      <td>00000003_000.png</td>\n",
       "      <td>.\\images\\00000003_000.png</td>\n",
       "      <td>1.0</td>\n",
       "      <td>0.0</td>\n",
       "      <td>0.0</td>\n",
       "      <td>0.0</td>\n",
       "      <td>0.0</td>\n",
       "      <td>0.0</td>\n",
       "      <td>0.0</td>\n",
       "      <td>0.0</td>\n",
       "      <td>0.0</td>\n",
       "      <td>0.0</td>\n",
       "      <td>0.0</td>\n",
       "      <td>0.0</td>\n",
       "      <td>0.0</td>\n",
       "      <td>0.0</td>\n",
       "      <td>0.0</td>\n",
       "    </tr>\n",
       "  </tbody>\n",
       "</table>\n",
       "</div>"
      ],
      "text/plain": [
       "        Image Index                Image Paths  Hernia  Fibrosis  Atelectasis  \\\n",
       "0  00000001_000.png  .\\images\\00000001_000.png     0.0       0.0          0.0   \n",
       "1  00000001_001.png  .\\images\\00000001_001.png     0.0       0.0          0.0   \n",
       "2  00000001_002.png  .\\images\\00000001_002.png     0.0       0.0          0.0   \n",
       "3  00000002_000.png  .\\images\\00000002_000.png     0.0       0.0          0.0   \n",
       "4  00000003_000.png  .\\images\\00000003_000.png     1.0       0.0          0.0   \n",
       "\n",
       "   Nodule  Cardiomegaly  Pleural_Thickening  Mass  Edema  Consolidation  \\\n",
       "0     0.0           1.0                 0.0   0.0    0.0            0.0   \n",
       "1     0.0           1.0                 0.0   0.0    0.0            0.0   \n",
       "2     0.0           1.0                 0.0   0.0    0.0            0.0   \n",
       "3     0.0           0.0                 0.0   0.0    0.0            0.0   \n",
       "4     0.0           0.0                 0.0   0.0    0.0            0.0   \n",
       "\n",
       "   Emphysema  No Finding  Pneumothorax  Effusion  Infiltration  Pneumonia  \n",
       "0        0.0         0.0           0.0       0.0           0.0        0.0  \n",
       "1        1.0         0.0           0.0       0.0           0.0        0.0  \n",
       "2        0.0         0.0           0.0       1.0           0.0        0.0  \n",
       "3        0.0         1.0           0.0       0.0           0.0        0.0  \n",
       "4        0.0         0.0           0.0       0.0           0.0        0.0  "
      ]
     },
     "execution_count": 3,
     "metadata": {},
     "output_type": "execute_result"
    }
   ],
   "source": [
    "image_paths = {os.path.basename(x): x for x in glob(os.path.join('.', 'images', '*.png'))}\n",
    "df = pd.read_csv(\"./dataset_information/Data_Entry_2017.csv\")\n",
    "\n",
    "df = df.drop(\n",
    "    columns = [\n",
    "        \"Follow-up #\", \n",
    "        \"Patient ID\", \n",
    "        \"Patient Age\", \n",
    "        \"Patient Gender\", \n",
    "        \"OriginalImage[Width\",\n",
    "        \"Height]\",\n",
    "        \"OriginalImagePixelSpacing[x\",\n",
    "        \"y]\",\n",
    "#         \"Unnamed: 11\",\n",
    "        \"View Position\"\n",
    "    ], \n",
    "    axis = 1\n",
    ")\n",
    "\n",
    "df[\"Image Paths\"] = \" \"\n",
    "for row_index in tqdm(range(len(df)), ncols = 100):\n",
    "    img_name = df.iloc[row_index][0]\n",
    "    path = image_paths[img_name]\n",
    "    df[\"Image Paths\"][row_index] = path\n",
    "\n",
    "unique_labels = set(itertools.chain.from_iterable(df[\"Finding Labels\"].apply(lambda x : x.split('|')).values)) \n",
    "one_hot_labels = pd.DataFrame(0.0, index = np.arange(len(df)), columns = unique_labels)\n",
    "\n",
    "for index, row in df.iterrows():\n",
    "    labels = row[\"Finding Labels\"].split('|')\n",
    "    for label in labels:\n",
    "        one_hot_labels.iloc[index][label] = 1.0\n",
    "\n",
    "df = pd.concat([df, one_hot_labels], axis = 1)\n",
    "df = df.drop(columns = [\"Finding Labels\"], axis = 1)\n",
    "df.head()"
   ]
  },
  {
   "cell_type": "code",
   "execution_count": 4,
   "id": "b5931d1c",
   "metadata": {
    "execution": {
     "iopub.execute_input": "2022-12-13T00:19:20.254034Z",
     "iopub.status.busy": "2022-12-13T00:19:20.253633Z",
     "iopub.status.idle": "2022-12-13T00:19:20.314915Z",
     "shell.execute_reply": "2022-12-13T00:19:20.313715Z",
     "shell.execute_reply.started": "2022-12-13T00:19:20.253972Z"
    }
   },
   "outputs": [
    {
     "name": "stdout",
     "output_type": "stream",
     "text": [
      "Training Samples: 80726\n",
      "Validation Samples: 8970\n",
      "Testing Samples: 22424\n"
     ]
    }
   ],
   "source": [
    "# df_train, df_test = train_test_split(dataset_info.sample(n = 60000), test_size = 0.20, random_state = 142)\n",
    "df_train, df_test = train_test_split(df, test_size = 0.20, random_state = 0)\n",
    "df_train, df_val = train_test_split(df_train, test_size = 0.10, random_state = 0)\n",
    "\n",
    "print(f\"Training Samples: {len(df_train)}\\nValidation Samples: {len(df_val)}\\nTesting Samples: {len(df_test)}\")"
   ]
  },
  {
   "cell_type": "code",
   "execution_count": 13,
   "id": "f0d392e4",
   "metadata": {},
   "outputs": [],
   "source": [
    "CLASS_LABELS = [\n",
    "    \"Atelectasis\", \"Cardiomegaly\", \"Consolidation\", \"Edema\", \"Effusion\", \"Emphysema\", \"Fibrosis\", \"Hernia\", \n",
    "    \"Infiltration\", \"Mass\", \"No Finding\", \"Nodule\", \"Pleural_Thickening\", \"Pneumonia\",\"Pneumothorax\"\n",
    "]\n",
    "IMAGE_SIZE = (224, 224,)\n",
    "BATCH_SIZE = 24\n",
    "EPOCHS = 15\n",
    "\n",
    "BETA_FOR_BIASED_RECALL = 1.3\n",
    "BETA_FOR_BIASED_PRECISION = 0.7\n",
    "BETA_WITH_NO_BIAS = 1\n",
    "\n",
    "THRESHOLDS = [0.1, 0.2, 0.3, 0.4, 0.5, 0.6, 0.7, 0.8, 0.9]\n",
    "\n",
    "METRICS = [\n",
    "  tf.keras.metrics.TruePositives(name = 'tp'),\n",
    "  tf.keras.metrics.FalsePositives(name = 'fp'),\n",
    "  tf.keras.metrics.TrueNegatives(name = 'tn'),\n",
    "  tf.keras.metrics.FalseNegatives(name = 'fn'), \n",
    "  tf.keras.metrics.BinaryAccuracy(name = 'binary_accuracy'),\n",
    "  tf.keras.metrics.Precision(name = 'precision', thresholds = 0.3),\n",
    "  tf.keras.metrics.Recall(name = 'recall', thresholds = 0.3),\n",
    "  tf.keras.metrics.AUC(name = 'auc', multi_label = True, num_labels = 15, thresholds = THRESHOLDS),\n",
    "  tf.keras.metrics.AUC(name = 'prc', curve = 'PR')\n",
    "]"
   ]
  },
  {
   "cell_type": "code",
   "execution_count": 14,
   "id": "33f7733e",
   "metadata": {
    "execution": {
     "iopub.execute_input": "2022-12-13T00:19:20.325954Z",
     "iopub.status.busy": "2022-12-13T00:19:20.325522Z",
     "iopub.status.idle": "2022-12-13T00:19:20.334253Z",
     "shell.execute_reply": "2022-12-13T00:19:20.333194Z",
     "shell.execute_reply.started": "2022-12-13T00:19:20.325918Z"
    }
   },
   "outputs": [],
   "source": [
    "def flow_from_dataframe(image_generator, dataframe):\n",
    "    df_gen = image_generator.flow_from_dataframe(\n",
    "        dataframe,\n",
    "        x_col = \"Image Paths\", \n",
    "        y_col = dataframe.columns[2:],\n",
    "        target_size = IMAGE_SIZE,\n",
    "        color_mode = 'rgb',\n",
    "        class_mode = 'raw',\n",
    "        shuffle = False,\n",
    "        batch_size = BATCH_SIZE\n",
    "    )\n",
    "    return df_gen\n",
    "\n",
    "def sharpen_image(image):\n",
    "    sharp_kernel = np.array(\n",
    "        [\n",
    "            [0, -1, 0], \n",
    "            [-1, 5, -1], \n",
    "            [0, -1, 0]\n",
    "        ])\n",
    "    output = cv2.filter2D(src = image, ddepth = -1, kernel = sharp_kernel)\n",
    "    return output"
   ]
  },
  {
   "cell_type": "code",
   "execution_count": 15,
   "id": "7442e7c1",
   "metadata": {},
   "outputs": [],
   "source": [
    "train_data_generator = ImageDataGenerator(\n",
    "    rescale = 1. / 255,\n",
    "    preprocessing_function = sharpen_image,\n",
    "    zca_whitening = False,\n",
    "    rotation_range = 20,  # randomly rotate images in the range (degrees, 0 to 180)\n",
    "    zoom_range = 0.1, # Randomly zoom image \n",
    "    width_shift_range = 0.1,  # randomly shift images horizontally (fraction of total width)\n",
    "    height_shift_range = 0.1,  # randomly shift images vertically (fraction of total height)\n",
    "    horizontal_flip = True\n",
    ")\n",
    "val_data_generator = ImageDataGenerator(\n",
    "    rescale = 1. / 255,\n",
    "    preprocessing_function = sharpen_image\n",
    ")\n",
    "test_data_generator = ImageDataGenerator(\n",
    "    rescale = 1. / 255,\n",
    "    preprocessing_function = sharpen_image\n",
    ")"
   ]
  },
  {
   "cell_type": "code",
   "execution_count": 16,
   "id": "f1765596",
   "metadata": {},
   "outputs": [
    {
     "name": "stdout",
     "output_type": "stream",
     "text": [
      "Found 80726 validated image filenames.\n",
      "Found 8970 validated image filenames.\n",
      "Found 22424 validated image filenames.\n"
     ]
    }
   ],
   "source": [
    "train_gen = flow_from_dataframe(image_generator = train_data_generator, dataframe = df_train)\n",
    "valid_gen = flow_from_dataframe(image_generator = val_data_generator, dataframe = df_val)\n",
    "test_gen = flow_from_dataframe(image_generator = test_data_generator, dataframe = df_test)"
   ]
  },
  {
   "cell_type": "code",
   "execution_count": 17,
   "id": "fa99947b",
   "metadata": {
    "execution": {
     "iopub.execute_input": "2022-12-13T00:20:48.394372Z",
     "iopub.status.busy": "2022-12-13T00:20:48.393929Z",
     "iopub.status.idle": "2022-12-13T00:20:48.400620Z",
     "shell.execute_reply": "2022-12-13T00:20:48.399561Z",
     "shell.execute_reply.started": "2022-12-13T00:20:48.394335Z"
    }
   },
   "outputs": [],
   "source": [
    "SGD_optimizer = tf.keras.optimizers.SGD(\n",
    "    learning_rate = 0.0001, \n",
    "    decay = 1e-6, \n",
    "    momentum = 0.9, \n",
    "    nesterov = True\n",
    ")\n",
    "adam_optimizer = tf.keras.optimizers.Adam(\n",
    "    learning_rate = 0.0001,\n",
    "    beta_1 = 0.9,\n",
    "    beta_2 = 0.999,\n",
    ")"
   ]
  },
  {
   "cell_type": "code",
   "execution_count": 18,
   "id": "d9075398",
   "metadata": {},
   "outputs": [],
   "source": [
    "early_stopping_callback = tf.keras.callbacks.EarlyStopping(\n",
    "    monitor = 'val_loss',\n",
    "    min_delta = 0,\n",
    "    patience = 4,\n",
    "    verbose = 1,\n",
    "    mode = 'auto',\n",
    "    baseline = None,\n",
    "    restore_best_weights = True\n",
    ")"
   ]
  },
  {
   "cell_type": "code",
   "execution_count": 19,
   "id": "cd8826b1",
   "metadata": {
    "execution": {
     "iopub.execute_input": "2022-12-13T00:20:48.414043Z",
     "iopub.status.busy": "2022-12-13T00:20:48.413675Z",
     "iopub.status.idle": "2022-12-13T00:20:48.437638Z",
     "shell.execute_reply": "2022-12-13T00:20:48.436609Z",
     "shell.execute_reply.started": "2022-12-13T00:20:48.414006Z"
    }
   },
   "outputs": [],
   "source": [
    "channels = (3,)\n",
    "input_shape = IMAGE_SIZE + channels\n",
    "img_input = Input(shape = input_shape)\n",
    "\n",
    "MODEL_NAME = \"VGG16\"\n",
    "base_model = VGG16(\n",
    "    input_shape = input_shape,\n",
    "    include_top = False,\n",
    "    weights = \"imagenet\"\n",
    ")\n",
    "\n",
    "custom_classifier = Sequential()\n",
    "custom_classifier.add(GlobalAveragePooling2D(input_shape = base_model.output_shape[1:]))\n",
    "custom_classifier.add(Dropout(0.2))\n",
    "\n",
    "custom_classifier.add(Dense(256))\n",
    "custom_classifier.add(BatchNormalization())\n",
    "custom_classifier.add(Activation('relu'))\n",
    "custom_classifier.add(Dropout(0.2))\n",
    "\n",
    "custom_classifier.add(Dense(50))\n",
    "custom_classifier.add(BatchNormalization())\n",
    "custom_classifier.add(Activation('relu'))\n",
    "custom_classifier.add(Dropout(0.2))\n",
    "\n",
    "custom_classifier.add(Dense(15, activation = \"sigmoid\"))\n",
    "\n",
    "model = Model(inputs = base_model.input, outputs = custom_classifier(base_model.output))\n",
    "# model.load_weights(\"/saved_weights/{MODEL_NAME}_{EPOCHS}_weights.h5\")\n",
    "\n",
    "model.compile(\n",
    "    optimizer = adam_optimizer,\n",
    "    loss = \"binary_crossentropy\",\n",
    "    metrics = METRICS\n",
    ")"
   ]
  },
  {
   "cell_type": "code",
   "execution_count": 20,
   "id": "c9397b88",
   "metadata": {
    "execution": {
     "iopub.execute_input": "2022-12-13T00:20:48.439347Z",
     "iopub.status.busy": "2022-12-13T00:20:48.439039Z"
    }
   },
   "outputs": [
    {
     "name": "stdout",
     "output_type": "stream",
     "text": [
      "Epoch 1/15\n",
      "3363/3363 [==============================] - 3761s 1s/step - loss: 0.3210 - tp: 33956.0000 - fp: 76844.0000 - tn: 1032331.0000 - fn: 67759.0000 - binary_accuracy: 0.8806 - precision: 0.1972 - recall: 0.5347 - auc: 0.5186 - prc: 0.2339 - val_loss: 0.2539 - val_tp: 0.0000e+00 - val_fp: 0.0000e+00 - val_tn: 123173.0000 - val_fn: 11377.0000 - val_binary_accuracy: 0.9154 - val_precision: 0.2995 - val_recall: 0.5043 - val_auc: 0.4652 - val_prc: 0.2304\n",
      "Epoch 2/15\n",
      "3363/3363 [==============================] - 3670s 1s/step - loss: 0.2118 - tp: 29623.0000 - fp: 14403.0000 - tn: 1094772.0000 - fn: 72092.0000 - binary_accuracy: 0.9286 - precision: 0.5090 - recall: 0.4437 - auc: 0.5499 - prc: 0.4607 - val_loss: 0.2104 - val_tp: 1937.0000 - val_fp: 527.0000 - val_tn: 122646.0000 - val_fn: 9440.0000 - val_binary_accuracy: 0.9259 - val_precision: 0.4779 - val_recall: 0.4910 - val_auc: 0.5458 - val_prc: 0.4859\n",
      "Epoch 3/15\n",
      "3363/3363 [==============================] - 3512s 1s/step - loss: 0.2068 - tp: 30676.0000 - fp: 13867.0000 - tn: 1095308.0000 - fn: 71039.0000 - binary_accuracy: 0.9299 - precision: 0.5193 - recall: 0.4477 - auc: 0.5590 - prc: 0.4778 - val_loss: 0.2017 - val_tp: 2975.0000 - val_fp: 1015.0000 - val_tn: 122158.0000 - val_fn: 8402.0000 - val_binary_accuracy: 0.9300 - val_precision: 0.5141 - val_recall: 0.4812 - val_auc: 0.5597 - val_prc: 0.5022\n",
      "Epoch 4/15\n",
      "3363/3363 [==============================] - 3485s 1s/step - loss: 0.2033 - tp: 31798.0000 - fp: 13840.0000 - tn: 1095335.0000 - fn: 69917.0000 - binary_accuracy: 0.9308 - precision: 0.5300 - recall: 0.4621 - auc: 0.5676 - prc: 0.4904 - val_loss: 0.1998 - val_tp: 3231.0000 - val_fp: 1146.0000 - val_tn: 122027.0000 - val_fn: 8146.0000 - val_binary_accuracy: 0.9309 - val_precision: 0.5169 - val_recall: 0.4942 - val_auc: 0.5726 - val_prc: 0.5111\n",
      "Epoch 5/15\n",
      "3363/3363 [==============================] - 3477s 1s/step - loss: 0.2009 - tp: 32437.0000 - fp: 13836.0000 - tn: 1095339.0000 - fn: 69278.0000 - binary_accuracy: 0.9314 - precision: 0.5334 - recall: 0.4702 - auc: 0.5747 - prc: 0.4989 - val_loss: 0.1991 - val_tp: 3656.0000 - val_fp: 1522.0000 - val_tn: 121651.0000 - val_fn: 7721.0000 - val_binary_accuracy: 0.9313 - val_precision: 0.5276 - val_recall: 0.4877 - val_auc: 0.5768 - val_prc: 0.5155\n",
      "Epoch 6/15\n",
      "3363/3363 [==============================] - 3423s 1s/step - loss: 0.1985 - tp: 32901.0000 - fp: 13733.0000 - tn: 1095442.0000 - fn: 68814.0000 - binary_accuracy: 0.9318 - precision: 0.5372 - recall: 0.4766 - auc: 0.5855 - prc: 0.5073 - val_loss: 0.2010 - val_tp: 2444.0000 - val_fp: 792.0000 - val_tn: 122381.0000 - val_fn: 8933.0000 - val_binary_accuracy: 0.9277 - val_precision: 0.5372 - val_recall: 0.4702 - val_auc: 0.6082 - val_prc: 0.5096\n",
      "Epoch 7/15\n",
      "3363/3363 [==============================] - 3344s 994ms/step - loss: 0.1966 - tp: 33444.0000 - fp: 14028.0000 - tn: 1095147.0000 - fn: 68271.0000 - binary_accuracy: 0.9320 - precision: 0.5400 - recall: 0.4821 - auc: 0.5959 - prc: 0.5133 - val_loss: 0.1949 - val_tp: 3374.0000 - val_fp: 1284.0000 - val_tn: 121889.0000 - val_fn: 8003.0000 - val_binary_accuracy: 0.9310 - val_precision: 0.5678 - val_recall: 0.4551 - val_auc: 0.6106 - val_prc: 0.5251\n",
      "Epoch 8/15\n",
      "3363/3363 [==============================] - 3294s 979ms/step - loss: 0.1949 - tp: 33570.0000 - fp: 13749.0000 - tn: 1095426.0000 - fn: 68145.0000 - binary_accuracy: 0.9324 - precision: 0.5419 - recall: 0.4864 - auc: 0.6034 - prc: 0.5190 - val_loss: 0.1939 - val_tp: 3569.0000 - val_fp: 1404.0000 - val_tn: 121769.0000 - val_fn: 7808.0000 - val_binary_accuracy: 0.9315 - val_precision: 0.5805 - val_recall: 0.4496 - val_auc: 0.6146 - val_prc: 0.5303\n",
      "Epoch 9/15\n",
      "3363/3363 [==============================] - 3375s 1s/step - loss: 0.1931 - tp: 33916.0000 - fp: 13918.0000 - tn: 1095257.0000 - fn: 67799.0000 - binary_accuracy: 0.9325 - precision: 0.5455 - recall: 0.4933 - auc: 0.6114 - prc: 0.5263 - val_loss: 0.1916 - val_tp: 3332.0000 - val_fp: 1139.0000 - val_tn: 122034.0000 - val_fn: 8045.0000 - val_binary_accuracy: 0.9317 - val_precision: 0.5671 - val_recall: 0.4783 - val_auc: 0.6259 - val_prc: 0.5379\n",
      "Epoch 10/15\n",
      "3363/3363 [==============================] - 3343s 994ms/step - loss: 0.1911 - tp: 34245.0000 - fp: 14055.0000 - tn: 1095120.0000 - fn: 67470.0000 - binary_accuracy: 0.9327 - precision: 0.5459 - recall: 0.5009 - auc: 0.6207 - prc: 0.5317 - val_loss: 0.1898 - val_tp: 3526.0000 - val_fp: 1298.0000 - val_tn: 121875.0000 - val_fn: 7851.0000 - val_binary_accuracy: 0.9320 - val_precision: 0.5590 - val_recall: 0.4990 - val_auc: 0.6370 - val_prc: 0.5421\n",
      "Epoch 11/15\n",
      "3363/3363 [==============================] - 3303s 982ms/step - loss: 0.1894 - tp: 34738.0000 - fp: 13958.0000 - tn: 1095217.0000 - fn: 66977.0000 - binary_accuracy: 0.9332 - precision: 0.5442 - recall: 0.5089 - auc: 0.6304 - prc: 0.5379 - val_loss: 0.1883 - val_tp: 4033.0000 - val_fp: 1798.0000 - val_tn: 121375.0000 - val_fn: 7344.0000 - val_binary_accuracy: 0.9321 - val_precision: 0.5522 - val_recall: 0.4952 - val_auc: 0.6279 - val_prc: 0.5428\n",
      "Epoch 12/15\n",
      "3363/3363 [==============================] - 3312s 985ms/step - loss: 0.1877 - tp: 34861.0000 - fp: 13945.0000 - tn: 1095230.0000 - fn: 66854.0000 - binary_accuracy: 0.9333 - precision: 0.5447 - recall: 0.5155 - auc: 0.6391 - prc: 0.5434 - val_loss: 0.1957 - val_tp: 3908.0000 - val_fp: 1788.0000 - val_tn: 121385.0000 - val_fn: 7469.0000 - val_binary_accuracy: 0.9312 - val_precision: 0.5251 - val_recall: 0.4838 - val_auc: 0.6185 - val_prc: 0.5163\n",
      "Epoch 13/15\n",
      "3363/3363 [==============================] - 3284s 976ms/step - loss: 0.1865 - tp: 35080.0000 - fp: 14151.0000 - tn: 1095024.0000 - fn: 66635.0000 - binary_accuracy: 0.9333 - precision: 0.5454 - recall: 0.5217 - auc: 0.6463 - prc: 0.5473 - val_loss: 0.1872 - val_tp: 3803.0000 - val_fp: 1573.0000 - val_tn: 121600.0000 - val_fn: 7574.0000 - val_binary_accuracy: 0.9320 - val_precision: 0.5518 - val_recall: 0.5154 - val_auc: 0.6585 - val_prc: 0.5475\n",
      "Epoch 14/15\n",
      "3363/3363 [==============================] - 3266s 971ms/step - loss: 0.1851 - tp: 35379.0000 - fp: 14129.0000 - tn: 1095046.0000 - fn: 66336.0000 - binary_accuracy: 0.9335 - precision: 0.5460 - recall: 0.5260 - auc: 0.6542 - prc: 0.5514 - val_loss: 0.1852 - val_tp: 4032.0000 - val_fp: 1734.0000 - val_tn: 121439.0000 - val_fn: 7345.0000 - val_binary_accuracy: 0.9325 - val_precision: 0.5560 - val_recall: 0.5216 - val_auc: 0.6573 - val_prc: 0.5541\n",
      "Epoch 15/15\n",
      "3363/3363 [==============================] - 3275s 974ms/step - loss: 0.1842 - tp: 35546.0000 - fp: 14090.0000 - tn: 1095085.0000 - fn: 66169.0000 - binary_accuracy: 0.9337 - precision: 0.5474 - recall: 0.5294 - auc: 0.6578 - prc: 0.5550 - val_loss: 0.1848 - val_tp: 4001.0000 - val_fp: 1719.0000 - val_tn: 121454.0000 - val_fn: 7376.0000 - val_binary_accuracy: 0.9324 - val_precision: 0.5463 - val_recall: 0.5268 - val_auc: 0.6586 - val_prc: 0.5523\n",
      "\n",
      "Time Taken:  14.2018 Hours\n"
     ]
    }
   ],
   "source": [
    "start_time = time.time()\n",
    "\n",
    "history = model.fit_generator(\n",
    "    epochs = EPOCHS,\n",
    "    generator = train_gen,\n",
    "    steps_per_epoch = train_gen.n / train_gen.batch_size,\n",
    "    validation_data = valid_gen,\n",
    "    validation_steps = valid_gen.n / valid_gen.batch_size,\n",
    "    shuffle = False,\n",
    "    verbose = 1,\n",
    "    callbacks = None\n",
    ")\n",
    "\n",
    "print(f\"\\nTime Taken: {(time.time() - start_time) / 3600 : .4f} Hours\")"
   ]
  },
  {
   "cell_type": "code",
   "execution_count": 21,
   "id": "8d98e5f4",
   "metadata": {},
   "outputs": [
    {
     "data": {
      "image/png": "[encoded data removed]",
      "text/plain": [
       "<Figure size 432x216 with 1 Axes>"
      ]
     },
     "metadata": {
      "needs_background": "light"
     },
     "output_type": "display_data"
    },
    {
     "data": {
      "image/png": "[encoded data removed]",
      "text/plain": [
       "<Figure size 432x216 with 1 Axes>"
      ]
     },
     "metadata": {
      "needs_background": "light"
     },
     "output_type": "display_data"
    },
    {
     "data": {
      "image/png": "[encoded data removed]",
      "text/plain": [
       "<Figure size 432x216 with 1 Axes>"
      ]
     },
     "metadata": {
      "needs_background": "light"
     },
     "output_type": "display_data"
    },
    {
     "data": {
      "image/png": "[encoded data removed]",
      "text/plain": [
       "<Figure size 432x216 with 1 Axes>"
      ]
     },
     "metadata": {
      "needs_background": "light"
     },
     "output_type": "display_data"
    },
    {
     "data": {
      "image/png": "[encoded data removed]",
      "text/plain": [
       "<Figure size 432x216 with 1 Axes>"
      ]
     },
     "metadata": {
      "needs_background": "light"
     },
     "output_type": "display_data"
    },
    {
     "data": {
      "image/png": "[encoded data removed]",
      "text/plain": [
       "<Figure size 432x216 with 1 Axes>"
      ]
     },
     "metadata": {
      "needs_background": "light"
     },
     "output_type": "display_data"
    }
   ],
   "source": [
    "plt.figure(1, figsize = (6,3))\n",
    "plt.plot([int(x) for x in range(1, EPOCHS + 1)], history.history['loss'], 'g', label = 'Training')\n",
    "plt.plot([int(x) for x in range(1, EPOCHS + 1)], history.history['val_loss'], 'b', label = 'Validation')\n",
    "plt.title(f'{MODEL_NAME} Training & Validation Loss')\n",
    "plt.xlabel('Epochs')\n",
    "plt.ylabel('Loss')\n",
    "plt.legend()\n",
    "plt.show()\n",
    "\n",
    "plt.figure(2, figsize = (6,3))\n",
    "plt.plot([int(x) for x in range(1, EPOCHS + 1)], history.history['binary_accuracy'], 'g', label = 'Training')\n",
    "plt.plot([int(x) for x in range(1, EPOCHS + 1)], history.history['val_binary_accuracy'], 'b', label = 'Validation')\n",
    "plt.title(f'{MODEL_NAME} Training & Validation Binary Accuracy')\n",
    "plt.xlabel('Epochs')\n",
    "plt.ylabel('Binary Accuracy')\n",
    "plt.legend()\n",
    "plt.show()\n",
    "\n",
    "plt.figure(3, figsize = (6,3))\n",
    "plt.plot([int(x) for x in range(1, EPOCHS + 1)], history.history['recall'], 'g', label = 'Training')\n",
    "plt.plot([int(x) for x in range(1, EPOCHS + 1)], history.history['val_recall'], 'b', label = 'Validation')\n",
    "plt.title(f'{MODEL_NAME} Training & Validation Recall')\n",
    "plt.xlabel('Epochs')\n",
    "plt.ylabel('Recall')\n",
    "plt.legend()\n",
    "plt.show()\n",
    "\n",
    "plt.figure(4, figsize = (6,3))\n",
    "plt.plot([int(x) for x in range(1, EPOCHS + 1)], history.history['precision'], 'g', label = 'Training')\n",
    "plt.plot([int(x) for x in range(1, EPOCHS + 1)], history.history['val_precision'], 'b', label = 'Validation')\n",
    "plt.title(f'{MODEL_NAME} Training & Validation Precision')\n",
    "plt.xlabel('Epochs')\n",
    "plt.ylabel('Precision')\n",
    "plt.legend()\n",
    "plt.show()\n",
    "\n",
    "plt.figure(6, figsize = (6,3))\n",
    "plt.plot([int(x) for x in range(1, EPOCHS + 1)], history.history['auc'], 'g', label = 'Training')\n",
    "plt.plot([int(x) for x in range(1, EPOCHS + 1)], history.history['val_auc'], 'b', label = 'Validation')\n",
    "plt.title(f'{MODEL_NAME} Training & Validation AUC')\n",
    "plt.xlabel('Epochs')\n",
    "plt.ylabel('AUC')\n",
    "plt.legend()\n",
    "plt.show()\n",
    "\n",
    "plt.figure(7, figsize = (6,3))\n",
    "plt.plot([int(x) for x in range(1, EPOCHS + 1)], history.history['prc'], 'g', label = 'Training')\n",
    "plt.plot([int(x) for x in range(1, EPOCHS + 1)], history.history['val_prc'], 'b', label = 'Validation')\n",
    "plt.title(f'{MODEL_NAME} Training & Validation PRC')\n",
    "plt.xlabel('Epochs')\n",
    "plt.ylabel('PRC')\n",
    "plt.legend()\n",
    "plt.show()"
   ]
  },
  {
   "cell_type": "code",
   "execution_count": 23,
   "id": "1a223f32",
   "metadata": {},
   "outputs": [
    {
     "name": "stdout",
     "output_type": "stream",
     "text": [
      "935/935 [==============================] - 388s 414ms/step - loss: 0.1834 - tp: 9992.0000 - fp: 4217.0000 - tn: 303835.0000 - fn: 18316.0000 - binary_accuracy: 0.9330 - precision: 0.5457 - recall: 0.5319 - auc: 0.6602 - prc: 0.5567\n"
     ]
    }
   ],
   "source": [
    "model.save_weights(f\"./saved_weights/{MODEL_NAME}_{EPOCHS}_weights.h5\")\n",
    "evaluation = model.evaluate(test_gen)"
   ]
  },
  {
   "cell_type": "code",
   "execution_count": 24,
   "id": "37f91788",
   "metadata": {},
   "outputs": [
    {
     "name": "stdout",
     "output_type": "stream",
     "text": [
      "Testing Loss: \t\t0.18339577317237854\n",
      "\n",
      "True Positives: \t9992.0\n",
      "False Positives: \t4217.0\n",
      "True Negatives: \t303835.0\n",
      "False Negatives: \t18316.0\n",
      "\n",
      "Binary Accuracy: \t93.30087900161743\n",
      "Average Recall: \t35.297442419104144\n",
      "Average Precision: \t70.3216271377296\n",
      "F1-Score: \t\t47.002375520380085\n",
      "Average Specificity: \t98.63107527300585\n",
      "\n",
      "AUC: \t\t\t66.02497100830078\n",
      "AUC-PR: \t\t55.66837787628174\n"
     ]
    }
   ],
   "source": [
    "test_loss = evaluation[0]\n",
    "TP = evaluation[1]\n",
    "FP = evaluation[2]\n",
    "TN = evaluation[3]\n",
    "FN = evaluation[4]\n",
    "binary_accuracy = evaluation[5] * 100\n",
    "auc = evaluation[8] * 100\n",
    "auc_pr = evaluation[9] * 100\n",
    "\n",
    "specificity = (TN / (TN + FP)) * 100\n",
    "recall = (TP / (TP + FN)) * 100\n",
    "precision = (TP / (TP + FP)) * 100\n",
    "f1_score = (2 * recall * precision) / (recall + precision)\n",
    "\n",
    "print(f\"Testing Loss: \\t\\t{test_loss}\\n\")\n",
    "print(f\"True Positives: \\t{TP}\\nFalse Positives: \\t{FP}\\nTrue Negatives: \\t{TN}\\nFalse Negatives: \\t{FN}\\n\")\n",
    "print(f\"Binary Accuracy: \\t{binary_accuracy}\")\n",
    "print(f\"Average Recall: \\t{recall}\\nAverage Precision: \\t{precision}\\nF1-Score: \\t\\t{f1_score}\\nAverage Specificity: \\t{specificity}\\n\")\n",
    "print(f\"AUC: \\t\\t\\t{auc}\\nAUC-PR: \\t\\t{auc_pr}\")"
   ]
  },
  {
   "cell_type": "code",
   "execution_count": 25,
   "id": "3747998d",
   "metadata": {},
   "outputs": [],
   "source": [
    "test_gen.reset()\n",
    "predictions = model.predict(test_gen)"
   ]
  },
  {
   "cell_type": "code",
   "execution_count": 26,
   "id": "bf9f6048",
   "metadata": {},
   "outputs": [],
   "source": [
    "def binary_accuracy(y_true, y_pred):\n",
    "    return K.mean(K.equal(y_true, K.round(y_pred)))\n",
    "\n",
    "def precision_threshold(threshold = 0.5):\n",
    "    def precision(y_true, y_pred):\n",
    "        threshold_value = threshold\n",
    "        y_pred = K.cast(K.greater(K.clip(y_pred, 0, 1), threshold_value), K.floatx())\n",
    "        true_positives = K.round(K.sum(K.clip(y_true * y_pred, 0, 1)))\n",
    "        predicted_positives = K.sum(y_pred)\n",
    "        precision_ratio = true_positives / (predicted_positives + K.epsilon())\n",
    "        return precision_ratio\n",
    "    return precision\n",
    "\n",
    "def recall_threshold(threshold = 0.5):\n",
    "    def recall(y_true, y_pred):\n",
    "        threshold_value = threshold\n",
    "        y_pred = K.cast(K.greater(K.clip(y_pred, 0, 1), threshold_value), K.floatx())\n",
    "        true_positives = K.round(K.sum(K.clip(y_true * y_pred, 0, 1)))\n",
    "        possible_positives = K.sum(K.clip(y_true, 0, 1))\n",
    "        recall_ratio = true_positives / (possible_positives + K.epsilon())\n",
    "        return recall_ratio\n",
    "    return recall\n",
    "\n",
    "def fbeta_score_threshold(beta = 1, threshold = 0.5):\n",
    "    def fbeta_score(y_true, y_pred):\n",
    "        threshold_value = threshold\n",
    "        beta_value = beta\n",
    "        p = precision_threshold(threshold_value)(y_true, y_pred)\n",
    "        r = recall_threshold(threshold_value)(y_true, y_pred)\n",
    "        bb = beta_value ** 2\n",
    "        fbeta_score = (1 + bb) * (p * r) / (bb * p + r + K.epsilon())\n",
    "        return fbeta_score\n",
    "    return fbeta_score\n",
    "    \n",
    "def print_results(beta, threshold, test_labels, prediction):\n",
    "    accuracy = K.eval(binary_accuracy(K.variable(value = test_labels), K.variable(value = prediction)))\n",
    "    precision = K.eval(precision_threshold(threshold = threshold)(K.variable(value = test_labels), K.variable(value = prediction)))\n",
    "    recall = K.eval(recall_threshold(threshold = threshold)(K.variable(value = test_labels), K.variable(value = prediction)))\n",
    "    f1_score = K.eval(fbeta_score_threshold(beta = beta, threshold = threshold)(K.variable(value = test_labels), K.variable(value = prediction)))\n",
    "    print(f\"BETA: {beta}, THRESHOLD: {threshold}\")\n",
    "    print (f\"Binary Accuracy: \\t{accuracy * 100} % \\nRecall: \\t\\t{recall * 100} % \\nPrecision: \\t\\t{precision * 100} % \\nF1-Score: \\t\\t{f1_score * 100} %\\n\")"
   ]
  },
  {
   "cell_type": "code",
   "execution_count": 27,
   "id": "c8b16d09",
   "metadata": {},
   "outputs": [
    {
     "name": "stdout",
     "output_type": "stream",
     "text": [
      "BETA: 1, THRESHOLD: 0.1\n",
      "Binary Accuracy: \t93.30092668533325 % \n",
      "Recall: \t\t80.08689880371094 % \n",
      "Precision: \t\t31.06510043144226 % \n",
      "F1-Score: \t\t44.76585388183594 %\n",
      "\n",
      "BETA: 1, THRESHOLD: 0.2\n",
      "Binary Accuracy: \t93.30092668533325 % \n",
      "Recall: \t\t64.57538604736328 % \n",
      "Precision: \t\t44.28509175777435 % \n",
      "F1-Score: \t\t52.539294958114624 %\n",
      "\n",
      "BETA: 1, THRESHOLD: 0.3\n",
      "Binary Accuracy: \t93.30092668533325 % \n",
      "Recall: \t\t53.19344401359558 % \n",
      "Precision: \t\t54.56785559654236 % \n",
      "F1-Score: \t\t53.87187600135803 %\n",
      "\n",
      "BETA: 1, THRESHOLD: 0.4\n",
      "Binary Accuracy: \t93.30092668533325 % \n",
      "Recall: \t\t43.563657999038696 % \n",
      "Precision: \t\t63.14711570739746 % \n",
      "F1-Score: \t\t51.558417081832886 %\n",
      "\n",
      "BETA: 1, THRESHOLD: 0.5\n",
      "Binary Accuracy: \t93.30092668533325 % \n",
      "Recall: \t\t35.297441482543945 % \n",
      "Precision: \t\t70.32162547111511 % \n",
      "F1-Score: \t\t47.00236618518829 %\n",
      "\n",
      "BETA: 1, THRESHOLD: 0.6\n",
      "Binary Accuracy: \t93.30092668533325 % \n",
      "Recall: \t\t28.151053190231323 % \n",
      "Precision: \t\t76.36799216270447 % \n",
      "F1-Score: \t\t41.1377489566803 %\n",
      "\n",
      "BETA: 1, THRESHOLD: 0.7\n",
      "Binary Accuracy: \t93.30092668533325 % \n",
      "Recall: \t\t16.744382679462433 % \n",
      "Precision: \t\t82.52089023590088 % \n",
      "F1-Score: \t\t27.839770913124084 %\n",
      "\n",
      "BETA: 1, THRESHOLD: 0.8\n",
      "Binary Accuracy: \t93.30092668533325 % \n",
      "Recall: \t\t4.426310583949089 % \n",
      "Precision: \t\t88.11532855033875 % \n",
      "F1-Score: \t\t8.429194986820221 %\n",
      "\n",
      "BETA: 1, THRESHOLD: 0.9\n",
      "Binary Accuracy: \t93.30092668533325 % \n",
      "Recall: \t\t0.10244454024359584 % \n",
      "Precision: \t\t96.66666388511658 % \n",
      "F1-Score: \t\t0.20467215217649937 %\n",
      "\n"
     ]
    }
   ],
   "source": [
    "test_labels = []\n",
    "for label in test_gen.labels:\n",
    "    test_labels.append(label)\n",
    "\n",
    "# # Results with F Score giving more weightage to Recall\n",
    "# for threshold in THRESHOLDS:\n",
    "#     print_results(beta = BETA_FOR_BIASED_RECALL, threshold = threshold, test_labels = test_labels, prediction = predictions)\n",
    "\n",
    "# # Results with F Score giving more weightage to Precision\n",
    "# for threshold in THRESHOLDS:\n",
    "#     print_results(beta = BETA_FOR_BIASED_PRECISION, threshold = threshold, test_labels = test_labels, prediction = predictions)\n",
    "\n",
    "# Results with F Score giving equal weightage to Recall and Precision\n",
    "for threshold in THRESHOLDS:\n",
    "    print_results(beta = BETA_WITH_NO_BIAS, threshold = threshold, test_labels = test_labels, prediction = predictions)"
   ]
  },
  {
   "cell_type": "code",
   "execution_count": null,
   "id": "378d03be",
   "metadata": {},
   "outputs": [],
   "source": []
  }
 ],
 "metadata": {
  "kernelspec": {
   "display_name": "Python 3",
   "language": "python",
   "name": "python3"
  },
  "language_info": {
   "codemirror_mode": {
    "name": "ipython",
    "version": 3
   },
   "file_extension": ".py",
   "mimetype": "text/x-python",
   "name": "python",
   "nbconvert_exporter": "python",
   "pygments_lexer": "ipython3",
   "version": "3.6.13"
  }
 },
 "nbformat": 4,
 "nbformat_minor": 5
}
