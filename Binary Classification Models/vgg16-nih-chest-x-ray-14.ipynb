{
 "cells": [
  {
   "cell_type": "code",
   "execution_count": 24,
   "metadata": {
    "execution": {
     "iopub.execute_input": "2022-11-24T06:53:15.749048Z",
     "iopub.status.busy": "2022-11-24T06:53:15.748567Z",
     "iopub.status.idle": "2022-11-24T06:53:27.484049Z",
     "shell.execute_reply": "2022-11-24T06:53:27.483190Z",
     "shell.execute_reply.started": "2022-11-24T06:53:15.748957Z"
    }
   },
   "outputs": [],
   "source": [
    "import os\n",
    "\n",
    "import keras.backend as K\n",
    "import numpy as np\n",
    "import pandas as pd\n",
    "import tensorflow as tf\n",
    "\n",
    "from glob import glob\n",
    "from tqdm import tqdm\n",
    "from sklearn.utils import shuffle\n",
    "from sklearn.model_selection import train_test_split\n",
    "from keras.preprocessing import image                  \n",
    "from tqdm import tqdm\n",
    "from tensorflow.keras import optimizers\n",
    "from keras.layers import Conv2D, MaxPooling2D, GlobalAveragePooling2D, Dropout, Flatten, Dense\n",
    "from keras.models import Sequential, Model\n",
    "from keras.layers import BatchNormalization\n",
    "from keras import regularizers, applications, optimizers, initializers\n",
    "from keras.preprocessing.image import ImageDataGenerator\n",
    "from tensorflow.keras.applications.vgg16 import VGG16\n",
    "from keras.callbacks import ModelCheckpoint, CSVLogger, EarlyStopping\n",
    "from sklearn.metrics import roc_auc_score, roc_curve"
   ]
  },
  {
   "cell_type": "code",
   "execution_count": 2,
   "metadata": {},
   "outputs": [],
   "source": [
    "def binary_accuracy(y_true, y_pred):\n",
    "    return K.mean(K.equal(y_true, K.round(y_pred)))\n",
    "\n",
    "def precision_threshold(threshold = 0.5):\n",
    "    def precision(y_true, y_pred):\n",
    "        threshold_value = threshold\n",
    "        y_pred = K.cast(K.greater(K.clip(y_pred, 0, 1), threshold_value), K.floatx())\n",
    "        true_positives = K.round(K.sum(K.clip(y_true * y_pred, 0, 1)))\n",
    "        predicted_positives = K.sum(y_pred)\n",
    "        precision_ratio = true_positives / (predicted_positives + K.epsilon())\n",
    "        return precision_ratio\n",
    "    return precision\n",
    "\n",
    "def recall_threshold(threshold = 0.5):\n",
    "    def recall(y_true, y_pred):\n",
    "        threshold_value = threshold\n",
    "        y_pred = K.cast(K.greater(K.clip(y_pred, 0, 1), threshold_value), K.floatx())\n",
    "        true_positives = K.round(K.sum(K.clip(y_true * y_pred, 0, 1)))\n",
    "        possible_positives = K.sum(K.clip(y_true, 0, 1))\n",
    "        recall_ratio = true_positives / (possible_positives + K.epsilon())\n",
    "        return recall_ratio\n",
    "    return recall\n",
    "\n",
    "def fbeta_score_threshold(beta = 1, threshold = 0.5):\n",
    "    def fbeta_score(y_true, y_pred):\n",
    "        threshold_value = threshold\n",
    "        beta_value = beta\n",
    "        p = precision_threshold(threshold_value)(y_true, y_pred)\n",
    "        r = recall_threshold(threshold_value)(y_true, y_pred)\n",
    "        bb = beta_value ** 2\n",
    "        fbeta_score = (1 + bb) * (p * r) / (bb * p + r + K.epsilon())\n",
    "        return fbeta_score\n",
    "    return fbeta_score\n",
    "\n",
    "def calculate_cm(y_true, y_pred):\n",
    "    fp = np.sum((y_pred == 1) & (y_true == 0))\n",
    "    tp = np.sum((y_pred == 1) & (y_true == 1))\n",
    "    fn = np.sum((y_pred == 0) & (y_true == 1))\n",
    "    tn = np.sum((y_pred == 0) & (y_true == 0))\n",
    "    return tp, fp, fn, tn\n",
    "\n",
    "def calculate_recall(tp, fp, fn, tn):\n",
    "    return (tp)/(tp + fn)\n",
    "\n",
    "def calculate_fallout(tp, fp, fn, tn):\n",
    "    return (fp)/(fp + tn)\n",
    "\n",
    "def calculate_fpr_tpr(y_true, y_pred):\n",
    "    tp, fp, fn, tn = calculate_cm(y_true, y_pred)\n",
    "    tpr = calculate_recall(tp, fp, fn, tn)\n",
    "    fpr = calculate_fallout(tp, fp, fn, tn)\n",
    "    return fpr, tpr"
   ]
  },
  {
   "cell_type": "code",
   "execution_count": 3,
   "metadata": {},
   "outputs": [],
   "source": [
    "# earlystop = EarlyStopping(monitor='val_loss', min_delta=0, patience=4, verbose=1, mode='auto')\n",
    "# log = CSVLogger('saved_models/log_pretrained_CNN.csv')\n",
    "# checkpointer = ModelCheckpoint(filepath='saved_models/pretrainedVGG.best.from_scratch.hdf5', verbose=1, save_best_only=True)"
   ]
  },
  {
   "cell_type": "code",
   "execution_count": 4,
   "metadata": {
    "execution": {
     "iopub.execute_input": "2022-11-24T06:53:27.486457Z",
     "iopub.status.busy": "2022-11-24T06:53:27.485775Z",
     "iopub.status.idle": "2022-11-24T06:53:28.447285Z",
     "shell.execute_reply": "2022-11-24T06:53:28.446226Z",
     "shell.execute_reply.started": "2022-11-24T06:53:27.486415Z"
    }
   },
   "outputs": [],
   "source": [
    "df = pd.read_csv('./dataset_information/Data_Entry_2017.csv')\n",
    "\n",
    "diseases = ['Cardiomegaly','Emphysema','Effusion','Hernia','Nodule','Pneumothorax','Atelectasis','Pleural_Thickening','Mass','Edema','Consolidation','Infiltration','Fibrosis','Pneumonia']\n",
    "#Number diseases\n",
    "for disease in diseases :\n",
    "    df[disease] = df['Finding Labels'].apply(lambda x: 1 if disease in x else 0)"
   ]
  },
  {
   "cell_type": "code",
   "execution_count": 5,
   "metadata": {
    "execution": {
     "iopub.execute_input": "2022-11-24T06:53:28.448882Z",
     "iopub.status.busy": "2022-11-24T06:53:28.448513Z",
     "iopub.status.idle": "2022-11-24T06:53:32.696559Z",
     "shell.execute_reply": "2022-11-24T06:53:32.695633Z",
     "shell.execute_reply.started": "2022-11-24T06:53:28.448843Z"
    }
   },
   "outputs": [
    {
     "name": "stdout",
     "output_type": "stream",
     "text": [
      "Images found: 112120\n"
     ]
    }
   ],
   "source": [
    "all_image_paths = {os.path.basename(x): x for x in glob(os.path.join('.' ,'images', '*.png'))}\n",
    "print('Images found:', len(all_image_paths))\n",
    "df['Path'] = df['Image Index'].map(all_image_paths.get)"
   ]
  },
  {
   "cell_type": "code",
   "execution_count": 6,
   "metadata": {
    "execution": {
     "iopub.execute_input": "2022-11-24T06:53:32.699639Z",
     "iopub.status.busy": "2022-11-24T06:53:32.698542Z",
     "iopub.status.idle": "2022-11-24T06:53:32.759079Z",
     "shell.execute_reply": "2022-11-24T06:53:32.758208Z",
     "shell.execute_reply.started": "2022-11-24T06:53:32.699595Z"
    }
   },
   "outputs": [],
   "source": [
    "labels = df[diseases].to_numpy()\n",
    "files_list = df['Path'].tolist()"
   ]
  },
  {
   "cell_type": "code",
   "execution_count": 7,
   "metadata": {
    "execution": {
     "iopub.execute_input": "2022-11-24T06:53:32.760679Z",
     "iopub.status.busy": "2022-11-24T06:53:32.760288Z",
     "iopub.status.idle": "2022-11-24T06:53:32.781774Z",
     "shell.execute_reply": "2022-11-24T06:53:32.780601Z",
     "shell.execute_reply.started": "2022-11-24T06:53:32.760640Z"
    }
   },
   "outputs": [
    {
     "name": "stdout",
     "output_type": "stream",
     "text": [
      "[1 1 1 ... 0 0 0]\n"
     ]
    }
   ],
   "source": [
    "labelB = (df[diseases].sum(axis=1)>0).tolist()\n",
    "labelB = np.array(labelB, dtype=int)\n",
    "print(labelB)"
   ]
  },
  {
   "cell_type": "code",
   "execution_count": 8,
   "metadata": {
    "execution": {
     "iopub.execute_input": "2022-11-24T06:53:32.783446Z",
     "iopub.status.busy": "2022-11-24T06:53:32.783129Z",
     "iopub.status.idle": "2022-11-24T06:53:32.841697Z",
     "shell.execute_reply": "2022-11-24T06:53:32.840801Z",
     "shell.execute_reply.started": "2022-11-24T06:53:32.783409Z"
    }
   },
   "outputs": [
    {
     "name": "stdout",
     "output_type": "stream",
     "text": [
      "Training : 75120  Testing: 37000\n"
     ]
    }
   ],
   "source": [
    "train_df, test_df = train_test_split(df,test_size = 0.33,random_state = 2018)\n",
    "print(f'Training : {train_df.shape[0]}  Testing: {test_df.shape[0]}')"
   ]
  },
  {
   "cell_type": "code",
   "execution_count": 9,
   "metadata": {
    "execution": {
     "iopub.execute_input": "2022-11-24T06:53:32.843639Z",
     "iopub.status.busy": "2022-11-24T06:53:32.843239Z",
     "iopub.status.idle": "2022-11-24T06:53:32.870112Z",
     "shell.execute_reply": "2022-11-24T06:53:32.869042Z",
     "shell.execute_reply.started": "2022-11-24T06:53:32.843599Z"
    }
   },
   "outputs": [
    {
     "name": "stdout",
     "output_type": "stream",
     "text": [
      "9733\n"
     ]
    }
   ],
   "source": [
    "patient_train = set(train_df[\"Patient ID\"].values)\n",
    "patient_test  = set(test_df[\"Patient ID\"].values)\n",
    "\n",
    "leakage_patient = patient_train.intersection(patient_test)\n",
    "print(len(leakage_patient))"
   ]
  },
  {
   "cell_type": "code",
   "execution_count": 10,
   "metadata": {
    "execution": {
     "iopub.execute_input": "2022-11-24T06:53:32.872407Z",
     "iopub.status.busy": "2022-11-24T06:53:32.871254Z",
     "iopub.status.idle": "2022-11-24T06:53:32.901038Z",
     "shell.execute_reply": "2022-11-24T06:53:32.900063Z",
     "shell.execute_reply.started": "2022-11-24T06:53:32.872342Z"
    }
   },
   "outputs": [
    {
     "name": "stdout",
     "output_type": "stream",
     "text": [
      "Train\n",
      "0.2656283280085197\n",
      "75120\n",
      "19954\n",
      "\n",
      "Test\n",
      "0.18975675675675677\n",
      "37000\n",
      "7021\n"
     ]
    }
   ],
   "source": [
    "train_without_leakage = train_df[~train_df[\"Patient ID\"].isin(leakage_patient)]\n",
    "\n",
    "print(\"Train\")\n",
    "print(len(train_without_leakage) / len(train_df))\n",
    "print(len(train_df))\n",
    "print(len(train_without_leakage))\n",
    "\n",
    "print()\n",
    "print(\"Test\")\n",
    "test_without_leakage = test_df[~test_df[\"Patient ID\"].isin(leakage_patient)]\n",
    "print(len(test_without_leakage) / len(test_df))\n",
    "print(len(test_df))\n",
    "print(len(test_without_leakage))"
   ]
  },
  {
   "cell_type": "code",
   "execution_count": 11,
   "metadata": {
    "execution": {
     "iopub.execute_input": "2022-11-24T06:53:32.903058Z",
     "iopub.status.busy": "2022-11-24T06:53:32.902623Z",
     "iopub.status.idle": "2022-11-24T06:53:32.908678Z",
     "shell.execute_reply": "2022-11-24T06:53:32.907788Z",
     "shell.execute_reply.started": "2022-11-24T06:53:32.903021Z"
    }
   },
   "outputs": [],
   "source": [
    "test_df = test_without_leakage"
   ]
  },
  {
   "cell_type": "code",
   "execution_count": 12,
   "metadata": {
    "execution": {
     "iopub.execute_input": "2022-11-24T06:53:32.913291Z",
     "iopub.status.busy": "2022-11-24T06:53:32.912616Z",
     "iopub.status.idle": "2022-11-24T06:53:32.953867Z",
     "shell.execute_reply": "2022-11-24T06:53:32.953011Z",
     "shell.execute_reply.started": "2022-11-24T06:53:32.913252Z"
    }
   },
   "outputs": [],
   "source": [
    "train_df, valid_df = train_test_split(train_df, test_size = 0.2, random_state = 42)"
   ]
  },
  {
   "cell_type": "code",
   "execution_count": 13,
   "metadata": {
    "execution": {
     "iopub.execute_input": "2022-11-24T06:53:32.955851Z",
     "iopub.status.busy": "2022-11-24T06:53:32.955042Z",
     "iopub.status.idle": "2022-11-24T06:53:32.962672Z",
     "shell.execute_reply": "2022-11-24T06:53:32.961655Z",
     "shell.execute_reply.started": "2022-11-24T06:53:32.955810Z"
    }
   },
   "outputs": [],
   "source": [
    "def path_to_tensor(img_path, shape):\n",
    "    # loads RGB image as PIL.Image.Image type\n",
    "    img = image.load_img(img_path, target_size=shape)\n",
    "    # convert PIL.Image.Image type to 3D tensor with shape (224, 224, 3)\n",
    "    x = image.img_to_array(img)/255\n",
    "    # convert 3D tensor to 4D tensor with shape (1, 224, 224, 3) and return 4D tensor\n",
    "    return np.expand_dims(x, axis=0)\n",
    "\n",
    "def paths_to_tensor(img_paths, shape):\n",
    "    list_of_tensors = [path_to_tensor(img_path, shape) for img_path in tqdm(img_paths)]\n",
    "    return np.vstack(list_of_tensors)"
   ]
  },
  {
   "cell_type": "code",
   "execution_count": 14,
   "metadata": {
    "execution": {
     "iopub.execute_input": "2022-11-24T06:53:32.965856Z",
     "iopub.status.busy": "2022-11-24T06:53:32.965182Z",
     "iopub.status.idle": "2022-11-24T07:28:31.595521Z",
     "shell.execute_reply": "2022-11-24T07:28:31.594594Z",
     "shell.execute_reply.started": "2022-11-24T06:53:32.965818Z"
    }
   },
   "outputs": [
    {
     "name": "stderr",
     "output_type": "stream",
     "text": [
      "100%|██████████████████████████████████████████████████████████████████████████████████████| 60096/60096 [17:42<00:00, 56.59it/s]\n",
      "100%|██████████████████████████████████████████████████████████████████████████████████████| 15024/15024 [04:18<00:00, 58.11it/s]\n",
      "100%|████████████████████████████████████████████████████████████████████████████████████████| 7021/7021 [02:52<00:00, 40.65it/s]\n"
     ]
    }
   ],
   "source": [
    "img_shape = (64, 64)\n",
    "train_tensors = paths_to_tensor(train_df['Path'].to_list(), shape = img_shape)\n",
    "valid_tensors = paths_to_tensor(valid_df['Path'].to_list(), shape = img_shape)\n",
    "test_tensors = paths_to_tensor(test_df['Path'].to_list(), shape = img_shape)"
   ]
  },
  {
   "cell_type": "code",
   "execution_count": 15,
   "metadata": {
    "execution": {
     "iopub.execute_input": "2022-11-24T07:28:31.597685Z",
     "iopub.status.busy": "2022-11-24T07:28:31.597267Z",
     "iopub.status.idle": "2022-11-24T07:28:31.629025Z",
     "shell.execute_reply": "2022-11-24T07:28:31.628108Z",
     "shell.execute_reply.started": "2022-11-24T07:28:31.597646Z"
    }
   },
   "outputs": [],
   "source": [
    "train_labels = (train_df[diseases].sum(axis=1)>0).tolist()\n",
    "train_labels = np.array(train_labels, dtype=int)\n",
    "train_labels = train_labels[:, np.newaxis]"
   ]
  },
  {
   "cell_type": "code",
   "execution_count": 16,
   "metadata": {
    "execution": {
     "iopub.execute_input": "2022-11-24T07:28:31.631143Z",
     "iopub.status.busy": "2022-11-24T07:28:31.630661Z",
     "iopub.status.idle": "2022-11-24T07:28:31.644583Z",
     "shell.execute_reply": "2022-11-24T07:28:31.643616Z",
     "shell.execute_reply.started": "2022-11-24T07:28:31.631103Z"
    }
   },
   "outputs": [
    {
     "data": {
      "text/plain": [
       "array([[0],\n",
       "       [0],\n",
       "       [1],\n",
       "       ...,\n",
       "       [1],\n",
       "       [1],\n",
       "       [0]])"
      ]
     },
     "execution_count": 16,
     "metadata": {},
     "output_type": "execute_result"
    }
   ],
   "source": [
    "train_labels"
   ]
  },
  {
   "cell_type": "code",
   "execution_count": 17,
   "metadata": {
    "execution": {
     "iopub.execute_input": "2022-11-24T07:28:31.646624Z",
     "iopub.status.busy": "2022-11-24T07:28:31.646209Z",
     "iopub.status.idle": "2022-11-24T07:28:31.657293Z",
     "shell.execute_reply": "2022-11-24T07:28:31.656306Z",
     "shell.execute_reply.started": "2022-11-24T07:28:31.646575Z"
    }
   },
   "outputs": [],
   "source": [
    "valid_labels = (valid_df[diseases].sum(axis=1)>0).tolist()\n",
    "valid_labels = np.array(valid_labels, dtype=int)\n",
    "valid_labels =valid_labels[:, np.newaxis]"
   ]
  },
  {
   "cell_type": "code",
   "execution_count": 18,
   "metadata": {
    "execution": {
     "iopub.execute_input": "2022-11-24T07:28:31.659190Z",
     "iopub.status.busy": "2022-11-24T07:28:31.658822Z",
     "iopub.status.idle": "2022-11-24T07:28:31.670393Z",
     "shell.execute_reply": "2022-11-24T07:28:31.669706Z",
     "shell.execute_reply.started": "2022-11-24T07:28:31.659154Z"
    }
   },
   "outputs": [],
   "source": [
    "test_labels = (test_df[diseases].sum(axis=1)>0).tolist()\n",
    "test_labels = np.array(test_labels, dtype=int)\n",
    "test_labels =test_labels[:, np.newaxis]"
   ]
  },
  {
   "cell_type": "code",
   "execution_count": 19,
   "metadata": {},
   "outputs": [],
   "source": [
    "Epochs = 5\n",
    "batch_size = 32"
   ]
  },
  {
   "cell_type": "code",
   "execution_count": 20,
   "metadata": {
    "execution": {
     "iopub.execute_input": "2022-11-24T07:28:32.245753Z",
     "iopub.status.busy": "2022-11-24T07:28:32.244309Z",
     "iopub.status.idle": "2022-11-24T07:28:38.101662Z",
     "shell.execute_reply": "2022-11-24T07:28:38.100845Z",
     "shell.execute_reply.started": "2022-11-24T07:28:32.245718Z"
    }
   },
   "outputs": [],
   "source": [
    "base_model = VGG16(\n",
    "    weights='imagenet', \n",
    "    include_top = False, \n",
    "    input_shape=train_tensors.shape[1:]\n",
    ")\n",
    "\n",
    "add_model = Sequential()\n",
    "add_model.add(Flatten(input_shape=base_model.output_shape[1:]))\n",
    "add_model.add(Dropout(0.2))\n",
    "add_model.add(Dense(256, activation='relu'))\n",
    "add_model.add(Dropout(0.2))\n",
    "\n",
    "add_model.add(Dense(256, activation='relu'))\n",
    "add_model.add(Dropout(0.2))\n",
    "\n",
    "add_model.add(Dense(50, activation='relu'))\n",
    "add_model.add(Dropout(0.2))\n",
    "add_model.add(Dense(1, activation = 'sigmoid'))\n",
    "\n",
    "model = Model(inputs=base_model.input, outputs=add_model(base_model.output))\n",
    "\n",
    "# model.summary()\n",
    "# add_model.summary()"
   ]
  },
  {
   "cell_type": "code",
   "execution_count": 25,
   "metadata": {
    "execution": {
     "iopub.execute_input": "2022-11-24T07:28:38.103494Z",
     "iopub.status.busy": "2022-11-24T07:28:38.103105Z",
     "iopub.status.idle": "2022-11-24T07:28:38.118913Z",
     "shell.execute_reply": "2022-11-24T07:28:38.117935Z",
     "shell.execute_reply.started": "2022-11-24T07:28:38.103456Z"
    }
   },
   "outputs": [],
   "source": [
    "model.compile(\n",
    "    optimizer = tf.keras.optimizers.SGD(\n",
    "        learning_rate=1e-4, \n",
    "        decay=1e-6, \n",
    "        momentum=0.9, \n",
    "        nesterov=True), \n",
    "    loss = 'binary_crossentropy', \n",
    "    metrics = [\n",
    "        'accuracy',\n",
    "        precision_threshold(threshold = 0.5), \n",
    "        recall_threshold(threshold = 0.5), \n",
    "        fbeta_score_threshold(beta=0.5, threshold = 0.5)\n",
    "])"
   ]
  },
  {
   "cell_type": "code",
   "execution_count": 26,
   "metadata": {},
   "outputs": [],
   "source": [
    "train_datagen = ImageDataGenerator(\n",
    "    featurewise_center=False,  # set input mean to 0 over the dataset\n",
    "    samplewise_center=False,  # set each sample mean to 0\n",
    "    featurewise_std_normalization=False,  # divide inputs by std of the dataset\n",
    "    samplewise_std_normalization=False,  # divide each input by its std\n",
    "    zca_whitening=False,  # apply ZCA whitening\n",
    "    rotation_range=10,  # randomly rotate images in the range (degrees, 0 to 180)\n",
    "    width_shift_range=0.1,  # randomly shift images horizontally (fraction of total width)\n",
    "    height_shift_range=0.1,  # randomly shift images vertically (fraction of total height)\n",
    "    horizontal_flip=True,  # randomly flip images\n",
    "    vertical_flip=False \n",
    ")"
   ]
  },
  {
   "cell_type": "code",
   "execution_count": 27,
   "metadata": {},
   "outputs": [
    {
     "name": "stderr",
     "output_type": "stream",
     "text": [
      "C:\\Users\\m7irt\\anaconda3\\envs\\tf-gpu\\lib\\site-packages\\keras\\engine\\training.py:1972: UserWarning: `Model.fit_generator` is deprecated and will be removed in a future version. Please use `Model.fit`, which supports generators.\n",
      "  warnings.warn('`Model.fit_generator` is deprecated and '\n"
     ]
    },
    {
     "name": "stdout",
     "output_type": "stream",
     "text": [
      "Epoch 1/5\n",
      "1878/1878 [==============================] - ETA: 0s - loss: 0.6636 - accuracy: 0.6057 - precision: 0.5840 - recall: 0.4774 - fbeta_score: 0.5467WARNING:tensorflow:Your input ran out of data; interrupting training. Make sure that your dataset or generator can generate at least `steps_per_epoch * epochs` batches (in this case, 469 batches). You may need to use the repeat() function when building your dataset.\n",
      "1878/1878 [==============================] - 290s 148ms/step - loss: 0.6636 - accuracy: 0.6057 - precision: 0.5840 - recall: 0.4774 - fbeta_score: 0.5467 - val_loss: 0.6158 - val_accuracy: 0.6699 - val_precision: 0.6895 - val_recall: 0.5221 - val_fbeta_score: 0.6402\n",
      "Epoch 2/5\n",
      "1878/1878 [==============================] - 264s 141ms/step - loss: 0.6278 - accuracy: 0.6604 - precision: 0.6484 - recall: 0.5745 - fbeta_score: 0.6217\n",
      "Epoch 3/5\n",
      "1878/1878 [==============================] - 269s 143ms/step - loss: 0.6200 - accuracy: 0.6710 - precision: 0.6577 - recall: 0.5917 - fbeta_score: 0.6344\n",
      "Epoch 4/5\n",
      "1878/1878 [==============================] - 258s 137ms/step - loss: 0.6161 - accuracy: 0.6757 - precision: 0.6648 - recall: 0.5977 - fbeta_score: 0.6413\n",
      "Epoch 5/5\n",
      "1878/1878 [==============================] - 261s 139ms/step - loss: 0.6120 - accuracy: 0.6791 - precision: 0.6632 - recall: 0.6103 - fbeta_score: 0.6438\n",
      "22min 22s ± 0 ns per loop (mean ± std. dev. of 1 run, 1 loop each)\n"
     ]
    }
   ],
   "source": [
    "%%timeit -n1 -r1\n",
    "\n",
    "history = model.fit_generator(\n",
    "    # Data generator is used to generate data at run time during training\n",
    "    train_datagen.flow(train_tensors,train_labels, batch_size = batch_size),\n",
    "    steps_per_epoch = len(train_tensors) // batch_size,\n",
    "    validation_data = (valid_tensors, valid_labels),\n",
    "    validation_steps = len(valid_tensors) // batch_size,\n",
    "    epochs = Epochs\n",
    ")"
   ]
  },
  {
   "cell_type": "code",
   "execution_count": 28,
   "metadata": {
    "execution": {
     "iopub.execute_input": "2022-11-24T08:11:53.737919Z",
     "iopub.status.busy": "2022-11-24T08:11:53.737526Z",
     "iopub.status.idle": "2022-11-24T08:11:59.257351Z",
     "shell.execute_reply": "2022-11-24T08:11:59.256516Z",
     "shell.execute_reply.started": "2022-11-24T08:11:53.737887Z"
    }
   },
   "outputs": [],
   "source": [
    "prediction = model.predict(test_tensors)"
   ]
  },
  {
   "cell_type": "code",
   "execution_count": 29,
   "metadata": {},
   "outputs": [
    {
     "name": "stdout",
     "output_type": "stream",
     "text": [
      "Accuracy: 0.7357926368713379 \n",
      "Recall: 0.21609966456890106 \n",
      "Specificity: 0.9556141062018646\n",
      "Precision: 0.6731343269348145 \n",
      "F1-Score: 0.4730437397956848\n",
      "\n",
      "True Positives: 451 \n",
      "False Positives: 219 \n",
      "False Negatives: 1636 \n",
      "True Negatives: 4715\n",
      "\n",
      "False Positve Rate: 4.438589379813538 % \n",
      "True Positive Rate: 21.609966459032105 %\n"
     ]
    }
   ],
   "source": [
    "# Evaluation of Trained Model\n",
    "testing_predictions = []\n",
    "for val in prediction:\n",
    "    if val[0] < 0.5:\n",
    "        testing_predictions.append([0])\n",
    "    else:\n",
    "        testing_predictions.append([1])\n",
    "\n",
    "testing_predictions = np.array(testing_predictions)\n",
    "\n",
    "TP, FP, FN, TN = calculate_cm(test_labels, testing_predictions)\n",
    "FPR, TPR = calculate_fpr_tpr(test_labels, testing_predictions)\n",
    "\n",
    "threshold = 0.5\n",
    "beta = 0.5\n",
    "\n",
    "accuracy = K.eval(binary_accuracy(K.variable(value=test_labels), K.variable(value=prediction)))\n",
    "precision = K.eval(precision_threshold(threshold = threshold)(K.variable(value=test_labels),K.variable(value=prediction)))\n",
    "recall = K.eval(recall_threshold(threshold = threshold)(K.variable(value=test_labels),K.variable(value=prediction)))\n",
    "f1_score = K.eval(fbeta_score_threshold(beta = beta, threshold = threshold)(K.variable(value=test_labels),K.variable(value=prediction)))\n",
    "\n",
    "print (f\"Accuracy: {accuracy} \\nRecall: {recall} \\nSpecificity: {TN / (TN + FP)}\\nPrecision: {precision} \\nF1-Score: {f1_score}\\n\")\n",
    "print (f\"True Positives: {TP} \\nFalse Positives: {FP} \\nFalse Negatives: {FN} \\nTrue Negatives: {TN}\\n\")\n",
    "print (f\"False Positve Rate: {FPR * 100} % \\nTrue Positive Rate: {TPR * 100} %\")"
   ]
  },
  {
   "cell_type": "code",
   "execution_count": null,
   "metadata": {
    "execution": {
     "iopub.execute_input": "2022-11-24T08:12:12.713062Z",
     "iopub.status.busy": "2022-11-24T08:12:12.712489Z",
     "iopub.status.idle": "2022-11-24T08:12:13.090225Z",
     "shell.execute_reply": "2022-11-24T08:12:13.089376Z",
     "shell.execute_reply.started": "2022-11-24T08:12:12.713025Z"
    }
   },
   "outputs": [],
   "source": [
    "# model.save('vgg16-model.h5')\n",
    "# model.save_weights('vgg16-w-model.h5')"
   ]
  }
 ],
 "metadata": {
  "kernelspec": {
   "display_name": "Python 3 (ipykernel)",
   "language": "python",
   "name": "python3"
  },
  "language_info": {
   "codemirror_mode": {
    "name": "ipython",
    "version": 3
   },
   "file_extension": ".py",
   "mimetype": "text/x-python",
   "name": "python",
   "nbconvert_exporter": "python",
   "pygments_lexer": "ipython3",
   "version": "3.9.15"
  }
 },
 "nbformat": 4,
 "nbformat_minor": 4
}
