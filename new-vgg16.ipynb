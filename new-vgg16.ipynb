{
 "cells": [
  {
   "cell_type": "code",
   "execution_count": 2,
   "metadata": {
    "execution": {
     "iopub.execute_input": "2022-06-17T08:28:55.862606Z",
     "iopub.status.busy": "2022-06-17T08:28:55.862082Z",
     "iopub.status.idle": "2022-06-17T08:28:56.870416Z",
     "shell.execute_reply": "2022-06-17T08:28:56.869622Z",
     "shell.execute_reply.started": "2022-06-17T08:28:55.862571Z"
    }
   },
   "outputs": [],
   "source": [
    "import numpy as np\n",
    "import pandas as pd\n",
    "from glob import glob\n",
    "from tqdm import tqdm\n",
    "from sklearn.utils import shuffle\n",
    "\n",
    "df = pd.read_csv('./dataset_information/Data_Entry_2017.csv')\n",
    "\n",
    "diseases = ['Cardiomegaly','Emphysema','Effusion','Hernia','Nodule','Pneumothorax','Atelectasis','Pleural_Thickening','Mass','Edema','Consolidation','Infiltration','Fibrosis','Pneumonia']\n",
    "#Number diseases\n",
    "for disease in diseases :\n",
    "    df[disease] = df['Finding Labels'].apply(lambda x: 1 if disease in x else 0)\n"
   ]
  },
  {
   "cell_type": "code",
   "execution_count": 3,
   "metadata": {
    "execution": {
     "iopub.execute_input": "2022-06-17T08:28:56.872409Z",
     "iopub.status.busy": "2022-06-17T08:28:56.872061Z",
     "iopub.status.idle": "2022-06-17T08:28:57.392801Z",
     "shell.execute_reply": "2022-06-17T08:28:57.391965Z",
     "shell.execute_reply.started": "2022-06-17T08:28:56.872372Z"
    }
   },
   "outputs": [
    {
     "name": "stdout",
     "output_type": "stream",
     "text": [
      "Images found: 112120\n"
     ]
    }
   ],
   "source": [
    "import os\n",
    "all_image_paths = {os.path.basename(x): x for x in \n",
    "                   glob(os.path.join('.', 'images', '*.png'))}\n",
    "print('Images found:', len(all_image_paths))\n",
    "\n",
    "\n",
    "df['Path'] = df['Image Index'].map(all_image_paths.get)\n"
   ]
  },
  {
   "cell_type": "code",
   "execution_count": 4,
   "metadata": {
    "execution": {
     "iopub.execute_input": "2022-06-17T08:28:57.394654Z",
     "iopub.status.busy": "2022-06-17T08:28:57.394291Z",
     "iopub.status.idle": "2022-06-17T08:28:57.426073Z",
     "shell.execute_reply": "2022-06-17T08:28:57.425183Z",
     "shell.execute_reply.started": "2022-06-17T08:28:57.394618Z"
    }
   },
   "outputs": [],
   "source": [
    "labels = df[diseases].to_numpy()\n",
    "files_list = df['Path'].tolist()"
   ]
  },
  {
   "cell_type": "code",
   "execution_count": 5,
   "metadata": {
    "execution": {
     "iopub.execute_input": "2022-06-17T08:28:57.428706Z",
     "iopub.status.busy": "2022-06-17T08:28:57.428063Z",
     "iopub.status.idle": "2022-06-17T08:28:57.451979Z",
     "shell.execute_reply": "2022-06-17T08:28:57.451126Z",
     "shell.execute_reply.started": "2022-06-17T08:28:57.428669Z"
    }
   },
   "outputs": [
    {
     "name": "stdout",
     "output_type": "stream",
     "text": [
      "[1 1 1 ... 0 0 0]\n"
     ]
    }
   ],
   "source": [
    "labelB = (df[diseases].sum(axis=1)>0).tolist()\n",
    "labelB = np.array(labelB, dtype=int)\n",
    "print(labelB)"
   ]
  },
  {
   "cell_type": "code",
   "execution_count": 6,
   "metadata": {
    "execution": {
     "iopub.execute_input": "2022-06-17T08:28:58.893343Z",
     "iopub.status.busy": "2022-06-17T08:28:58.890875Z",
     "iopub.status.idle": "2022-06-17T08:28:58.942021Z",
     "shell.execute_reply": "2022-06-17T08:28:58.941196Z",
     "shell.execute_reply.started": "2022-06-17T08:28:58.893306Z"
    }
   },
   "outputs": [
    {
     "name": "stdout",
     "output_type": "stream",
     "text": [
      "Training : 75120  Testing: 37000\n"
     ]
    }
   ],
   "source": [
    "from sklearn.model_selection import train_test_split\n",
    "\n",
    "train_df, test_df = train_test_split(df,\n",
    "                                               test_size = 0.33,\n",
    "                                               random_state = 2018,\n",
    "                                              )\n",
    "\n",
    "\n",
    "print(f'Training : {train_df.shape[0]}  Testing: {test_df.shape[0]}')"
   ]
  },
  {
   "cell_type": "code",
   "execution_count": 7,
   "metadata": {
    "execution": {
     "iopub.execute_input": "2022-06-17T08:28:59.741776Z",
     "iopub.status.busy": "2022-06-17T08:28:59.741127Z",
     "iopub.status.idle": "2022-06-17T08:28:59.775785Z",
     "shell.execute_reply": "2022-06-17T08:28:59.772360Z",
     "shell.execute_reply.started": "2022-06-17T08:28:59.741740Z"
    }
   },
   "outputs": [
    {
     "name": "stdout",
     "output_type": "stream",
     "text": [
      "9733\n"
     ]
    }
   ],
   "source": [
    "patient_train = set(train_df[\"Patient ID\"].values)\n",
    "patient_test  = set(test_df[\"Patient ID\"].values)\n",
    "\n",
    "leakage_patient = patient_train.intersection(patient_test)\n",
    "print(len(leakage_patient))"
   ]
  },
  {
   "cell_type": "code",
   "execution_count": 8,
   "metadata": {
    "execution": {
     "iopub.execute_input": "2022-06-17T08:29:00.916893Z",
     "iopub.status.busy": "2022-06-17T08:29:00.916548Z",
     "iopub.status.idle": "2022-06-17T08:29:00.942202Z",
     "shell.execute_reply": "2022-06-17T08:29:00.941029Z",
     "shell.execute_reply.started": "2022-06-17T08:29:00.916865Z"
    }
   },
   "outputs": [
    {
     "name": "stdout",
     "output_type": "stream",
     "text": [
      "Train\n",
      "0.2656283280085197\n",
      "75120\n",
      "19954\n",
      "\n",
      "Test\n",
      "0.18975675675675677\n",
      "37000\n",
      "7021\n"
     ]
    }
   ],
   "source": [
    "train_without_leakage = train_df[~train_df[\"Patient ID\"].isin(leakage_patient)]\n",
    "\n",
    "print(\"Train\")\n",
    "print(len(train_without_leakage) / len(train_df))\n",
    "print(len(train_df))\n",
    "print(len(train_without_leakage))\n",
    "\n",
    "print()\n",
    "print(\"Test\")\n",
    "test_without_leakage = test_df[~test_df[\"Patient ID\"].isin(leakage_patient)]\n",
    "print(len(test_without_leakage) / len(test_df))\n",
    "print(len(test_df))\n",
    "print(len(test_without_leakage))"
   ]
  },
  {
   "cell_type": "code",
   "execution_count": 9,
   "metadata": {
    "execution": {
     "iopub.execute_input": "2022-06-17T08:29:01.836894Z",
     "iopub.status.busy": "2022-06-17T08:29:01.835962Z",
     "iopub.status.idle": "2022-06-17T08:29:01.842507Z",
     "shell.execute_reply": "2022-06-17T08:29:01.841397Z",
     "shell.execute_reply.started": "2022-06-17T08:29:01.836854Z"
    }
   },
   "outputs": [],
   "source": [
    "test_df = test_without_leakage"
   ]
  },
  {
   "cell_type": "code",
   "execution_count": 10,
   "metadata": {
    "execution": {
     "iopub.execute_input": "2022-06-17T08:29:04.069108Z",
     "iopub.status.busy": "2022-06-17T08:29:04.068763Z",
     "iopub.status.idle": "2022-06-17T08:29:04.105711Z",
     "shell.execute_reply": "2022-06-17T08:29:04.104887Z",
     "shell.execute_reply.started": "2022-06-17T08:29:04.069079Z"
    }
   },
   "outputs": [],
   "source": [
    "train_df, valid_df = train_test_split(train_df, test_size = 0.2, random_state = 42)"
   ]
  },
  {
   "cell_type": "code",
   "execution_count": 11,
   "metadata": {
    "execution": {
     "iopub.execute_input": "2022-06-17T08:29:04.108066Z",
     "iopub.status.busy": "2022-06-17T08:29:04.107197Z",
     "iopub.status.idle": "2022-06-17T08:29:04.115311Z",
     "shell.execute_reply": "2022-06-17T08:29:04.114427Z",
     "shell.execute_reply.started": "2022-06-17T08:29:04.108027Z"
    }
   },
   "outputs": [],
   "source": [
    "from keras.preprocessing import image                  \n",
    "from tqdm import tqdm\n",
    "\n",
    "def path_to_tensor(img_path, shape):\n",
    "    # loads RGB image as PIL.Image.Image type\n",
    "    img = image.load_img(img_path, target_size=shape)\n",
    "    # convert PIL.Image.Image type to 3D tensor with shape (224, 224, 3)\n",
    "    x = image.img_to_array(img)/255\n",
    "    # convert 3D tensor to 4D tensor with shape (1, 224, 224, 3) and return 4D tensor\n",
    "    return np.expand_dims(x, axis=0)\n",
    "\n",
    "def paths_to_tensor(img_paths, shape):\n",
    "    list_of_tensors = [path_to_tensor(img_path, shape) for img_path in tqdm(img_paths)]\n",
    "    return np.vstack(list_of_tensors)"
   ]
  },
  {
   "cell_type": "code",
   "execution_count": 12,
   "metadata": {
    "execution": {
     "iopub.execute_input": "2022-06-17T08:29:04.301668Z",
     "iopub.status.busy": "2022-06-17T08:29:04.300880Z",
     "iopub.status.idle": "2022-06-17T09:01:07.652920Z",
     "shell.execute_reply": "2022-06-17T09:01:07.652087Z",
     "shell.execute_reply.started": "2022-06-17T08:29:04.301616Z"
    }
   },
   "outputs": [
    {
     "name": "stderr",
     "output_type": "stream",
     "text": [
      "100%|█| 60096/60096 [14:47<00:00, 67.74it/s\n",
      "100%|█| 15024/15024 [03:41<00:00, 67.86it/s\n",
      "100%|██| 7021/7021 [01:46<00:00, 66.22it/s]\n"
     ]
    }
   ],
   "source": [
    "img_shape = (64, 64)\n",
    "train_tensors = paths_to_tensor(train_df['Path'].to_list(), shape = img_shape)\n",
    "valid_tensors = paths_to_tensor(valid_df['Path'].to_list(), shape = img_shape)\n",
    "test_tensors = paths_to_tensor(test_df['Path'].to_list(), shape = img_shape)"
   ]
  },
  {
   "cell_type": "code",
   "execution_count": 13,
   "metadata": {
    "execution": {
     "iopub.execute_input": "2022-06-17T09:01:53.195753Z",
     "iopub.status.busy": "2022-06-17T09:01:53.195115Z",
     "iopub.status.idle": "2022-06-17T09:01:53.211991Z",
     "shell.execute_reply": "2022-06-17T09:01:53.211269Z",
     "shell.execute_reply.started": "2022-06-17T09:01:53.195718Z"
    }
   },
   "outputs": [],
   "source": [
    "train_labels = (train_df[diseases].sum(axis=1)>0).tolist()\n",
    "train_labels = np.array(train_labels, dtype=int)\n",
    "train_labels =train_labels[:, np.newaxis]"
   ]
  },
  {
   "cell_type": "code",
   "execution_count": 14,
   "metadata": {
    "execution": {
     "iopub.execute_input": "2022-06-17T09:01:53.814840Z",
     "iopub.status.busy": "2022-06-17T09:01:53.814485Z",
     "iopub.status.idle": "2022-06-17T09:01:53.820540Z",
     "shell.execute_reply": "2022-06-17T09:01:53.819783Z",
     "shell.execute_reply.started": "2022-06-17T09:01:53.814810Z"
    }
   },
   "outputs": [
    {
     "data": {
      "text/plain": [
       "array([[0],\n",
       "       [0],\n",
       "       [1],\n",
       "       ...,\n",
       "       [1],\n",
       "       [1],\n",
       "       [0]])"
      ]
     },
     "execution_count": 14,
     "metadata": {},
     "output_type": "execute_result"
    }
   ],
   "source": [
    "train_labels"
   ]
  },
  {
   "cell_type": "code",
   "execution_count": 15,
   "metadata": {
    "execution": {
     "iopub.execute_input": "2022-06-17T09:01:54.443328Z",
     "iopub.status.busy": "2022-06-17T09:01:54.442437Z",
     "iopub.status.idle": "2022-06-17T09:01:54.451240Z",
     "shell.execute_reply": "2022-06-17T09:01:54.450424Z",
     "shell.execute_reply.started": "2022-06-17T09:01:54.443293Z"
    }
   },
   "outputs": [],
   "source": [
    "valid_labels = (valid_df[diseases].sum(axis=1)>0).tolist()\n",
    "valid_labels = np.array(valid_labels, dtype=int)\n",
    "valid_labels =valid_labels[:, np.newaxis]"
   ]
  },
  {
   "cell_type": "code",
   "execution_count": 16,
   "metadata": {
    "execution": {
     "iopub.execute_input": "2022-06-17T09:01:55.034323Z",
     "iopub.status.busy": "2022-06-17T09:01:55.033729Z",
     "iopub.status.idle": "2022-06-17T09:01:55.044580Z",
     "shell.execute_reply": "2022-06-17T09:01:55.043837Z",
     "shell.execute_reply.started": "2022-06-17T09:01:55.034287Z"
    }
   },
   "outputs": [],
   "source": [
    "test_labels = (test_df[diseases].sum(axis=1)>0).tolist()\n",
    "test_labels = np.array(test_labels, dtype=int)\n",
    "test_labels =test_labels[:, np.newaxis]"
   ]
  },
  {
   "cell_type": "code",
   "execution_count": 17,
   "metadata": {
    "execution": {
     "iopub.execute_input": "2022-06-17T09:01:55.614818Z",
     "iopub.status.busy": "2022-06-17T09:01:55.614462Z",
     "iopub.status.idle": "2022-06-17T09:01:55.621352Z",
     "shell.execute_reply": "2022-06-17T09:01:55.620433Z",
     "shell.execute_reply.started": "2022-06-17T09:01:55.614789Z"
    }
   },
   "outputs": [],
   "source": [
    "import time\n",
    "\n",
    "from keras.layers import Conv2D, MaxPooling2D, GlobalAveragePooling2D, Dropout, Flatten, Dense\n",
    "from keras.models import Sequential, Model\n",
    "from keras.layers import BatchNormalization\n",
    "from keras import regularizers, applications, optimizers, initializers\n",
    "from keras.preprocessing.image import ImageDataGenerator\n"
   ]
  },
  {
   "cell_type": "code",
   "execution_count": 18,
   "metadata": {
    "execution": {
     "iopub.execute_input": "2022-06-17T09:01:56.283465Z",
     "iopub.status.busy": "2022-06-17T09:01:56.282532Z",
     "iopub.status.idle": "2022-06-17T09:01:56.635319Z",
     "shell.execute_reply": "2022-06-17T09:01:56.634486Z",
     "shell.execute_reply.started": "2022-06-17T09:01:56.283422Z"
    }
   },
   "outputs": [],
   "source": [
    "from tensorflow.keras.applications.vgg16 import VGG16\n",
    "base_model = VGG16(weights='imagenet', \n",
    "                                include_top=False, \n",
    "                                input_shape=train_tensors.shape[1:])\n",
    "\n",
    "add_model = Sequential()\n",
    "add_model.add(Flatten(input_shape=base_model.output_shape[1:]))\n",
    "add_model.add(Dropout(0.2))\n",
    "add_model.add(Dense(256, activation='relu'))\n",
    "add_model.add(Dropout(0.2))\n",
    "add_model.add(Dense(50, activation='relu'))\n",
    "add_model.add(Dropout(0.2))\n",
    "add_model.add(Dense(1, activation='sigmoid'))\n",
    "\n",
    "model = Model(inputs=base_model.input, outputs=add_model(base_model.output))\n",
    "\n",
    "# model.summary()\n",
    "# add_model.summary()"
   ]
  },
  {
   "cell_type": "code",
   "execution_count": 19,
   "metadata": {
    "execution": {
     "iopub.execute_input": "2022-06-17T09:01:56.935109Z",
     "iopub.status.busy": "2022-06-17T09:01:56.934474Z",
     "iopub.status.idle": "2022-06-17T09:01:56.942471Z",
     "shell.execute_reply": "2022-06-17T09:01:56.941708Z",
     "shell.execute_reply.started": "2022-06-17T09:01:56.935072Z"
    }
   },
   "outputs": [],
   "source": [
    "from keras import backend as K\n",
    "\n",
    "def binary_accuracy(y_true, y_pred):\n",
    "    return K.mean(K.equal(y_true, K.round(y_pred)))\n",
    "\n",
    "def precision_threshold(threshold = 0.5):\n",
    "    def precision(y_true, y_pred):\n",
    "        threshold_value = threshold\n",
    "        y_pred = K.cast(K.greater(K.clip(y_pred, 0, 1), threshold_value), K.floatx())\n",
    "        true_positives = K.round(K.sum(K.clip(y_true * y_pred, 0, 1)))\n",
    "        predicted_positives = K.sum(y_pred)\n",
    "        precision_ratio = true_positives / (predicted_positives + K.epsilon())\n",
    "        return precision_ratio\n",
    "    return precision\n"
   ]
  },
  {
   "cell_type": "code",
   "execution_count": 20,
   "metadata": {
    "execution": {
     "iopub.execute_input": "2022-06-17T09:01:57.803348Z",
     "iopub.status.busy": "2022-06-17T09:01:57.802757Z",
     "iopub.status.idle": "2022-06-17T09:01:57.810305Z",
     "shell.execute_reply": "2022-06-17T09:01:57.808671Z",
     "shell.execute_reply.started": "2022-06-17T09:01:57.803313Z"
    }
   },
   "outputs": [],
   "source": [
    "def recall_threshold(threshold = 0.5):\n",
    "    def recall(y_true, y_pred):\n",
    "        threshold_value = threshold\n",
    "        y_pred = K.cast(K.greater(K.clip(y_pred, 0, 1), threshold_value), K.floatx())\n",
    "        true_positives = K.round(K.sum(K.clip(y_true * y_pred, 0, 1)))\n",
    "        possible_positives = K.sum(K.clip(y_true, 0, 1))\n",
    "        recall_ratio = true_positives / (possible_positives + K.epsilon())\n",
    "        return recall_ratio\n",
    "    return recall"
   ]
  },
  {
   "cell_type": "code",
   "execution_count": 21,
   "metadata": {
    "execution": {
     "iopub.execute_input": "2022-06-17T09:01:58.422841Z",
     "iopub.status.busy": "2022-06-17T09:01:58.422492Z",
     "iopub.status.idle": "2022-06-17T09:01:58.428673Z",
     "shell.execute_reply": "2022-06-17T09:01:58.427652Z",
     "shell.execute_reply.started": "2022-06-17T09:01:58.422812Z"
    }
   },
   "outputs": [],
   "source": [
    "def fbeta_score_threshold(beta = 1, threshold = 0.5):\n",
    "    def fbeta_score(y_true, y_pred):\n",
    "        threshold_value = threshold\n",
    "        beta_value = beta\n",
    "        p = precision_threshold(threshold_value)(y_true, y_pred)\n",
    "        r = recall_threshold(threshold_value)(y_true, y_pred)\n",
    "        bb = beta_value ** 2\n",
    "        fbeta_score = (1 + bb) * (p * r) / (bb * p + r + K.epsilon())\n",
    "        return fbeta_score\n",
    "    return fbeta_score"
   ]
  },
  {
   "cell_type": "code",
   "execution_count": 22,
   "metadata": {
    "execution": {
     "iopub.execute_input": "2022-06-17T09:01:59.004377Z",
     "iopub.status.busy": "2022-06-17T09:01:59.003639Z",
     "iopub.status.idle": "2022-06-17T09:01:59.017609Z",
     "shell.execute_reply": "2022-06-17T09:01:59.016659Z",
     "shell.execute_reply.started": "2022-06-17T09:01:59.004337Z"
    }
   },
   "outputs": [],
   "source": [
    "import keras.backend as K\n",
    "from tensorflow.keras import optimizers\n",
    "\n",
    "model.compile(optimizer=optimizers.SGD(learning_rate=1e-4, decay=1e-6, momentum=0.9, nesterov=True), \n",
    "              loss='binary_crossentropy', \n",
    "              metrics=['accuracy',\n",
    "                      precision_threshold(threshold = 0.5), \n",
    "                       recall_threshold(threshold = 0.5), \n",
    "                       fbeta_score_threshold(beta=0.5, threshold = 0.5)])"
   ]
  },
  {
   "cell_type": "code",
   "execution_count": 23,
   "metadata": {
    "execution": {
     "iopub.execute_input": "2022-06-17T09:01:59.634892Z",
     "iopub.status.busy": "2022-06-17T09:01:59.634543Z",
     "iopub.status.idle": "2022-06-17T09:01:59.640741Z",
     "shell.execute_reply": "2022-06-17T09:01:59.639928Z",
     "shell.execute_reply.started": "2022-06-17T09:01:59.634864Z"
    }
   },
   "outputs": [],
   "source": [
    "from keras.callbacks import ModelCheckpoint, CSVLogger, EarlyStopping\n",
    "import numpy as np\n",
    "\n",
    "Epochs = 40\n",
    "batch_size = 32\n",
    "\n",
    "earlystop = EarlyStopping(monitor='val_loss', min_delta=0, patience=4, verbose=1, mode='auto')\n",
    "log = CSVLogger('saved_models/log_pretrained_CNN.csv')\n",
    "checkpointer = ModelCheckpoint(filepath='saved_models/pretrainedVGG.best.from_scratch.hdf5', verbose=1, save_best_only=True)"
   ]
  },
  {
   "cell_type": "code",
   "execution_count": 24,
   "metadata": {
    "execution": {
     "iopub.execute_input": "2022-06-17T09:10:32.485951Z",
     "iopub.status.busy": "2022-06-17T09:10:32.485590Z",
     "iopub.status.idle": "2022-06-17T09:40:40.558042Z",
     "shell.execute_reply": "2022-06-17T09:40:40.557190Z",
     "shell.execute_reply.started": "2022-06-17T09:10:32.485920Z"
    }
   },
   "outputs": [
    {
     "name": "stderr",
     "output_type": "stream",
     "text": [
      "C:\\Users\\m7irt\\anaconda3\\envs\\tf-gpu\\lib\\site-packages\\keras\\engine\\training.py:1972: UserWarning: `Model.fit_generator` is deprecated and will be removed in a future version. Please use `Model.fit`, which supports generators.\n",
      "  warnings.warn('`Model.fit_generator` is deprecated and '\n"
     ]
    },
    {
     "name": "stdout",
     "output_type": "stream",
     "text": [
      "Epoch 1/40\n",
      "1878/1878 [==============================] - ETA: 0s - loss: 0.6547 - accuracy: 0.6223 - precision: 0.6063 - recall: 0.4898 - fbeta_score: 0.5642WARNING:tensorflow:Your input ran out of data; interrupting training. Make sure that your dataset or generator can generate at least `steps_per_epoch * epochs` batches (in this case, 469 batches). You may need to use the repeat() function when building your dataset.\n",
      "1878/1878 [==============================] - 265s 134ms/step - loss: 0.6547 - accuracy: 0.6223 - precision: 0.6063 - recall: 0.4898 - fbeta_score: 0.5642 - val_loss: 0.6162 - val_accuracy: 0.6758 - val_precision: 0.6711 - val_recall: 0.5884 - val_fbeta_score: 0.6465\n",
      "Epoch 2/40\n",
      "1878/1878 [==============================] - 258s 137ms/step - loss: 0.6260 - accuracy: 0.6636 - precision: 0.6528 - recall: 0.5757 - fbeta_score: 0.6245\n",
      "Epoch 3/40\n",
      "1878/1878 [==============================] - 266s 142ms/step - loss: 0.6170 - accuracy: 0.6732 - precision: 0.6629 - recall: 0.5959 - fbeta_score: 0.6389\n",
      "Epoch 4/40\n",
      "1878/1878 [==============================] - 269s 143ms/step - loss: 0.6146 - accuracy: 0.6752 - precision: 0.6641 - recall: 0.5952 - fbeta_score: 0.6399\n",
      "Epoch 5/40\n",
      "1878/1878 [==============================] - 268s 143ms/step - loss: 0.6119 - accuracy: 0.6784 - precision: 0.6658 - recall: 0.6035 - fbeta_score: 0.6436\n",
      "Epoch 6/40\n",
      "1878/1878 [==============================] - 269s 143ms/step - loss: 0.6097 - accuracy: 0.6806 - precision: 0.6681 - recall: 0.6056 - fbeta_score: 0.6460\n",
      "Epoch 7/40\n",
      "1878/1878 [==============================] - 271s 144ms/step - loss: 0.6076 - accuracy: 0.6831 - precision: 0.6696 - recall: 0.6095 - fbeta_score: 0.6487\n",
      "Epoch 8/40\n",
      "1878/1878 [==============================] - 269s 143ms/step - loss: 0.6056 - accuracy: 0.6848 - precision: 0.6717 - recall: 0.6124 - fbeta_score: 0.6512\n",
      "Epoch 9/40\n",
      "1878/1878 [==============================] - 271s 144ms/step - loss: 0.6048 - accuracy: 0.6854 - precision: 0.6731 - recall: 0.6168 - fbeta_score: 0.6530\n",
      "Epoch 10/40\n",
      "1878/1878 [==============================] - 273s 146ms/step - loss: 0.6032 - accuracy: 0.6862 - precision: 0.6727 - recall: 0.6159 - fbeta_score: 0.6528\n",
      "Epoch 11/40\n",
      "1878/1878 [==============================] - 271s 145ms/step - loss: 0.6018 - accuracy: 0.6883 - precision: 0.6732 - recall: 0.6222 - fbeta_score: 0.6551\n",
      "Epoch 12/40\n",
      "1878/1878 [==============================] - 273s 145ms/step - loss: 0.6010 - accuracy: 0.6887 - precision: 0.6747 - recall: 0.6227 - fbeta_score: 0.6560\n",
      "Epoch 13/40\n",
      "1878/1878 [==============================] - 274s 146ms/step - loss: 0.5995 - accuracy: 0.6886 - precision: 0.6736 - recall: 0.6225 - fbeta_score: 0.6557\n",
      "Epoch 14/40\n",
      "1878/1878 [==============================] - 271s 144ms/step - loss: 0.5986 - accuracy: 0.6910 - precision: 0.6775 - recall: 0.6228 - fbeta_score: 0.6588\n",
      "Epoch 15/40\n",
      "1878/1878 [==============================] - 273s 145ms/step - loss: 0.5978 - accuracy: 0.6917 - precision: 0.6788 - recall: 0.6240 - fbeta_score: 0.6597\n",
      "Epoch 16/40\n",
      "1878/1878 [==============================] - 273s 145ms/step - loss: 0.5977 - accuracy: 0.6900 - precision: 0.6746 - recall: 0.6288 - fbeta_score: 0.6579\n",
      "Epoch 17/40\n",
      "1878/1878 [==============================] - 271s 144ms/step - loss: 0.5973 - accuracy: 0.6911 - precision: 0.6743 - recall: 0.6320 - fbeta_score: 0.6581\n",
      "Epoch 18/40\n",
      "1878/1878 [==============================] - 272s 145ms/step - loss: 0.5955 - accuracy: 0.6926 - precision: 0.6770 - recall: 0.6332 - fbeta_score: 0.6606\n",
      "Epoch 19/40\n",
      "1878/1878 [==============================] - 272s 145ms/step - loss: 0.5957 - accuracy: 0.6936 - precision: 0.6795 - recall: 0.6325 - fbeta_score: 0.6623\n",
      "Epoch 20/40\n",
      "1878/1878 [==============================] - 271s 144ms/step - loss: 0.5954 - accuracy: 0.6944 - precision: 0.6780 - recall: 0.6353 - fbeta_score: 0.6617\n",
      "Epoch 21/40\n",
      "1878/1878 [==============================] - 273s 145ms/step - loss: 0.5927 - accuracy: 0.6968 - precision: 0.6823 - recall: 0.6303 - fbeta_score: 0.6640\n",
      "Epoch 22/40\n",
      "1878/1878 [==============================] - 274s 146ms/step - loss: 0.5922 - accuracy: 0.6965 - precision: 0.6839 - recall: 0.6292 - fbeta_score: 0.6650\n",
      "Epoch 23/40\n",
      "1878/1878 [==============================] - 271s 145ms/step - loss: 0.5919 - accuracy: 0.6965 - precision: 0.6833 - recall: 0.6312 - fbeta_score: 0.6653\n",
      "Epoch 24/40\n",
      "1878/1878 [==============================] - 272s 145ms/step - loss: 0.5917 - accuracy: 0.6969 - precision: 0.6821 - recall: 0.6354 - fbeta_score: 0.6654\n",
      "Epoch 25/40\n",
      "1878/1878 [==============================] - 273s 145ms/step - loss: 0.5920 - accuracy: 0.6954 - precision: 0.6825 - recall: 0.6322 - fbeta_score: 0.6644\n",
      "Epoch 26/40\n",
      "1878/1878 [==============================] - 272s 145ms/step - loss: 0.5904 - accuracy: 0.6974 - precision: 0.6823 - recall: 0.6343 - fbeta_score: 0.6652\n",
      "Epoch 27/40\n",
      "1878/1878 [==============================] - 273s 146ms/step - loss: 0.5900 - accuracy: 0.6991 - precision: 0.6849 - recall: 0.6354 - fbeta_score: 0.6678\n",
      "Epoch 28/40\n",
      "1878/1878 [==============================] - 274s 146ms/step - loss: 0.5887 - accuracy: 0.6990 - precision: 0.6823 - recall: 0.6422 - fbeta_score: 0.6676\n",
      "Epoch 29/40\n",
      "1878/1878 [==============================] - 272s 145ms/step - loss: 0.5883 - accuracy: 0.7007 - precision: 0.6858 - recall: 0.6424 - fbeta_score: 0.6692\n",
      "Epoch 30/40\n",
      "1878/1878 [==============================] - 271s 144ms/step - loss: 0.5887 - accuracy: 0.6989 - precision: 0.6863 - recall: 0.6357 - fbeta_score: 0.6683\n",
      "Epoch 31/40\n",
      "1878/1878 [==============================] - 267s 142ms/step - loss: 0.5872 - accuracy: 0.7006 - precision: 0.6844 - recall: 0.6431 - fbeta_score: 0.6691\n",
      "Epoch 32/40\n",
      "1878/1878 [==============================] - 273s 145ms/step - loss: 0.5858 - accuracy: 0.7019 - precision: 0.6888 - recall: 0.6424 - fbeta_score: 0.6721\n",
      "Epoch 33/40\n",
      "1878/1878 [==============================] - 272s 145ms/step - loss: 0.5869 - accuracy: 0.7021 - precision: 0.6891 - recall: 0.6399 - fbeta_score: 0.6716\n",
      "Epoch 34/40\n",
      "1878/1878 [==============================] - 273s 146ms/step - loss: 0.5861 - accuracy: 0.7030 - precision: 0.6874 - recall: 0.6453 - fbeta_score: 0.6714\n",
      "Epoch 35/40\n",
      "1878/1878 [==============================] - 272s 145ms/step - loss: 0.5844 - accuracy: 0.7035 - precision: 0.6901 - recall: 0.6410 - fbeta_score: 0.6728\n",
      "Epoch 36/40\n",
      "1878/1878 [==============================] - 273s 145ms/step - loss: 0.5852 - accuracy: 0.7034 - precision: 0.6915 - recall: 0.6410 - fbeta_score: 0.6736\n",
      "Epoch 37/40\n",
      "1878/1878 [==============================] - 261s 139ms/step - loss: 0.5844 - accuracy: 0.7023 - precision: 0.6875 - recall: 0.6445 - fbeta_score: 0.6714\n",
      "Epoch 38/40\n",
      "1878/1878 [==============================] - 273s 145ms/step - loss: 0.5839 - accuracy: 0.7027 - precision: 0.6894 - recall: 0.6404 - fbeta_score: 0.6722\n",
      "Epoch 39/40\n",
      "1878/1878 [==============================] - 274s 146ms/step - loss: 0.5830 - accuracy: 0.7051 - precision: 0.6887 - recall: 0.6512 - fbeta_score: 0.6744\n",
      "Epoch 40/40\n",
      "1878/1878 [==============================] - 275s 147ms/step - loss: 0.5822 - accuracy: 0.7038 - precision: 0.6909 - recall: 0.6426 - fbeta_score: 0.6742\n"
     ]
    }
   ],
   "source": [
    "train_datagen = ImageDataGenerator(\n",
    "                        featurewise_center=False,  # set input mean to 0 over the dataset\n",
    "                        samplewise_center=False,  # set each sample mean to 0\n",
    "                        featurewise_std_normalization=False,  # divide inputs by std of the dataset\n",
    "                        samplewise_std_normalization=False,  # divide each input by its std\n",
    "                        zca_whitening=False,  # apply ZCA whitening\n",
    "                        rotation_range=10,  # randomly rotate images in the range (degrees, 0 to 180)\n",
    "                        width_shift_range=0.1,  # randomly shift images horizontally (fraction of total width)\n",
    "                        height_shift_range=0.1,  # randomly shift images vertically (fraction of total height)\n",
    "                        horizontal_flip=True,  # randomly flip images\n",
    "                        vertical_flip=False \n",
    ")\n",
    "\n",
    "\n",
    "# Training with data augmentation. If shift_fraction=0., also no augmentation.\n",
    "history = model.fit_generator(\n",
    "    train_datagen.flow(train_tensors,train_labels, batch_size = batch_size),\n",
    "    steps_per_epoch = len(train_tensors) // batch_size,\n",
    "    validation_data = (valid_tensors, valid_labels),\n",
    "    validation_steps = len(valid_tensors) // batch_size,\n",
    "    epochs = Epochs,   \n",
    ")"
   ]
  },
  {
   "cell_type": "code",
   "execution_count": 25,
   "metadata": {
    "execution": {
     "iopub.execute_input": "2022-06-17T09:40:40.560289Z",
     "iopub.status.busy": "2022-06-17T09:40:40.559845Z",
     "iopub.status.idle": "2022-06-17T09:40:43.402442Z",
     "shell.execute_reply": "2022-06-17T09:40:43.401535Z",
     "shell.execute_reply.started": "2022-06-17T09:40:40.560254Z"
    }
   },
   "outputs": [],
   "source": [
    "prediction = model.predict(test_tensors)"
   ]
  },
  {
   "cell_type": "code",
   "execution_count": 26,
   "metadata": {
    "execution": {
     "iopub.execute_input": "2022-06-17T09:40:43.404358Z",
     "iopub.status.busy": "2022-06-17T09:40:43.403991Z",
     "iopub.status.idle": "2022-06-17T09:40:43.424715Z",
     "shell.execute_reply": "2022-06-17T09:40:43.423982Z",
     "shell.execute_reply.started": "2022-06-17T09:40:43.404324Z"
    }
   },
   "outputs": [
    {
     "name": "stdout",
     "output_type": "stream",
     "text": [
      "Precision: 0.593774 %\n",
      "Recall: 0.365597 %\n",
      "Fscore: 0.527881 %\n"
     ]
    }
   ],
   "source": [
    "threshold = 0.5\n",
    "beta = 0.5\n",
    "\n",
    "pre = K.eval(precision_threshold(threshold = threshold)(K.variable(value=test_labels), K.variable(value=prediction)))\n",
    "rec = K.eval(recall_threshold(threshold = threshold)(K.variable(value=test_labels), K.variable(value=prediction)))\n",
    "fsc = K.eval(fbeta_score_threshold(beta = beta, threshold = threshold)(K.variable(value=test_labels), K.variable(value=prediction)))\n",
    "\n",
    "print (\"Precision: %f %%\\nRecall: %f %%\\nFscore: %f %%\"% (pre, rec, fsc))"
   ]
  },
  {
   "cell_type": "code",
   "execution_count": 27,
   "metadata": {
    "execution": {
     "iopub.execute_input": "2022-06-17T09:40:54.544267Z",
     "iopub.status.busy": "2022-06-17T09:40:54.543900Z",
     "iopub.status.idle": "2022-06-17T09:40:54.553838Z",
     "shell.execute_reply": "2022-06-17T09:40:54.552981Z",
     "shell.execute_reply.started": "2022-06-17T09:40:54.544238Z"
    }
   },
   "outputs": [
    {
     "data": {
      "text/plain": [
       "0.7370745"
      ]
     },
     "execution_count": 27,
     "metadata": {},
     "output_type": "execute_result"
    }
   ],
   "source": [
    "K.eval(binary_accuracy(K.variable(value=test_labels), K.variable(value=prediction)))"
   ]
  },
  {
   "cell_type": "code",
   "execution_count": 28,
   "metadata": {
    "execution": {
     "iopub.execute_input": "2022-06-17T09:41:34.069352Z",
     "iopub.status.busy": "2022-06-17T09:41:34.068959Z",
     "iopub.status.idle": "2022-06-17T09:41:34.073184Z",
     "shell.execute_reply": "2022-06-17T09:41:34.072446Z",
     "shell.execute_reply.started": "2022-06-17T09:41:34.069318Z"
    }
   },
   "outputs": [],
   "source": [
    "from sklearn.metrics import roc_auc_score, roc_curve"
   ]
  },
  {
   "cell_type": "code",
   "execution_count": 29,
   "metadata": {
    "execution": {
     "iopub.execute_input": "2022-06-17T09:42:34.414019Z",
     "iopub.status.busy": "2022-06-17T09:42:34.413670Z",
     "iopub.status.idle": "2022-06-17T09:42:34.425751Z",
     "shell.execute_reply": "2022-06-17T09:42:34.424779Z",
     "shell.execute_reply.started": "2022-06-17T09:42:34.413991Z"
    }
   },
   "outputs": [
    {
     "data": {
      "text/plain": [
       "0.7188275267066242"
      ]
     },
     "execution_count": 29,
     "metadata": {},
     "output_type": "execute_result"
    }
   ],
   "source": [
    "roc_auc_score(test_labels, prediction)"
   ]
  },
  {
   "cell_type": "code",
   "execution_count": 30,
   "metadata": {
    "execution": {
     "iopub.execute_input": "2022-06-17T09:42:55.694275Z",
     "iopub.status.busy": "2022-06-17T09:42:55.693909Z",
     "iopub.status.idle": "2022-06-17T09:42:55.931466Z",
     "shell.execute_reply": "2022-06-17T09:42:55.930601Z",
     "shell.execute_reply.started": "2022-06-17T09:42:55.694245Z"
    }
   },
   "outputs": [],
   "source": [
    "model.save('vgg16-model.h5')"
   ]
  },
  {
   "cell_type": "code",
   "execution_count": 31,
   "metadata": {
    "execution": {
     "iopub.execute_input": "2022-06-17T09:43:17.971057Z",
     "iopub.status.busy": "2022-06-17T09:43:17.970713Z",
     "iopub.status.idle": "2022-06-17T09:43:18.080564Z",
     "shell.execute_reply": "2022-06-17T09:43:18.079778Z",
     "shell.execute_reply.started": "2022-06-17T09:43:17.971029Z"
    }
   },
   "outputs": [],
   "source": [
    "model.save_weights('vgg16-w-model.h5')"
   ]
  },
  {
   "cell_type": "code",
   "execution_count": null,
   "metadata": {},
   "outputs": [],
   "source": []
  }
 ],
 "metadata": {
  "kernelspec": {
   "display_name": "Python 3 (ipykernel)",
   "language": "python",
   "name": "python3"
  },
  "language_info": {
   "codemirror_mode": {
    "name": "ipython",
    "version": 3
   },
   "file_extension": ".py",
   "mimetype": "text/x-python",
   "name": "python",
   "nbconvert_exporter": "python",
   "pygments_lexer": "ipython3",
   "version": "3.9.13"
  }
 },
 "nbformat": 4,
 "nbformat_minor": 4
}
